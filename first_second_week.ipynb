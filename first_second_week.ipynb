{
 "cells": [
  {
   "cell_type": "code",
   "execution_count": 1,
   "metadata": {},
   "outputs": [],
   "source": [
    "import pandas as pd\n",
    "# import scipy\n",
    "import plotly.express as px\n",
    "import pickle\n",
    "from function import *\n",
    "from sklearn.model_selection import train_test_split"
   ]
  },
  {
   "cell_type": "markdown",
   "metadata": {},
   "source": [
    "parse_dates — распознавать ли даты, можно передать номера строк;  \n",
    "date_parser — парсер дат;  "
   ]
  },
  {
   "cell_type": "code",
   "execution_count": 2,
   "metadata": {},
   "outputs": [],
   "source": [
    "# %%time\n",
    "# events = pd.read_csv('data/events.csv',\n",
    "#                      parse_dates=['timestamp'],\n",
    "#                      converters={'timestamp': lambda x: pd.to_datetime(x,unit='ms').strftime('%Y-%m-%d')})\n",
    "# events.head()"
   ]
  },
  {
   "cell_type": "code",
   "execution_count": 3,
   "metadata": {},
   "outputs": [],
   "source": [
    "# %%time\n",
    "# events = pd.read_csv('data/events.csv',\n",
    "#                      parse_dates=['timestamp'], \n",
    "#                      date_parser=lambda x: pd.to_datetime(x, unit='ms').strftime('%Y-%m-%d'))\n",
    "# events.head()"
   ]
  },
  {
   "cell_type": "code",
   "execution_count": 4,
   "metadata": {},
   "outputs": [
    {
     "data": {
      "text/html": [
       "<div>\n",
       "<style scoped>\n",
       "    .dataframe tbody tr th:only-of-type {\n",
       "        vertical-align: middle;\n",
       "    }\n",
       "\n",
       "    .dataframe tbody tr th {\n",
       "        vertical-align: top;\n",
       "    }\n",
       "\n",
       "    .dataframe thead th {\n",
       "        text-align: right;\n",
       "    }\n",
       "</style>\n",
       "<table border=\"1\" class=\"dataframe\">\n",
       "  <thead>\n",
       "    <tr style=\"text-align: right;\">\n",
       "      <th></th>\n",
       "      <th>timestamp</th>\n",
       "      <th>visitorid</th>\n",
       "      <th>event</th>\n",
       "      <th>itemid</th>\n",
       "      <th>transactionid</th>\n",
       "    </tr>\n",
       "  </thead>\n",
       "  <tbody>\n",
       "    <tr>\n",
       "      <th>0</th>\n",
       "      <td>2015-06-02 05:02:12.117</td>\n",
       "      <td>257597</td>\n",
       "      <td>view</td>\n",
       "      <td>355908</td>\n",
       "      <td>NaN</td>\n",
       "    </tr>\n",
       "  </tbody>\n",
       "</table>\n",
       "</div>"
      ],
      "text/plain": [
       "                timestamp  visitorid event  itemid  transactionid\n",
       "0 2015-06-02 05:02:12.117     257597  view  355908            NaN"
      ]
     },
     "execution_count": 4,
     "metadata": {},
     "output_type": "execute_result"
    }
   ],
   "source": [
    "events = pd.read_csv('data/events.csv')\n",
    "events['timestamp'] = pd.to_datetime(events.timestamp,unit='ms',)#.dt.strftime('%Y-%m-%d')\n",
    "events.head(1)"
   ]
  },
  {
   "cell_type": "markdown",
   "metadata": {},
   "source": [
    "Одно и тоже действие можно выполнить разными путями и затратить разное время и ресурсы! Как оказалость, самое простое и быстрое это сделать вручную, без применения параметров read_csv()"
   ]
  },
  {
   "cell_type": "code",
   "execution_count": 5,
   "metadata": {},
   "outputs": [
    {
     "data": {
      "text/html": [
       "<div>\n",
       "<style scoped>\n",
       "    .dataframe tbody tr th:only-of-type {\n",
       "        vertical-align: middle;\n",
       "    }\n",
       "\n",
       "    .dataframe tbody tr th {\n",
       "        vertical-align: top;\n",
       "    }\n",
       "\n",
       "    .dataframe thead th {\n",
       "        text-align: right;\n",
       "    }\n",
       "</style>\n",
       "<table border=\"1\" class=\"dataframe\">\n",
       "  <thead>\n",
       "    <tr style=\"text-align: right;\">\n",
       "      <th></th>\n",
       "      <th>categoryid</th>\n",
       "      <th>parentid</th>\n",
       "    </tr>\n",
       "  </thead>\n",
       "  <tbody>\n",
       "    <tr>\n",
       "      <th>0</th>\n",
       "      <td>1016</td>\n",
       "      <td>213.0</td>\n",
       "    </tr>\n",
       "  </tbody>\n",
       "</table>\n",
       "</div>"
      ],
      "text/plain": [
       "   categoryid  parentid\n",
       "0        1016     213.0"
      ]
     },
     "execution_count": 5,
     "metadata": {},
     "output_type": "execute_result"
    }
   ],
   "source": [
    "category_tree = pd.read_csv('data/category_tree.csv')\n",
    "category_tree.head(1)"
   ]
  },
  {
   "cell_type": "code",
   "execution_count": 6,
   "metadata": {},
   "outputs": [
    {
     "data": {
      "text/html": [
       "<div>\n",
       "<style scoped>\n",
       "    .dataframe tbody tr th:only-of-type {\n",
       "        vertical-align: middle;\n",
       "    }\n",
       "\n",
       "    .dataframe tbody tr th {\n",
       "        vertical-align: top;\n",
       "    }\n",
       "\n",
       "    .dataframe thead th {\n",
       "        text-align: right;\n",
       "    }\n",
       "</style>\n",
       "<table border=\"1\" class=\"dataframe\">\n",
       "  <thead>\n",
       "    <tr style=\"text-align: right;\">\n",
       "      <th></th>\n",
       "      <th>timestamp</th>\n",
       "      <th>itemid</th>\n",
       "      <th>property</th>\n",
       "      <th>value</th>\n",
       "    </tr>\n",
       "  </thead>\n",
       "  <tbody>\n",
       "    <tr>\n",
       "      <th>0</th>\n",
       "      <td>1435460400000</td>\n",
       "      <td>460429</td>\n",
       "      <td>categoryid</td>\n",
       "      <td>1338</td>\n",
       "    </tr>\n",
       "  </tbody>\n",
       "</table>\n",
       "</div>"
      ],
      "text/plain": [
       "       timestamp  itemid    property value\n",
       "0  1435460400000  460429  categoryid  1338"
      ]
     },
     "execution_count": 6,
     "metadata": {},
     "output_type": "execute_result"
    }
   ],
   "source": [
    "item_properties_part1 = pd.read_csv('data/item_properties_part1.csv')\n",
    "item_properties_part1.head(1)"
   ]
  },
  {
   "cell_type": "code",
   "execution_count": 7,
   "metadata": {},
   "outputs": [
    {
     "data": {
      "text/html": [
       "<div>\n",
       "<style scoped>\n",
       "    .dataframe tbody tr th:only-of-type {\n",
       "        vertical-align: middle;\n",
       "    }\n",
       "\n",
       "    .dataframe tbody tr th {\n",
       "        vertical-align: top;\n",
       "    }\n",
       "\n",
       "    .dataframe thead th {\n",
       "        text-align: right;\n",
       "    }\n",
       "</style>\n",
       "<table border=\"1\" class=\"dataframe\">\n",
       "  <thead>\n",
       "    <tr style=\"text-align: right;\">\n",
       "      <th></th>\n",
       "      <th>timestamp</th>\n",
       "      <th>itemid</th>\n",
       "      <th>property</th>\n",
       "      <th>value</th>\n",
       "    </tr>\n",
       "  </thead>\n",
       "  <tbody>\n",
       "    <tr>\n",
       "      <th>0</th>\n",
       "      <td>1433041200000</td>\n",
       "      <td>183478</td>\n",
       "      <td>561</td>\n",
       "      <td>769062</td>\n",
       "    </tr>\n",
       "  </tbody>\n",
       "</table>\n",
       "</div>"
      ],
      "text/plain": [
       "       timestamp  itemid property   value\n",
       "0  1433041200000  183478      561  769062"
      ]
     },
     "execution_count": 7,
     "metadata": {},
     "output_type": "execute_result"
    }
   ],
   "source": [
    "item_properties_part2 = pd.read_csv('data/item_properties_part2.csv')\n",
    "item_properties_part2.head(1)"
   ]
  },
  {
   "cell_type": "code",
   "execution_count": 8,
   "metadata": {},
   "outputs": [
    {
     "data": {
      "text/html": [
       "<div>\n",
       "<style scoped>\n",
       "    .dataframe tbody tr th:only-of-type {\n",
       "        vertical-align: middle;\n",
       "    }\n",
       "\n",
       "    .dataframe tbody tr th {\n",
       "        vertical-align: top;\n",
       "    }\n",
       "\n",
       "    .dataframe thead th {\n",
       "        text-align: right;\n",
       "    }\n",
       "</style>\n",
       "<table border=\"1\" class=\"dataframe\">\n",
       "  <thead>\n",
       "    <tr style=\"text-align: right;\">\n",
       "      <th></th>\n",
       "      <th>timestamp</th>\n",
       "      <th>itemid</th>\n",
       "      <th>property</th>\n",
       "      <th>value</th>\n",
       "    </tr>\n",
       "  </thead>\n",
       "  <tbody>\n",
       "    <tr>\n",
       "      <th>0</th>\n",
       "      <td>2015-06-28</td>\n",
       "      <td>460429</td>\n",
       "      <td>categoryid</td>\n",
       "      <td>1338</td>\n",
       "    </tr>\n",
       "  </tbody>\n",
       "</table>\n",
       "</div>"
      ],
      "text/plain": [
       "    timestamp  itemid    property value\n",
       "0  2015-06-28  460429  categoryid  1338"
      ]
     },
     "execution_count": 8,
     "metadata": {},
     "output_type": "execute_result"
    }
   ],
   "source": [
    "item_properties = pd.concat([item_properties_part1,item_properties_part2],ignore_index=True)\n",
    "item_properties['timestamp']=pd.to_datetime(item_properties.timestamp,unit='ms',).dt.strftime('%Y-%m-%d')\n",
    "item_properties.head(1)"
   ]
  },
  {
   "cell_type": "code",
   "execution_count": 9,
   "metadata": {},
   "outputs": [
    {
     "data": {
      "text/html": [
       "<div>\n",
       "<style scoped>\n",
       "    .dataframe tbody tr th:only-of-type {\n",
       "        vertical-align: middle;\n",
       "    }\n",
       "\n",
       "    .dataframe tbody tr th {\n",
       "        vertical-align: top;\n",
       "    }\n",
       "\n",
       "    .dataframe thead th {\n",
       "        text-align: right;\n",
       "    }\n",
       "</style>\n",
       "<table border=\"1\" class=\"dataframe\">\n",
       "  <thead>\n",
       "    <tr style=\"text-align: right;\">\n",
       "      <th></th>\n",
       "      <th>timestamp</th>\n",
       "      <th>itemid</th>\n",
       "      <th>property</th>\n",
       "      <th>value</th>\n",
       "    </tr>\n",
       "  </thead>\n",
       "  <tbody>\n",
       "    <tr>\n",
       "      <th>count</th>\n",
       "      <td>20275902</td>\n",
       "      <td>2.027590e+07</td>\n",
       "      <td>20275902</td>\n",
       "      <td>20275902</td>\n",
       "    </tr>\n",
       "    <tr>\n",
       "      <th>unique</th>\n",
       "      <td>18</td>\n",
       "      <td>NaN</td>\n",
       "      <td>1104</td>\n",
       "      <td>1966868</td>\n",
       "    </tr>\n",
       "    <tr>\n",
       "      <th>top</th>\n",
       "      <td>2015-05-10</td>\n",
       "      <td>NaN</td>\n",
       "      <td>888</td>\n",
       "      <td>769062</td>\n",
       "    </tr>\n",
       "    <tr>\n",
       "      <th>freq</th>\n",
       "      <td>3012756</td>\n",
       "      <td>NaN</td>\n",
       "      <td>3000398</td>\n",
       "      <td>1537247</td>\n",
       "    </tr>\n",
       "    <tr>\n",
       "      <th>mean</th>\n",
       "      <td>NaN</td>\n",
       "      <td>2.333904e+05</td>\n",
       "      <td>NaN</td>\n",
       "      <td>NaN</td>\n",
       "    </tr>\n",
       "    <tr>\n",
       "      <th>std</th>\n",
       "      <td>NaN</td>\n",
       "      <td>1.348452e+05</td>\n",
       "      <td>NaN</td>\n",
       "      <td>NaN</td>\n",
       "    </tr>\n",
       "    <tr>\n",
       "      <th>min</th>\n",
       "      <td>NaN</td>\n",
       "      <td>0.000000e+00</td>\n",
       "      <td>NaN</td>\n",
       "      <td>NaN</td>\n",
       "    </tr>\n",
       "    <tr>\n",
       "      <th>25%</th>\n",
       "      <td>NaN</td>\n",
       "      <td>1.165160e+05</td>\n",
       "      <td>NaN</td>\n",
       "      <td>NaN</td>\n",
       "    </tr>\n",
       "    <tr>\n",
       "      <th>50%</th>\n",
       "      <td>NaN</td>\n",
       "      <td>2.334830e+05</td>\n",
       "      <td>NaN</td>\n",
       "      <td>NaN</td>\n",
       "    </tr>\n",
       "    <tr>\n",
       "      <th>75%</th>\n",
       "      <td>NaN</td>\n",
       "      <td>3.503040e+05</td>\n",
       "      <td>NaN</td>\n",
       "      <td>NaN</td>\n",
       "    </tr>\n",
       "    <tr>\n",
       "      <th>max</th>\n",
       "      <td>NaN</td>\n",
       "      <td>4.668660e+05</td>\n",
       "      <td>NaN</td>\n",
       "      <td>NaN</td>\n",
       "    </tr>\n",
       "  </tbody>\n",
       "</table>\n",
       "</div>"
      ],
      "text/plain": [
       "         timestamp        itemid  property     value\n",
       "count     20275902  2.027590e+07  20275902  20275902\n",
       "unique          18           NaN      1104   1966868\n",
       "top     2015-05-10           NaN       888    769062\n",
       "freq       3012756           NaN   3000398   1537247\n",
       "mean           NaN  2.333904e+05       NaN       NaN\n",
       "std            NaN  1.348452e+05       NaN       NaN\n",
       "min            NaN  0.000000e+00       NaN       NaN\n",
       "25%            NaN  1.165160e+05       NaN       NaN\n",
       "50%            NaN  2.334830e+05       NaN       NaN\n",
       "75%            NaN  3.503040e+05       NaN       NaN\n",
       "max            NaN  4.668660e+05       NaN       NaN"
      ]
     },
     "execution_count": 9,
     "metadata": {},
     "output_type": "execute_result"
    }
   ],
   "source": [
    "item_properties.describe(include='all')"
   ]
  },
  {
   "cell_type": "markdown",
   "metadata": {},
   "source": [
    "Задание 2.1  \n",
    "Сколько записей событий находится в датасете? Ответ введите без пробелов и знаков препинания."
   ]
  },
  {
   "cell_type": "code",
   "execution_count": 10,
   "metadata": {},
   "outputs": [
    {
     "data": {
      "text/plain": [
       "2756101"
      ]
     },
     "execution_count": 10,
     "metadata": {},
     "output_type": "execute_result"
    }
   ],
   "source": [
    "events.shape[0]"
   ]
  },
  {
   "cell_type": "markdown",
   "metadata": {},
   "source": [
    "Задание 2.2  \n",
    "Какие типы событий содержатся в датасете? Выберите все верные варианты."
   ]
  },
  {
   "cell_type": "code",
   "execution_count": 11,
   "metadata": {},
   "outputs": [
    {
     "data": {
      "text/plain": [
       "array(['view', 'addtocart', 'transaction'], dtype=object)"
      ]
     },
     "execution_count": 11,
     "metadata": {},
     "output_type": "execute_result"
    }
   ],
   "source": [
    "events.event.unique()"
   ]
  },
  {
   "cell_type": "markdown",
   "metadata": {},
   "source": [
    "Задание 2.3  \n",
    "Сколько уникальных признаков товара есть в датасете? Ответ вводите без пробелов и знаков препинания."
   ]
  },
  {
   "cell_type": "code",
   "execution_count": 12,
   "metadata": {},
   "outputs": [
    {
     "data": {
      "text/plain": [
       "1104"
      ]
     },
     "execution_count": 12,
     "metadata": {},
     "output_type": "execute_result"
    }
   ],
   "source": [
    "item_properties.property.nunique()"
   ]
  },
  {
   "cell_type": "markdown",
   "metadata": {},
   "source": [
    "Задание 2.4  \n",
    "Анастасия: Кстати, слушай… Это, конечно, не моё дело, но мы же не можем оптимизировать оборот?  \n",
    "Как думаешь, как мы будем измерять качество рекомендаций? У нас вроде только три места для показа товаров на главной странице.  \n",
    "А ведь клиента интересует только продажи!  \n",
    "\n",
    "Precision@3  "
   ]
  },
  {
   "cell_type": "code",
   "execution_count": 13,
   "metadata": {},
   "outputs": [],
   "source": [
    "events = events.drop_duplicates()\n",
    "item_properties = item_properties.drop_duplicates()\n",
    "category_tree = category_tree.drop_duplicates()"
   ]
  },
  {
   "cell_type": "markdown",
   "metadata": {},
   "source": [
    "Можешь, пожалуйста, прикинуть быстренько? Если мы всем будем рекомендовать топовые товары (по числу транзакций), то какое качество рекомендаций получится?\n",
    "\n",
    "Короче, давай посчитаем такую штуку: возьмём статистику до 1 июля включительно и потом прикинем, как эти товары покупались после 1 июля. Мне нужно узнать, сколько процентов покупок мы можем так покрыть. "
   ]
  },
  {
   "cell_type": "markdown",
   "metadata": {},
   "source": [
    "Задание 4.1  \n",
    "Какой процент продаж обеспечивают топовые товары (точка отсечения — 1 июля)? Для расчёта используйте топ-3 товаров по числу транзакций."
   ]
  },
  {
   "cell_type": "code",
   "execution_count": 14,
   "metadata": {},
   "outputs": [
    {
     "name": "stdout",
     "output_type": "stream",
     "text": [
      "2015-09-18 02:59:47.788000\n",
      "2015-05-03 03:00:04.384000\n"
     ]
    }
   ],
   "source": [
    "task_date = '2015-07-01'\n",
    "\n",
    "print(events.timestamp.max())\n",
    "print(events.timestamp.min())"
   ]
  },
  {
   "cell_type": "code",
   "execution_count": 15,
   "metadata": {},
   "outputs": [
    {
     "name": "stdout",
     "output_type": "stream",
     "text": [
      "0.999\n"
     ]
    }
   ],
   "source": [
    "# @Владислав_Масленников_ментор НЕ БЬЯСНИЛ ПОЧЕМУ ЭТО РЕШЕНИЕ НЕВЕРНОЕ! ПРОСТО КИНУЛ ГОТОВОЕ РЕШЕНИЕ И ВСЕ!!!\n",
    "# Хотя все сделано в соответствии с заданием.\n",
    "\n",
    "temp = events[(events.timestamp.dt.strftime('%Y-%m-%d') <= task_date)&(events.event == 'transaction')].groupby('itemid',as_index=False)['transactionid'].sum()\n",
    "total_sales = temp['transactionid'].sum()\n",
    "temp['procentage'] = temp['transactionid']/total_sales\n",
    "top_3 = temp.nlargest(3, ['transactionid'], keep='first')['procentage'].sum() * 100\n",
    "print(\"%.3f\" % top_3)"
   ]
  },
  {
   "cell_type": "markdown",
   "metadata": {},
   "source": [
    "Другой вариант решения!"
   ]
  },
  {
   "cell_type": "code",
   "execution_count": 16,
   "metadata": {},
   "outputs": [
    {
     "name": "stdout",
     "output_type": "stream",
     "text": [
      "0.985\n"
     ]
    },
    {
     "data": {
      "text/plain": [
       "[119736, 369447, 7943]"
      ]
     },
     "execution_count": 16,
     "metadata": {},
     "output_type": "execute_result"
    }
   ],
   "source": [
    "temp = events[(events.timestamp.dt.strftime('%Y-%m-%d') <= task_date)&(events.event == 'transaction')].groupby('itemid',as_index=False)['transactionid'].count()\n",
    "total_sales = temp['transactionid'].sum()\n",
    "temp['transactionid'] = temp['transactionid']/total_sales\n",
    "top_3 = temp.nlargest(3, ['transactionid'], keep='first')['transactionid'].sum() * 100\n",
    "print(\"%.3f\" % top_3)\n",
    "top_list = temp.nlargest(3, ['transactionid'], keep='first')['itemid'].to_list()\n",
    "top_list"
   ]
  },
  {
   "cell_type": "code",
   "execution_count": 17,
   "metadata": {},
   "outputs": [
    {
     "data": {
      "text/html": [
       "<div>\n",
       "<style scoped>\n",
       "    .dataframe tbody tr th:only-of-type {\n",
       "        vertical-align: middle;\n",
       "    }\n",
       "\n",
       "    .dataframe tbody tr th {\n",
       "        vertical-align: top;\n",
       "    }\n",
       "\n",
       "    .dataframe thead th {\n",
       "        text-align: right;\n",
       "    }\n",
       "</style>\n",
       "<table border=\"1\" class=\"dataframe\">\n",
       "  <thead>\n",
       "    <tr style=\"text-align: right;\">\n",
       "      <th></th>\n",
       "      <th>itemid</th>\n",
       "      <th>transactionid</th>\n",
       "    </tr>\n",
       "  </thead>\n",
       "  <tbody>\n",
       "    <tr>\n",
       "      <th>125</th>\n",
       "      <td>7943</td>\n",
       "      <td>0.001269</td>\n",
       "    </tr>\n",
       "    <tr>\n",
       "      <th>1925</th>\n",
       "      <td>119736</td>\n",
       "      <td>0.004838</td>\n",
       "    </tr>\n",
       "  </tbody>\n",
       "</table>\n",
       "</div>"
      ],
      "text/plain": [
       "      itemid  transactionid\n",
       "125     7943       0.001269\n",
       "1925  119736       0.004838"
      ]
     },
     "metadata": {},
     "output_type": "display_data"
    },
    {
     "data": {
      "text/plain": [
       "0.610723350253807"
      ]
     },
     "execution_count": 17,
     "metadata": {},
     "output_type": "execute_result"
    }
   ],
   "source": [
    "# как эти товары покупались после 1 июля.\n",
    "temp = events[(events.timestamp.dt.strftime('%Y-%m-%d') > task_date)&(events.event == 'transaction')].groupby('itemid',as_index=False)['transactionid'].count()\n",
    "total_sales = temp['transactionid'].sum()\n",
    "temp['transactionid'] = temp['transactionid']/total_sales\n",
    "display(temp[temp.itemid.isin(top_list)])\n",
    "\n",
    "temp[temp.itemid.isin(top_list)]['transactionid'].sum() * 100"
   ]
  },
  {
   "cell_type": "code",
   "execution_count": 18,
   "metadata": {},
   "outputs": [
    {
     "data": {
      "text/html": [
       "<div>\n",
       "<style scoped>\n",
       "    .dataframe tbody tr th:only-of-type {\n",
       "        vertical-align: middle;\n",
       "    }\n",
       "\n",
       "    .dataframe tbody tr th {\n",
       "        vertical-align: top;\n",
       "    }\n",
       "\n",
       "    .dataframe thead th {\n",
       "        text-align: right;\n",
       "    }\n",
       "</style>\n",
       "<table border=\"1\" class=\"dataframe\">\n",
       "  <thead>\n",
       "    <tr style=\"text-align: right;\">\n",
       "      <th></th>\n",
       "      <th>timestamp</th>\n",
       "      <th>itemid</th>\n",
       "      <th>property</th>\n",
       "      <th>value</th>\n",
       "    </tr>\n",
       "  </thead>\n",
       "  <tbody>\n",
       "    <tr>\n",
       "      <th>0</th>\n",
       "      <td>2015-06-28</td>\n",
       "      <td>460429</td>\n",
       "      <td>categoryid</td>\n",
       "      <td>1338</td>\n",
       "    </tr>\n",
       "    <tr>\n",
       "      <th>1</th>\n",
       "      <td>2015-09-06</td>\n",
       "      <td>206783</td>\n",
       "      <td>888</td>\n",
       "      <td>1116713 960601 n277.200</td>\n",
       "    </tr>\n",
       "    <tr>\n",
       "      <th>2</th>\n",
       "      <td>2015-08-09</td>\n",
       "      <td>395014</td>\n",
       "      <td>400</td>\n",
       "      <td>n552.000 639502 n720.000 424566</td>\n",
       "    </tr>\n",
       "    <tr>\n",
       "      <th>3</th>\n",
       "      <td>2015-05-10</td>\n",
       "      <td>59481</td>\n",
       "      <td>790</td>\n",
       "      <td>n15360.000</td>\n",
       "    </tr>\n",
       "    <tr>\n",
       "      <th>4</th>\n",
       "      <td>2015-05-17</td>\n",
       "      <td>156781</td>\n",
       "      <td>917</td>\n",
       "      <td>828513</td>\n",
       "    </tr>\n",
       "    <tr>\n",
       "      <th>...</th>\n",
       "      <td>...</td>\n",
       "      <td>...</td>\n",
       "      <td>...</td>\n",
       "      <td>...</td>\n",
       "    </tr>\n",
       "    <tr>\n",
       "      <th>20275897</th>\n",
       "      <td>2015-06-07</td>\n",
       "      <td>236931</td>\n",
       "      <td>929</td>\n",
       "      <td>n12.000</td>\n",
       "    </tr>\n",
       "    <tr>\n",
       "      <th>20275898</th>\n",
       "      <td>2015-08-30</td>\n",
       "      <td>455746</td>\n",
       "      <td>6</td>\n",
       "      <td>150169 639134</td>\n",
       "    </tr>\n",
       "    <tr>\n",
       "      <th>20275899</th>\n",
       "      <td>2015-08-16</td>\n",
       "      <td>347565</td>\n",
       "      <td>686</td>\n",
       "      <td>610834</td>\n",
       "    </tr>\n",
       "    <tr>\n",
       "      <th>20275900</th>\n",
       "      <td>2015-06-07</td>\n",
       "      <td>287231</td>\n",
       "      <td>867</td>\n",
       "      <td>769062</td>\n",
       "    </tr>\n",
       "    <tr>\n",
       "      <th>20275901</th>\n",
       "      <td>2015-09-13</td>\n",
       "      <td>275768</td>\n",
       "      <td>888</td>\n",
       "      <td>888666 n10800.000 746840 1318567</td>\n",
       "    </tr>\n",
       "  </tbody>\n",
       "</table>\n",
       "<p>20275902 rows × 4 columns</p>\n",
       "</div>"
      ],
      "text/plain": [
       "           timestamp  itemid    property                             value\n",
       "0         2015-06-28  460429  categoryid                              1338\n",
       "1         2015-09-06  206783         888           1116713 960601 n277.200\n",
       "2         2015-08-09  395014         400   n552.000 639502 n720.000 424566\n",
       "3         2015-05-10   59481         790                        n15360.000\n",
       "4         2015-05-17  156781         917                            828513\n",
       "...              ...     ...         ...                               ...\n",
       "20275897  2015-06-07  236931         929                           n12.000\n",
       "20275898  2015-08-30  455746           6                     150169 639134\n",
       "20275899  2015-08-16  347565         686                            610834\n",
       "20275900  2015-06-07  287231         867                            769062\n",
       "20275901  2015-09-13  275768         888  888666 n10800.000 746840 1318567\n",
       "\n",
       "[20275902 rows x 4 columns]"
      ]
     },
     "execution_count": 18,
     "metadata": {},
     "output_type": "execute_result"
    }
   ],
   "source": [
    "item_properties"
   ]
  },
  {
   "cell_type": "code",
   "execution_count": 19,
   "metadata": {},
   "outputs": [
    {
     "data": {
      "text/html": [
       "<div>\n",
       "<style scoped>\n",
       "    .dataframe tbody tr th:only-of-type {\n",
       "        vertical-align: middle;\n",
       "    }\n",
       "\n",
       "    .dataframe tbody tr th {\n",
       "        vertical-align: top;\n",
       "    }\n",
       "\n",
       "    .dataframe thead th {\n",
       "        text-align: right;\n",
       "    }\n",
       "</style>\n",
       "<table border=\"1\" class=\"dataframe\">\n",
       "  <thead>\n",
       "    <tr style=\"text-align: right;\">\n",
       "      <th></th>\n",
       "      <th>timestamp</th>\n",
       "      <th>visitorid</th>\n",
       "      <th>event</th>\n",
       "      <th>itemid</th>\n",
       "      <th>transactionid</th>\n",
       "      <th>day_of_week</th>\n",
       "      <th>year</th>\n",
       "      <th>month</th>\n",
       "      <th>day</th>\n",
       "      <th>hour</th>\n",
       "      <th>minute</th>\n",
       "    </tr>\n",
       "  </thead>\n",
       "  <tbody>\n",
       "    <tr>\n",
       "      <th>0</th>\n",
       "      <td>2015-06-02 05:02:12.117</td>\n",
       "      <td>257597</td>\n",
       "      <td>view</td>\n",
       "      <td>355908</td>\n",
       "      <td>NaN</td>\n",
       "      <td>1</td>\n",
       "      <td>2015</td>\n",
       "      <td>6</td>\n",
       "      <td>2</td>\n",
       "      <td>5</td>\n",
       "      <td>2</td>\n",
       "    </tr>\n",
       "    <tr>\n",
       "      <th>1</th>\n",
       "      <td>2015-06-02 05:50:14.164</td>\n",
       "      <td>992329</td>\n",
       "      <td>view</td>\n",
       "      <td>248676</td>\n",
       "      <td>NaN</td>\n",
       "      <td>1</td>\n",
       "      <td>2015</td>\n",
       "      <td>6</td>\n",
       "      <td>2</td>\n",
       "      <td>5</td>\n",
       "      <td>50</td>\n",
       "    </tr>\n",
       "    <tr>\n",
       "      <th>2</th>\n",
       "      <td>2015-06-02 05:13:19.827</td>\n",
       "      <td>111016</td>\n",
       "      <td>view</td>\n",
       "      <td>318965</td>\n",
       "      <td>NaN</td>\n",
       "      <td>1</td>\n",
       "      <td>2015</td>\n",
       "      <td>6</td>\n",
       "      <td>2</td>\n",
       "      <td>5</td>\n",
       "      <td>13</td>\n",
       "    </tr>\n",
       "    <tr>\n",
       "      <th>3</th>\n",
       "      <td>2015-06-02 05:12:35.914</td>\n",
       "      <td>483717</td>\n",
       "      <td>view</td>\n",
       "      <td>253185</td>\n",
       "      <td>NaN</td>\n",
       "      <td>1</td>\n",
       "      <td>2015</td>\n",
       "      <td>6</td>\n",
       "      <td>2</td>\n",
       "      <td>5</td>\n",
       "      <td>12</td>\n",
       "    </tr>\n",
       "    <tr>\n",
       "      <th>4</th>\n",
       "      <td>2015-06-02 05:02:17.106</td>\n",
       "      <td>951259</td>\n",
       "      <td>view</td>\n",
       "      <td>367447</td>\n",
       "      <td>NaN</td>\n",
       "      <td>1</td>\n",
       "      <td>2015</td>\n",
       "      <td>6</td>\n",
       "      <td>2</td>\n",
       "      <td>5</td>\n",
       "      <td>2</td>\n",
       "    </tr>\n",
       "  </tbody>\n",
       "</table>\n",
       "</div>"
      ],
      "text/plain": [
       "                timestamp  visitorid event  itemid  transactionid  \\\n",
       "0 2015-06-02 05:02:12.117     257597  view  355908            NaN   \n",
       "1 2015-06-02 05:50:14.164     992329  view  248676            NaN   \n",
       "2 2015-06-02 05:13:19.827     111016  view  318965            NaN   \n",
       "3 2015-06-02 05:12:35.914     483717  view  253185            NaN   \n",
       "4 2015-06-02 05:02:17.106     951259  view  367447            NaN   \n",
       "\n",
       "   day_of_week  year  month  day  hour  minute  \n",
       "0            1  2015      6    2     5       2  \n",
       "1            1  2015      6    2     5      50  \n",
       "2            1  2015      6    2     5      13  \n",
       "3            1  2015      6    2     5      12  \n",
       "4            1  2015      6    2     5       2  "
      ]
     },
     "execution_count": 19,
     "metadata": {},
     "output_type": "execute_result"
    }
   ],
   "source": [
    "events['day_of_week'] = events['timestamp'].dt.weekday\n",
    "events['year'] = events['timestamp'].dt.year\n",
    "events['month'] = events['timestamp'].dt.month\n",
    "events['day'] = events['timestamp'].dt.day\n",
    "events['hour'] = events['timestamp'].dt.hour\n",
    "events['minute'] = events['timestamp'].dt.minute\n",
    "\n",
    "events.head()"
   ]
  },
  {
   "cell_type": "markdown",
   "metadata": {},
   "source": [
    "Когда я училась в школе нас учили:\n",
    "\n",
    "Утро: с 05 до 11 часов.\n",
    "\n",
    "День: с 11 до 17 часов.\n",
    "\n",
    "Вечер: с 17 до 23 часов.\n",
    "\n",
    "Ночь: с 23 до 05 часов\n",
    "\n",
    "В Америке обычно выделяют следующие части суток:\n",
    "\n",
    "Утро: с 6 до 12 часов.\n",
    "\n",
    "День: с 12 до 18 часов.\n",
    "\n",
    "Вечер: с 18 до 22 часов.\n",
    "\n",
    "Конечно, точные границы могут варьироваться в зависимости от индивидуальных привычек и регионов, но в общем, это самые распространенные временные интервалы. Какое время суток тебе больше всего нравится?\n",
    "\n",
    "\n",
    "деление суток на утро день вечер в россии\n",
    "\n",
    "В России, как правило, сутки делятся следующим образом:\n",
    "\n",
    "Утро: с 6 до 12 часов.\n",
    "\n",
    "День: с 12 до 18 часов.\n",
    "\n",
    "Вечер: с 18 до 24 часов (полуночи).\n",
    "\n",
    "Некоторые также выделяют ночь: с 24 часов до 6 утра. Это деление достаточно общее, и, конечно, может немного варьироваться в зависимости от личных предпочтений. В какое время суток ты чувствуешь себя наиболее продуктивно?\n",
    "\n",
    "\n",
    "по данным этого сайта:\n",
    "https://weather.fandom.com/ru/wiki/%D0%92%D1%80%D0%B5%D0%BC%D0%B5%D0%BD%D0%B0_%D1%81%D1%83%D1%82%D0%BE%D0%BA\n",
    "\n",
    "Времена суток\n",
    "Ниже представлена классификация времён суток.\n",
    "\n",
    "Время суток\tПериод\tСостояние неба\n",
    "Ночь\tС 22:00 по 4:59\tТемно\n",
    "Утро\tС 5:00 по 11:59\tРассвет (Сумерки зимой)\n",
    "День\tС 12:00 по 16:59\tСветло\n",
    "Вечер\tС 17:00 по 21:59\tСумерки\n",
    "Данные времена суток имеют и более углублённую классификацию.\n",
    "\n",
    "Например, ночь делится на дополуночную ночь (22:00-0:00), глубокую ночь (0:00-3:00) и предрассветную ночь (3:00-5:00).\n",
    "\n",
    "Утро делится на раннее утро (5:00-8:00), среднее утро (8:00-10:00) и позднее утро (10:00-12:00).\n",
    "\n",
    "День, в свою очередь, делится на полдень (12:00), середину дня (13:00-16:00) и поздний день (15:00-17:00).\n",
    "\n",
    "Вечер-же делится на ранний вечер (с 17 по 19), центральный вечер (с 19:00 по 19:59) и поздний вечер (с 20 до 22-х часов)."
   ]
  },
  {
   "cell_type": "code",
   "execution_count": 20,
   "metadata": {},
   "outputs": [
    {
     "data": {
      "text/plain": [
       "part_day\n",
       "Evening      1092194\n",
       "Night         887841\n",
       "Afternoon     475533\n",
       "Morning       300073\n",
       "Name: count, dtype: int64"
      ]
     },
     "execution_count": 20,
     "metadata": {},
     "output_type": "execute_result"
    }
   ],
   "source": [
    "events['part_day'] = events['hour'].apply(part_day)\n",
    "events['part_day'].value_counts()"
   ]
  },
  {
   "cell_type": "code",
   "execution_count": 21,
   "metadata": {},
   "outputs": [
    {
     "data": {
      "text/plain": [
       "Day Period\n",
       "Evening      1078018\n",
       "Night         765788\n",
       "Dawn          494507\n",
       "Afternoon     293450\n",
       "Morning       123878\n",
       "Name: count, dtype: int64"
      ]
     },
     "execution_count": 21,
     "metadata": {},
     "output_type": "execute_result"
    }
   ],
   "source": [
    "events['Day Period'] = events['hour'].apply(get_time_periods)\n",
    "events['Day Period'].value_counts()"
   ]
  },
  {
   "cell_type": "code",
   "execution_count": 22,
   "metadata": {},
   "outputs": [],
   "source": [
    "train, test = train_test_split(events, test_size=0.3, shuffle=False)"
   ]
  },
  {
   "cell_type": "code",
   "execution_count": 23,
   "metadata": {},
   "outputs": [
    {
     "data": {
      "text/plain": [
       "count                           826693\n",
       "mean     2015-07-09 09:51:25.107366656\n",
       "min         2015-05-24 06:00:15.401000\n",
       "25%         2015-07-05 04:28:20.800000\n",
       "50%      2015-07-14 05:16:27.512999936\n",
       "75%         2015-07-23 20:16:30.376000\n",
       "max         2015-08-01 05:59:58.954000\n",
       "Name: timestamp, dtype: object"
      ]
     },
     "execution_count": 23,
     "metadata": {},
     "output_type": "execute_result"
    }
   ],
   "source": [
    "test.timestamp.describe()"
   ]
  },
  {
   "cell_type": "markdown",
   "metadata": {},
   "source": [
    "Только подскажи, пожалуйста, какое свойство айтемов не входит в топ-20?"
   ]
  },
  {
   "cell_type": "code",
   "execution_count": 24,
   "metadata": {},
   "outputs": [
    {
     "data": {
      "text/plain": [
       "property\n",
       "categoryid    417053\n",
       "159           417053\n",
       "283           417053\n",
       "112           417053\n",
       "764           417053\n",
       "888           417053\n",
       "364           417053\n",
       "available     417053\n",
       "790           417053\n",
       "678           417019\n",
       "917           416171\n",
       "202           414217\n",
       "6             409065\n",
       "776           407305\n",
       "839           396644\n",
       "227           328096\n",
       "698           274747\n",
       "689           211791\n",
       "28            169926\n",
       "928           150121\n",
       "Name: count, dtype: int64"
      ]
     },
     "execution_count": 24,
     "metadata": {},
     "output_type": "execute_result"
    }
   ],
   "source": [
    "item_properties.drop_duplicates(['itemid', 'property']).property.value_counts()[:20]"
   ]
  },
  {
   "cell_type": "code",
   "execution_count": 25,
   "metadata": {},
   "outputs": [
    {
     "data": {
      "text/plain": [
       "property\n",
       "categoryid    417053\n",
       "159           417053\n",
       "790           417053\n",
       "364           417053\n",
       "112           417053\n",
       "888           417053\n",
       "764           417053\n",
       "283           417053\n",
       "available     417053\n",
       "678           417019\n",
       "917           416171\n",
       "202           414217\n",
       "6             409065\n",
       "776           407305\n",
       "839           396644\n",
       "227           328096\n",
       "698           274747\n",
       "689           211791\n",
       "28            169926\n",
       "928           150121\n",
       "Name: itemid, dtype: int64"
      ]
     },
     "execution_count": 25,
     "metadata": {},
     "output_type": "execute_result"
    }
   ],
   "source": [
    "# Эталонное решение\n",
    "# Возьмем только самые распространенные proprties, например топ 20 (при построении модели можно играть)\n",
    "top_properties = item_properties.drop_duplicates(['itemid', 'property']).groupby(\"property\")['itemid'].count().sort_values(ascending=False)[:20]\n",
    "top_properties"
   ]
  },
  {
   "cell_type": "code",
   "execution_count": 26,
   "metadata": {},
   "outputs": [],
   "source": [
    "# # Производим сериализацию и записываем результат в файл формата pkl\n",
    "with open('data/events.pkl', 'wb') as output:\n",
    "    pickle.dump(events, output)\n",
    "\n",
    "with open('data/category_tree.pkl', 'wb') as output:\n",
    "    pickle.dump(category_tree, output)\n",
    "\n",
    "with open('data/item_properties.pkl', 'wb') as output:\n",
    "    pickle.dump(item_properties, output)"
   ]
  }
 ],
 "metadata": {
  "kernelspec": {
   "display_name": "virt_cute_ranking",
   "language": "python",
   "name": "python3"
  },
  "language_info": {
   "codemirror_mode": {
    "name": "ipython",
    "version": 3
   },
   "file_extension": ".py",
   "mimetype": "text/x-python",
   "name": "python",
   "nbconvert_exporter": "python",
   "pygments_lexer": "ipython3",
   "version": "3.8.20"
  }
 },
 "nbformat": 4,
 "nbformat_minor": 2
}
