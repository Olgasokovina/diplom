{
 "cells": [
  {
   "cell_type": "code",
   "execution_count": 11,
   "metadata": {},
   "outputs": [],
   "source": [
    "import pandas as pd\n",
    "import requests"
   ]
  },
  {
   "cell_type": "code",
   "execution_count": null,
   "metadata": {},
   "outputs": [
    {
     "name": "stdout",
     "output_type": "stream",
     "text": [
      "Recommendations for user 599526: [461686, 248455, 334401]\n"
     ]
    }
   ],
   "source": [
    "date_recom = '2015-08-31'\n",
    "visitorid = 599526\n",
    "\n",
    "\n",
    "if __name__ == '__main__':\n",
    "    # выполняем POST-запрос на сервер\n",
    "    data = [date_recom, visitorid, ],\n",
    "    columns = ['date', 'visitorid', ]\n",
    "    df = pd.DataFrame(data=data,\n",
    "                      columns=columns,)\n",
    "\n",
    "\n",
    "    r = requests.post('http://localhost:5000/recommend',\n",
    "                      json=df.to_json(orient='table')\n",
    "                      )\n",
    "\n",
    "\n",
    "    # реализуем обработку результата\n",
    "    if r.status_code == 200:\n",
    "        # если запрос выполнен успешно (код обработки = 200),\n",
    "        # выводим результат на экран\n",
    "        recommend = r.json()\n",
    "        print(f'{recommend}')\n",
    "    else:\n",
    "        # если запрос завершён с кодом, отличным от 200,\n",
    "        # выводим содержимое ответа\n",
    "        print(r.text)"
   ]
  },
  {
   "cell_type": "code",
   "execution_count": null,
   "metadata": {},
   "outputs": [],
   "source": [
    "# pycodestyle --first optparse.py"
   ]
  }
 ],
 "metadata": {
  "kernelspec": {
   "display_name": "virt_cute_ranking",
   "language": "python",
   "name": "python3"
  },
  "language_info": {
   "codemirror_mode": {
    "name": "ipython",
    "version": 3
   },
   "file_extension": ".py",
   "mimetype": "text/x-python",
   "name": "python",
   "nbconvert_exporter": "python",
   "pygments_lexer": "ipython3",
   "version": "3.8.20"
  }
 },
 "nbformat": 4,
 "nbformat_minor": 2
}
