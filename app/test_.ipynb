{
 "cells": [
  {
   "cell_type": "code",
   "execution_count": 2,
   "metadata": {},
   "outputs": [],
   "source": [
    "import pandas as pd\n",
    "import requests"
   ]
  },
  {
   "cell_type": "code",
   "execution_count": 8,
   "metadata": {},
   "outputs": [
    {
     "name": "stdout",
     "output_type": "stream",
     "text": [
      "Recommendations for user 599526: [461686, 248455, 334401]\n",
      "Уважаемые менторы подскажите какие метрики здесь надо выводить? Владислав Масленников не дал ответа на этот вопрос в Пачке. Хотя, по моему мнению, он ни на какие вопросы не дает ответов - только отписки!\n"
     ]
    }
   ],
   "source": [
    "date_recom = '2015-08-31'\n",
    "visitorid = '599526'\n",
    "\n",
    "data = [date_recom, visitorid],\n",
    "columns = ['date', 'visitorid']\n",
    "df = pd.DataFrame(data=data,\n",
    "                    columns=columns,)\n",
    "\n",
    "if __name__ == '__main__':\n",
    "\n",
    "\n",
    "    # выполняем POST-запрос на сервер\n",
    "    r = requests.post('http://localhost:5000/recommend',\n",
    "                    #   json=df.to_json(orient='table')\n",
    "                      json={'date':date_recom,'visitorid':visitorid}\n",
    "                    #   json=[date_recom,visitorid]\n",
    "                      )\n",
    "\n",
    "\n",
    "    # реализуем обработку результата\n",
    "    if r.status_code == 200:\n",
    "        # если запрос выполнен успешно (код обработки = 200),\n",
    "        # выводим результат на экран\n",
    "        recommend = r.json()\n",
    "        print(f'{recommend}')\n",
    "    else:\n",
    "        # если запрос завершён с кодом, отличным от 200,\n",
    "        # выводим содержимое ответа\n",
    "        print(r.text)\n",
    "\n",
    "    # выполняем POST-запрос на сервер\n",
    "    r = requests.post('http://localhost:5000/metrics',\n",
    "                      # json=df.to_json(orient='table')\n",
    "                      # json={'date':date_recom,'visitorid':visitorid}\n",
    "                      json=[date_recom,visitorid]\n",
    "                      )\n",
    "\n",
    "\n",
    "    # реализуем обработку результата\n",
    "    if r.status_code == 200:\n",
    "        # если запрос выполнен успешно (код обработки = 200),\n",
    "        # выводим результат на экран\n",
    "        recommend = r.json()\n",
    "        print(recommend)\n",
    "    else:\n",
    "        # если запрос завершён с кодом, отличным от 200,\n",
    "        # выводим содержимое ответа\n",
    "        print(r.text)"
   ]
  }
 ],
 "metadata": {
  "kernelspec": {
   "display_name": "base",
   "language": "python",
   "name": "python3"
  },
  "language_info": {
   "codemirror_mode": {
    "name": "ipython",
    "version": 3
   },
   "file_extension": ".py",
   "mimetype": "text/x-python",
   "name": "python",
   "nbconvert_exporter": "python",
   "pygments_lexer": "ipython3",
   "version": "3.12.3"
  }
 },
 "nbformat": 4,
 "nbformat_minor": 2
}
