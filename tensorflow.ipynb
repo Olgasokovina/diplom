{
 "cells": [
  {
   "cell_type": "code",
   "execution_count": 1,
   "metadata": {},
   "outputs": [],
   "source": [
    "import pickle\n",
    "import pandas as pd\n",
    "\n",
    "\n",
    "import numpy as np\n",
    "import tensorflow as tf\n",
    "from tensorflow.keras.models import Model\n",
    "from tensorflow.keras.models import load_model\n",
    "from tensorflow.keras.layers import Input, Dense, Concatenate, Embedding, Flatten\n",
    "from tensorflow.keras.optimizers import Adam\n",
    "\n",
    "random_state=42"
   ]
  },
  {
   "cell_type": "code",
   "execution_count": 2,
   "metadata": {},
   "outputs": [],
   "source": [
    "def precision_at_k(true_labels, predicted_labels, k=3):\n",
    "    '''\n",
    "    Рассчитывает precision_at_k\n",
    "    # Пример использования\n",
    "    true_labels = [1, 2, 3, 4, 5]  # Истинные метки\n",
    "    predicted_labels = [1, 2, 6, 4, 7]  # Предсказанные рекомендации\n",
    "\n",
    "    # Рассчитаем Precision@K для K=3\n",
    "    k = 3\n",
    "    precision = precision_at_k(true_labels, predicted_labels, k)\n",
    "    print(f'Precision@{k}: {precision}')\n",
    "    '''\n",
    "    assert len(true_labels) == len(predicted_labels), \"Длины списков должны совпадать\"\n",
    "    # Отбираем K предсказанных элементов\n",
    "    pred_labels_at_k = predicted_labels[:k]\n",
    "    # Количество релевантных элементов в K предсказанных\n",
    "    relevant_at_k = sum([1 for label in pred_labels_at_k if label in true_labels])\n",
    "    # Precision@K\n",
    "    precision = relevant_at_k / k\n",
    "    return precision"
   ]
  },
  {
   "cell_type": "code",
   "execution_count": 3,
   "metadata": {},
   "outputs": [],
   "source": [
    "events = pd.read_pickle('lightfm/data/events_1.pkl')\n",
    "test = pd.read_pickle('lightfm/data/test_time_1.pkl')\n",
    "train = pd.read_pickle('lightfm/data/train_time_1.pkl')\n",
    "test = test.sample(frac=0.5, random_state=random_state)\n",
    "\n",
    "event_type = {\n",
    "            'view': 0,\n",
    "            'addtocart':0,\n",
    "            'transaction': 10,\n",
    "            }\n",
    "\n",
    "test['event'] = test['event'].map(event_type)\n",
    "train['event'] = train['event'].map(event_type)"
   ]
  },
  {
   "cell_type": "code",
   "execution_count": 4,
   "metadata": {},
   "outputs": [],
   "source": [
    "n_items = max(events[\"itemid\"].max(),events[\"itemid\"].nunique())+1\n",
    "n_users =  max(events[\"visitorid\"].max(),events[\"visitorid\"].nunique())+1"
   ]
  },
  {
   "cell_type": "markdown",
   "metadata": {},
   "source": [
    "В первую очередь нам необходимо создать эмбеддинги для items и пользователей. Создаём эмбеддинги для items:  \n",
    "Делаем то же самое для пользователей:"
   ]
  },
  {
   "cell_type": "code",
   "execution_count": 5,
   "metadata": {},
   "outputs": [],
   "source": [
    "items_input = Input(shape=[1], name=\"items-Input\")\n",
    "items_embedding = Embedding(input_dim=n_items,\n",
    "                            output_dim=10,\n",
    "                            name=\"items-Embedding\")(items_input)\n",
    "items_vec = Flatten(name=\"Flatten-items\")(items_embedding)\n",
    "\n",
    "\n",
    "user_input = Input(shape=[1], name=\"User-Input\")\n",
    "user_embedding = Embedding(input_dim=n_users,\n",
    "                           output_dim= 10, \n",
    "                           name=\"User-Embedding\")(user_input)\n",
    "user_vec = Flatten(name=\"Flatten-Users\")(user_embedding)"
   ]
  },
  {
   "cell_type": "markdown",
   "metadata": {},
   "source": [
    "Теперь, когда мы создали представления как для items, так и для пользователей, нам необходимо соединить их:"
   ]
  },
  {
   "cell_type": "code",
   "execution_count": 6,
   "metadata": {},
   "outputs": [],
   "source": [
    "conc = Concatenate()([items_vec, user_vec])"
   ]
  },
  {
   "cell_type": "markdown",
   "metadata": {},
   "source": [
    "Далее начинаем «собирать» нашу нейронную сеть из слоёв. Dense обозначает полносвязный слой. Также мы обозначаем для него количество нейронов и данные, которые идут на вход."
   ]
  },
  {
   "cell_type": "code",
   "execution_count": 7,
   "metadata": {},
   "outputs": [],
   "source": [
    "fc1 = Dense(128, activation='relu')(conc)\n",
    "fc2 = Dense(64, activation='relu')(fc1)\n",
    "fc3 = Dense(32, activation='relu')(fc2)\n",
    "fc4 = Dense(16, activation='relu')(fc3)\n",
    "out = Dense(1)(fc4)"
   ]
  },
  {
   "cell_type": "markdown",
   "metadata": {},
   "source": [
    "Собираем модель — передаём входные данные для items и пользователей, а также архитектуру нейронной сети:"
   ]
  },
  {
   "cell_type": "code",
   "execution_count": 8,
   "metadata": {},
   "outputs": [],
   "source": [
    "model = Model([user_input, items_input], out)"
   ]
  },
  {
   "cell_type": "markdown",
   "metadata": {},
   "source": [
    "Также нам необходимо задать алгоритм оптимизации и метрику, которую мы будем оптимизировать. В данном случае будем использовать метод adam и хорошо известную вам среднеквадратичную ошибку:"
   ]
  },
  {
   "cell_type": "code",
   "execution_count": 9,
   "metadata": {},
   "outputs": [],
   "source": [
    "model.compile(optimizer=Adam(), loss='mape')"
   ]
  },
  {
   "cell_type": "code",
   "execution_count": 10,
   "metadata": {},
   "outputs": [
    {
     "name": "stdout",
     "output_type": "stream",
     "text": [
      "Epoch 1/20\n"
     ]
    },
    {
     "name": "stderr",
     "output_type": "stream",
     "text": [
      "c:\\Users\\olgas\\anaconda3\\Lib\\site-packages\\keras\\src\\models\\functional.py:225: UserWarning: The structure of `inputs` doesn't match the expected structure: ['User-Input', 'items-Input']. Received: the structure of inputs=('*', '*')\n",
      "  warnings.warn(\n"
     ]
    },
    {
     "name": "stdout",
     "output_type": "stream",
     "text": [
      "\u001b[1m10948/10948\u001b[0m \u001b[32m━━━━━━━━━━━━━━━━━━━━\u001b[0m\u001b[37m\u001b[0m \u001b[1m1066s\u001b[0m 97ms/step - loss: 160684.3281\n",
      "Epoch 2/20\n",
      "\u001b[1m10948/10948\u001b[0m \u001b[32m━━━━━━━━━━━━━━━━━━━━\u001b[0m\u001b[37m\u001b[0m \u001b[1m1101s\u001b[0m 101ms/step - loss: 113938.0469\n",
      "Epoch 3/20\n",
      "\u001b[1m10948/10948\u001b[0m \u001b[32m━━━━━━━━━━━━━━━━━━━━\u001b[0m\u001b[37m\u001b[0m \u001b[1m1060s\u001b[0m 97ms/step - loss: 107244.0781\n",
      "Epoch 4/20\n",
      "\u001b[1m10948/10948\u001b[0m \u001b[32m━━━━━━━━━━━━━━━━━━━━\u001b[0m\u001b[37m\u001b[0m \u001b[1m1034s\u001b[0m 94ms/step - loss: 117174.2500\n",
      "Epoch 5/20\n",
      "\u001b[1m10948/10948\u001b[0m \u001b[32m━━━━━━━━━━━━━━━━━━━━\u001b[0m\u001b[37m\u001b[0m \u001b[1m1037s\u001b[0m 95ms/step - loss: 122605.8438\n",
      "Epoch 6/20\n",
      "\u001b[1m10948/10948\u001b[0m \u001b[32m━━━━━━━━━━━━━━━━━━━━\u001b[0m\u001b[37m\u001b[0m \u001b[1m1038s\u001b[0m 95ms/step - loss: 108020.1562\n",
      "Epoch 7/20\n",
      "\u001b[1m10948/10948\u001b[0m \u001b[32m━━━━━━━━━━━━━━━━━━━━\u001b[0m\u001b[37m\u001b[0m \u001b[1m1039s\u001b[0m 95ms/step - loss: 116967.3047\n",
      "Epoch 8/20\n",
      "\u001b[1m10948/10948\u001b[0m \u001b[32m━━━━━━━━━━━━━━━━━━━━\u001b[0m\u001b[37m\u001b[0m \u001b[1m1042s\u001b[0m 95ms/step - loss: 112638.7969\n",
      "Epoch 9/20\n",
      "\u001b[1m10948/10948\u001b[0m \u001b[32m━━━━━━━━━━━━━━━━━━━━\u001b[0m\u001b[37m\u001b[0m \u001b[1m1045s\u001b[0m 95ms/step - loss: 109929.8750\n",
      "Epoch 10/20\n",
      "\u001b[1m10948/10948\u001b[0m \u001b[32m━━━━━━━━━━━━━━━━━━━━\u001b[0m\u001b[37m\u001b[0m \u001b[1m1047s\u001b[0m 96ms/step - loss: 118239.9531\n",
      "Epoch 11/20\n",
      "\u001b[1m10948/10948\u001b[0m \u001b[32m━━━━━━━━━━━━━━━━━━━━\u001b[0m\u001b[37m\u001b[0m \u001b[1m1049s\u001b[0m 96ms/step - loss: 107511.5859\n",
      "Epoch 12/20\n",
      "\u001b[1m10948/10948\u001b[0m \u001b[32m━━━━━━━━━━━━━━━━━━━━\u001b[0m\u001b[37m\u001b[0m \u001b[1m1052s\u001b[0m 96ms/step - loss: 120522.3359\n",
      "Epoch 13/20\n",
      "\u001b[1m10948/10948\u001b[0m \u001b[32m━━━━━━━━━━━━━━━━━━━━\u001b[0m\u001b[37m\u001b[0m \u001b[1m1053s\u001b[0m 96ms/step - loss: 112162.4766\n",
      "Epoch 14/20\n",
      "\u001b[1m10948/10948\u001b[0m \u001b[32m━━━━━━━━━━━━━━━━━━━━\u001b[0m\u001b[37m\u001b[0m \u001b[1m1054s\u001b[0m 96ms/step - loss: 107453.0469\n",
      "Epoch 15/20\n",
      "\u001b[1m10948/10948\u001b[0m \u001b[32m━━━━━━━━━━━━━━━━━━━━\u001b[0m\u001b[37m\u001b[0m \u001b[1m1056s\u001b[0m 96ms/step - loss: 108749.4531\n",
      "Epoch 16/20\n",
      "\u001b[1m10948/10948\u001b[0m \u001b[32m━━━━━━━━━━━━━━━━━━━━\u001b[0m\u001b[37m\u001b[0m \u001b[1m1057s\u001b[0m 97ms/step - loss: 114048.9219\n",
      "Epoch 17/20\n",
      "\u001b[1m10948/10948\u001b[0m \u001b[32m━━━━━━━━━━━━━━━━━━━━\u001b[0m\u001b[37m\u001b[0m \u001b[1m1057s\u001b[0m 97ms/step - loss: 109831.9297\n",
      "Epoch 18/20\n",
      "\u001b[1m10948/10948\u001b[0m \u001b[32m━━━━━━━━━━━━━━━━━━━━\u001b[0m\u001b[37m\u001b[0m \u001b[1m1057s\u001b[0m 97ms/step - loss: 113020.8516\n",
      "Epoch 19/20\n",
      "\u001b[1m10948/10948\u001b[0m \u001b[32m━━━━━━━━━━━━━━━━━━━━\u001b[0m\u001b[37m\u001b[0m \u001b[1m1056s\u001b[0m 96ms/step - loss: 106510.4844\n",
      "Epoch 20/20\n",
      "\u001b[1m10948/10948\u001b[0m \u001b[32m━━━━━━━━━━━━━━━━━━━━\u001b[0m\u001b[37m\u001b[0m \u001b[1m1056s\u001b[0m 96ms/step - loss: 109266.5156\n"
     ]
    }
   ],
   "source": [
    "history = model.fit([train.visitorid, train.itemid], train.event, epochs=20, verbose=1)"
   ]
  },
  {
   "cell_type": "markdown",
   "metadata": {},
   "source": [
    "В параметр эпох передаём значение 20: у нас будет реализовано 20 эпох — 20 обучений нейронной сети. На каждой из эпох обновляются веса для минимизации ошибки.\n",
    "\n",
    "Теперь можно оценить качество:"
   ]
  },
  {
   "cell_type": "code",
   "execution_count": 11,
   "metadata": {},
   "outputs": [
    {
     "data": {
      "text/plain": [
       "{'loss': [122469.328125,\n",
       "  112585.9140625,\n",
       "  108290.7890625,\n",
       "  116586.6953125,\n",
       "  114814.28125,\n",
       "  108397.078125,\n",
       "  115008.40625,\n",
       "  111285.2421875,\n",
       "  111226.015625,\n",
       "  112355.3359375,\n",
       "  108276.6640625,\n",
       "  114542.8671875,\n",
       "  111238.6171875,\n",
       "  107071.0390625,\n",
       "  109211.7421875,\n",
       "  109998.6015625,\n",
       "  107759.96875,\n",
       "  114076.4609375,\n",
       "  115632.6171875,\n",
       "  110605.9375]}"
      ]
     },
     "execution_count": 11,
     "metadata": {},
     "output_type": "execute_result"
    }
   ],
   "source": [
    "history.history"
   ]
  },
  {
   "cell_type": "code",
   "execution_count": 12,
   "metadata": {},
   "outputs": [
    {
     "name": "stdout",
     "output_type": "stream",
     "text": [
      "\u001b[1m2360/2360\u001b[0m \u001b[32m━━━━━━━━━━━━━━━━━━━━\u001b[0m\u001b[37m\u001b[0m \u001b[1m2s\u001b[0m 718us/step - loss: 2263.7417\n"
     ]
    },
    {
     "data": {
      "text/plain": [
       "2263.808349609375"
      ]
     },
     "execution_count": 12,
     "metadata": {},
     "output_type": "execute_result"
    }
   ],
   "source": [
    "model.evaluate([test.visitorid, test.itemid], test.event)"
   ]
  },
  {
   "cell_type": "code",
   "execution_count": 13,
   "metadata": {},
   "outputs": [
    {
     "name": "stdout",
     "output_type": "stream",
     "text": [
      "Model saved as my_model.keras\n"
     ]
    }
   ],
   "source": [
    "# Сохранение модели\n",
    "model.save('my_model.keras')\n",
    "print('Model saved as my_model.keras')"
   ]
  },
  {
   "cell_type": "code",
   "execution_count": 14,
   "metadata": {},
   "outputs": [
    {
     "name": "stdout",
     "output_type": "stream",
     "text": [
      "Model loaded from my_model.keras\n"
     ]
    }
   ],
   "source": [
    "# Загрузка модели\n",
    "model = load_model('my_model.keras')\n",
    "print('Model loaded from my_model.keras')\n",
    "\n",
    "# Рекомпиляция модели\n",
    "model.compile(optimizer=Adam(), loss='mape')"
   ]
  },
  {
   "cell_type": "code",
   "execution_count": 15,
   "metadata": {},
   "outputs": [
    {
     "name": "stdout",
     "output_type": "stream",
     "text": [
      "\u001b[1m2360/2360\u001b[0m \u001b[32m━━━━━━━━━━━━━━━━━━━━\u001b[0m\u001b[37m\u001b[0m \u001b[1m2s\u001b[0m 957us/step\n",
      "[[-2.3086177e-06]\n",
      " [-2.3086177e-06]\n",
      " [-2.3086177e-06]\n",
      " ...\n",
      " [-2.3086177e-06]\n",
      " [-2.3086177e-06]\n",
      " [-2.3086177e-06]]\n"
     ]
    }
   ],
   "source": [
    "# Сделай предсказание\n",
    "predictions = model.predict([test['visitorid'], test['itemid']])\n",
    "\n",
    "print(predictions)\n"
   ]
  },
  {
   "cell_type": "code",
   "execution_count": 16,
   "metadata": {},
   "outputs": [],
   "source": [
    "predictions = predictions.flatten().tolist()"
   ]
  },
  {
   "cell_type": "code",
   "execution_count": 17,
   "metadata": {},
   "outputs": [
    {
     "name": "stdout",
     "output_type": "stream",
     "text": [
      "Precision@3: 0.0\n"
     ]
    }
   ],
   "source": [
    "# Вычисление precision@k\n",
    "k = 3\n",
    "precision = precision_at_k(test['event'], predictions, k)\n",
    "\n",
    "print(f'Precision@{k}: {precision}')\n"
   ]
  },
  {
   "cell_type": "code",
   "execution_count": 18,
   "metadata": {},
   "outputs": [],
   "source": [
    "for i in range(len(predictions )):\n",
    "    if predictions[i]>2:\n",
    "        print(predictions[i],i)"
   ]
  },
  {
   "cell_type": "markdown",
   "metadata": {},
   "source": [
    "Как-то все очень плохо!!!  С учетом, как долго обучается, не буду тратить на это время и пытяться улучшить модель."
   ]
  }
 ],
 "metadata": {
  "kernelspec": {
   "display_name": "base",
   "language": "python",
   "name": "python3"
  },
  "language_info": {
   "codemirror_mode": {
    "name": "ipython",
    "version": 3
   },
   "file_extension": ".py",
   "mimetype": "text/x-python",
   "name": "python",
   "nbconvert_exporter": "python",
   "pygments_lexer": "ipython3",
   "version": "3.12.3"
  }
 },
 "nbformat": 4,
 "nbformat_minor": 2
}
