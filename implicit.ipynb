{
 "cells": [
  {
   "cell_type": "code",
   "execution_count": null,
   "metadata": {},
   "outputs": [],
   "source": [
    "import pickle\n",
    "import numpy as np\n",
    "import optuna\n",
    "import pandas as pd\n",
    "from implicit.als import AlternatingLeastSquares\n",
    "from implicit.cpu.bpr import BayesianPersonalizedRanking\n",
    "from implicit.cpu.lmf import LogisticMatrixFactorization\n",
    "from implicit.evaluation import ranking_metrics_at_k\n",
    "from implicit.nearest_neighbours import CosineRecommender\n",
    "from scipy.sparse import csr_matrix\n",
    "\n",
    "optuna.logging.set_verbosity(optuna.logging.WARNING)\n",
    "optuna.logging.set_verbosity(optuna.logging.ERROR)\n",
    "\n",
    "import logging\n",
    "logging.getLogger(\"implicit\").setLevel(logging.ERROR)"
   ]
  },
  {
   "cell_type": "code",
   "execution_count": null,
   "metadata": {},
   "outputs": [],
   "source": [
    "import multiprocessing\n",
    "num_threads = multiprocessing.cpu_count()\n",
    "random_state = 42"
   ]
  },
  {
   "cell_type": "markdown",
   "metadata": {},
   "source": [
    "implicit это библиоткка для быстрой совместной фильтрации Python для неявных наборов данных.  \n",
    "Этот проект предоставляет быстрые реализации на Python нескольких различных популярных алгоритмов рекомендаций для наборов данных неявной обратной связи:  \n",
    "* Метод наименьших квадратов с чередованием, описанный в статьях « Совместная фильтрация для наборов данных с неявной обратной связью» и « Применение метода сопряженных градиентов для совместной фильтрации с неявной обратной связью».\n",
    "* Персонализированный байесовский рейтинг\n",
    "* Факторизация логистической матрицы\n",
    "* Модели «элемент-элемент ближайшего соседа», использующие косинус, TFIDF или BM25 в качестве метрики расстояния\n",
    "\n",
    "Все модели имеют многопоточные процедуры обучения, использующие Cython и OpenMP для параллельной подгонки моделей среди всех доступных ядер ЦП. Кроме того, модели ALS и BPR имеют собственные ядра CUDA, что позволяет подгонять их на совместимых графических процессорах. Эта библиотека также поддерживает использование библиотек приближенных ближайших соседей, таких как Annoy , NMSLIB и Faiss, для ускорения выработки рекомендаций ."
   ]
  },
  {
   "cell_type": "code",
   "execution_count": 2,
   "metadata": {},
   "outputs": [],
   "source": [
    "# import psutil\n",
    "\n",
    "# # Получение информации о памяти\n",
    "# memory_info = psutil.virtual_memory()\n",
    "# print(memory_info)"
   ]
  },
  {
   "cell_type": "code",
   "execution_count": 3,
   "metadata": {},
   "outputs": [
    {
     "data": {
      "text/plain": [
       "0"
      ]
     },
     "execution_count": 3,
     "metadata": {},
     "output_type": "execute_result"
    }
   ],
   "source": [
    "import gc\n",
    "gc.collect()"
   ]
  },
  {
   "cell_type": "code",
   "execution_count": 4,
   "metadata": {},
   "outputs": [],
   "source": [
    "# import os\n",
    "# import threadpoolctl\n",
    "\n",
    "# os.environ['MKL_NUM_THREADS'] = '5'\n",
    "# os.environ['OPENBLAS_NUM_THREADS'] = '5'\n",
    "# os.environ['OMP_NUM_THREADS'] = '5'\n",
    "\n",
    "# threadpoolctl.threadpool_limits(5, \"blas\")"
   ]
  },
  {
   "cell_type": "code",
   "execution_count": null,
   "metadata": {},
   "outputs": [
    {
     "data": {
      "text/html": [
       "<div>\n",
       "<style scoped>\n",
       "    .dataframe tbody tr th:only-of-type {\n",
       "        vertical-align: middle;\n",
       "    }\n",
       "\n",
       "    .dataframe tbody tr th {\n",
       "        vertical-align: top;\n",
       "    }\n",
       "\n",
       "    .dataframe thead th {\n",
       "        text-align: right;\n",
       "    }\n",
       "</style>\n",
       "<table border=\"1\" class=\"dataframe\">\n",
       "  <thead>\n",
       "    <tr style=\"text-align: right;\">\n",
       "      <th></th>\n",
       "      <th>timestamp</th>\n",
       "      <th>visitorid</th>\n",
       "      <th>event</th>\n",
       "      <th>itemid</th>\n",
       "    </tr>\n",
       "  </thead>\n",
       "  <tbody>\n",
       "    <tr>\n",
       "      <th>19</th>\n",
       "      <td>2015-06-02 04:57:58.505</td>\n",
       "      <td>158090</td>\n",
       "      <td>addtocart</td>\n",
       "      <td>10572</td>\n",
       "    </tr>\n",
       "    <tr>\n",
       "      <th>35</th>\n",
       "      <td>2015-06-02 05:57:24.638</td>\n",
       "      <td>361387</td>\n",
       "      <td>view</td>\n",
       "      <td>43485</td>\n",
       "    </tr>\n",
       "    <tr>\n",
       "      <th>110</th>\n",
       "      <td>2015-06-02 05:09:00.333</td>\n",
       "      <td>712443</td>\n",
       "      <td>view</td>\n",
       "      <td>346655</td>\n",
       "    </tr>\n",
       "    <tr>\n",
       "      <th>112</th>\n",
       "      <td>2015-06-02 05:12:21.632</td>\n",
       "      <td>599528</td>\n",
       "      <td>addtocart</td>\n",
       "      <td>356475</td>\n",
       "    </tr>\n",
       "    <tr>\n",
       "      <th>130</th>\n",
       "      <td>2015-06-02 05:17:56.276</td>\n",
       "      <td>599528</td>\n",
       "      <td>transaction</td>\n",
       "      <td>356475</td>\n",
       "    </tr>\n",
       "  </tbody>\n",
       "</table>\n",
       "</div>"
      ],
      "text/plain": [
       "                  timestamp  visitorid        event  itemid\n",
       "19  2015-06-02 04:57:58.505     158090    addtocart   10572\n",
       "35  2015-06-02 05:57:24.638     361387         view   43485\n",
       "110 2015-06-02 05:09:00.333     712443         view  346655\n",
       "112 2015-06-02 05:12:21.632     599528    addtocart  356475\n",
       "130 2015-06-02 05:17:56.276     599528  transaction  356475"
      ]
     },
     "execution_count": 5,
     "metadata": {},
     "output_type": "execute_result"
    }
   ],
   "source": [
    "# # # Производим десериализацию и извлекаем из файла формата pkl\n",
    "with open('data\\events_cl.pkl', 'rb') as pkl_file:\n",
    "    events = pickle.load(pkl_file)\n",
    "\n",
    "events = events[['timestamp', 'visitorid', 'event', 'itemid']]\n",
    "events.head()"
   ]
  },
  {
   "cell_type": "code",
   "execution_count": 6,
   "metadata": {},
   "outputs": [],
   "source": [
    "# events = events.sample(frac=0.5, random_state=random_state)"
   ]
  },
  {
   "cell_type": "code",
   "execution_count": null,
   "metadata": {},
   "outputs": [
    {
     "name": "stdout",
     "output_type": "stream",
     "text": [
      "0.6978126560159761\n",
      "0.30218734398402397\n"
     ]
    }
   ],
   "source": [
    "# Построен валидационный датасет (разбивка по времени)\n",
    "# На мой взгляд так более правильно (в соответствии с заданием)\n",
    "\n",
    "split_date = '2015-07-29'\n",
    "train = events[events['timestamp'].dt.strftime('%Y-%m-%d') < split_date]\n",
    "test = events[events['timestamp'].dt.strftime('%Y-%m-%d') >= split_date]\n",
    "\n",
    "print(train.shape[0]/events.shape[0])\n",
    "print(test.shape[0]/events.shape[0])"
   ]
  },
  {
   "cell_type": "code",
   "execution_count": null,
   "metadata": {},
   "outputs": [],
   "source": [
    "events = events[['visitorid', 'event', 'itemid']]\n",
    "train = train[['visitorid', 'event', 'itemid']]\n",
    "test = test[['visitorid', 'event', 'itemid']]"
   ]
  },
  {
   "cell_type": "code",
   "execution_count": null,
   "metadata": {},
   "outputs": [],
   "source": [
    "event_type = {\n",
    "            'view':1,\n",
    "            'addtocart':2,\n",
    "            'transaction':10,\n",
    "            }\n",
    "\n",
    "test['event'] = test['event'].map(event_type)\n",
    "train['event'] = train['event'].map(event_type)\n",
    "events['event'] = events['event'].map(event_type)"
   ]
  },
  {
   "cell_type": "code",
   "execution_count": null,
   "metadata": {},
   "outputs": [],
   "source": [
    "assert (train[['visitorid', 'itemid', 'event']] >= 0).all().all(), \"Есть отрицательные значения!\""
   ]
  },
  {
   "cell_type": "code",
   "execution_count": 11,
   "metadata": {},
   "outputs": [],
   "source": [
    "train_pivot_1 = pd.pivot_table(\n",
    "                        train,\n",
    "                        index=\"visitorid\",\n",
    "                        columns=\"itemid\",\n",
    "                        values=\"event\",\n",
    "                        )"
   ]
  },
  {
   "cell_type": "code",
   "execution_count": 12,
   "metadata": {},
   "outputs": [],
   "source": [
    "test_pivot_1 = pd.pivot_table(\n",
    "                    test,\n",
    "                    index=\"visitorid\",\n",
    "                    columns=\"itemid\",\n",
    "                    values=\"event\"\n",
    "                    )"
   ]
  },
  {
   "cell_type": "code",
   "execution_count": 13,
   "metadata": {},
   "outputs": [
    {
     "name": "stdout",
     "output_type": "stream",
     "text": [
      "(5413, 2825)\n",
      "(2912, 2037)\n"
     ]
    }
   ],
   "source": [
    "shell = pd.pivot_table(\n",
    "                events,\n",
    "                index=\"visitorid\",\n",
    "                columns=\"itemid\",\n",
    "                values=\"event\",\n",
    "                aggfunc=lambda x: 0\n",
    "                )\n",
    "\n",
    "\n",
    "print(train_pivot_1.shape)\n",
    "print(test_pivot_1.shape)"
   ]
  },
  {
   "cell_type": "code",
   "execution_count": 14,
   "metadata": {},
   "outputs": [
    {
     "name": "stdout",
     "output_type": "stream",
     "text": [
      "(7821, 3032)\n",
      "(7821, 3032)\n"
     ]
    }
   ],
   "source": [
    "train_pivot = shell + train_pivot_1\n",
    "test_pivot = shell + test_pivot_1\n",
    "\n",
    "\n",
    "train_pivot = (train_pivot + 1).fillna(0)\n",
    "test_pivot = (test_pivot + 1).fillna(0)\n",
    "\n",
    "\n",
    "print(train_pivot.shape)\n",
    "print(test_pivot.shape)"
   ]
  },
  {
   "cell_type": "code",
   "execution_count": 15,
   "metadata": {},
   "outputs": [],
   "source": [
    "train_pivot_sparse = csr_matrix(train_pivot.values)\n",
    "test_pivot_sparse = csr_matrix(test_pivot.values)"
   ]
  },
  {
   "cell_type": "code",
   "execution_count": null,
   "metadata": {},
   "outputs": [
    {
     "name": "stderr",
     "output_type": "stream",
     "text": [
      "c:\\Users\\olgas\\anaconda3\\envs\\virt_cute_ranking\\lib\\site-packages\\implicit\\cpu\\als.py:95: RuntimeWarning: OpenBLAS is configured to use 12 threads. It is highly recommended to disable its internal threadpool by setting the environment variable 'OPENBLAS_NUM_THREADS=1' or by calling 'threadpoolctl.threadpool_limits(1, \"blas\")'. Having OpenBLAS use a threadpool can lead to severe performance issues here.\n",
      "  check_blas_config()\n",
      "c:\\Users\\olgas\\anaconda3\\envs\\virt_cute_ranking\\lib\\site-packages\\implicit\\cpu\\als.py:95: RuntimeWarning: Intel MKL BLAS is configured to use 6 threads. It is highly recommended to disable its internal threadpool by setting the environment variable 'MKL_NUM_THREADS=1' or by callng 'threadpoolctl.threadpool_limits(1, \"blas\")'. Having MKL use a threadpool can lead to severe performance issues\n",
      "  check_blas_config()\n"
     ]
    },
    {
     "data": {
      "application/vnd.jupyter.widget-view+json": {
       "model_id": "9d32705bc12941f6b61d287a6c4acd5a",
       "version_major": 2,
       "version_minor": 0
      },
      "text/plain": [
       "  0%|          | 0/15 [00:00<?, ?it/s]"
      ]
     },
     "metadata": {},
     "output_type": "display_data"
    },
    {
     "data": {
      "application/vnd.jupyter.widget-view+json": {
       "model_id": "480955ffab24400e9269ca9389d0a3cc",
       "version_major": 2,
       "version_minor": 0
      },
      "text/plain": [
       "  0%|          | 0/2912 [00:00<?, ?it/s]"
      ]
     },
     "metadata": {},
     "output_type": "display_data"
    },
    {
     "data": {
      "application/vnd.jupyter.widget-view+json": {
       "model_id": "76c9897e9657456f97dac32dcbb4da04",
       "version_major": 2,
       "version_minor": 0
      },
      "text/plain": [
       "  0%|          | 0/100 [00:00<?, ?it/s]"
      ]
     },
     "metadata": {},
     "output_type": "display_data"
    },
    {
     "data": {
      "application/vnd.jupyter.widget-view+json": {
       "model_id": "11732e85ae7541ebad373c05e2a3283d",
       "version_major": 2,
       "version_minor": 0
      },
      "text/plain": [
       "  0%|          | 0/2912 [00:00<?, ?it/s]"
      ]
     },
     "metadata": {},
     "output_type": "display_data"
    },
    {
     "data": {
      "application/vnd.jupyter.widget-view+json": {
       "model_id": "918a7121b7e8476b941b05f86482a9db",
       "version_major": 2,
       "version_minor": 0
      },
      "text/plain": [
       "  0%|          | 0/30 [00:00<?, ?it/s]"
      ]
     },
     "metadata": {},
     "output_type": "display_data"
    },
    {
     "data": {
      "application/vnd.jupyter.widget-view+json": {
       "model_id": "4cd3c8a657ea4940b8bfc5dfc2508b4d",
       "version_major": 2,
       "version_minor": 0
      },
      "text/plain": [
       "  0%|          | 0/2912 [00:00<?, ?it/s]"
      ]
     },
     "metadata": {},
     "output_type": "display_data"
    },
    {
     "name": "stderr",
     "output_type": "stream",
     "text": [
      "c:\\Users\\olgas\\anaconda3\\envs\\virt_cute_ranking\\lib\\site-packages\\implicit\\utils.py:164: ParameterWarning: Method expects CSR input, and was passed coo_matrix instead. Converting to CSR took 0.0010018348693847656 seconds\n",
      "  warnings.warn(\n"
     ]
    },
    {
     "data": {
      "application/vnd.jupyter.widget-view+json": {
       "model_id": "2558a36f23424e68bb5cf7f65ed09154",
       "version_major": 2,
       "version_minor": 0
      },
      "text/plain": [
       "  0%|          | 0/3032 [00:00<?, ?it/s]"
      ]
     },
     "metadata": {},
     "output_type": "display_data"
    },
    {
     "data": {
      "application/vnd.jupyter.widget-view+json": {
       "model_id": "c0e348bc1adb40c481748c017eb86ac8",
       "version_major": 2,
       "version_minor": 0
      },
      "text/plain": [
       "  0%|          | 0/2912 [00:00<?, ?it/s]"
      ]
     },
     "metadata": {},
     "output_type": "display_data"
    }
   ],
   "source": [
    "models = [\n",
    "        AlternatingLeastSquares(random_state=random_state,\n",
    "                                num_threads=num_threads),\n",
    "        BayesianPersonalizedRanking(random_state=random_state,\n",
    "                                    num_threads=num_threads),\n",
    "        LogisticMatrixFactorization(random_state=random_state,\n",
    "                                    num_threads=num_threads),\n",
    "        CosineRecommender(num_threads=num_threads),\n",
    "        ]\n",
    "\n",
    "result_map_at10 = []\n",
    "result_ndcg_at_k = []\n",
    "result_auc = []\n",
    "\n",
    "\n",
    "for model in models:\n",
    "    model.fit(train_pivot_sparse)\n",
    "\n",
    "    temp = ranking_metrics_at_k(model, train_pivot_sparse, test_pivot_sparse, K=3)\n",
    "    result_map_at10.append(temp['map'])\n",
    "    result_ndcg_at_k.append(temp['ndcg'])\n",
    "    result_auc.append(temp['auc'])\n",
    "\n",
    "\n",
    "models_name = []\n",
    "for i in range(len(models)):\n",
    "    models_name.append(str(models[i]))"
   ]
  },
  {
   "cell_type": "code",
   "execution_count": 17,
   "metadata": {},
   "outputs": [
    {
     "data": {
      "text/html": [
       "<div>\n",
       "<style scoped>\n",
       "    .dataframe tbody tr th:only-of-type {\n",
       "        vertical-align: middle;\n",
       "    }\n",
       "\n",
       "    .dataframe tbody tr th {\n",
       "        vertical-align: top;\n",
       "    }\n",
       "\n",
       "    .dataframe thead th {\n",
       "        text-align: right;\n",
       "    }\n",
       "</style>\n",
       "<table border=\"1\" class=\"dataframe\">\n",
       "  <thead>\n",
       "    <tr style=\"text-align: right;\">\n",
       "      <th></th>\n",
       "      <th>model</th>\n",
       "      <th>map_at10</th>\n",
       "      <th>result_ndcg_at_k</th>\n",
       "      <th>result_auc</th>\n",
       "    </tr>\n",
       "  </thead>\n",
       "  <tbody>\n",
       "    <tr>\n",
       "      <th>0</th>\n",
       "      <td>&lt;implicit.cpu.als.AlternatingLeastSquares obje...</td>\n",
       "      <td>0.006897</td>\n",
       "      <td>0.008696</td>\n",
       "      <td>0.503072</td>\n",
       "    </tr>\n",
       "    <tr>\n",
       "      <th>1</th>\n",
       "      <td>&lt;implicit.cpu.bpr.BayesianPersonalizedRanking ...</td>\n",
       "      <td>0.000687</td>\n",
       "      <td>0.000903</td>\n",
       "      <td>0.499823</td>\n",
       "    </tr>\n",
       "    <tr>\n",
       "      <th>2</th>\n",
       "      <td>&lt;implicit.cpu.lmf.LogisticMatrixFactorization ...</td>\n",
       "      <td>0.0176</td>\n",
       "      <td>0.023024</td>\n",
       "      <td>0.509478</td>\n",
       "    </tr>\n",
       "    <tr>\n",
       "      <th>3</th>\n",
       "      <td>&lt;implicit.nearest_neighbours.CosineRecommender...</td>\n",
       "      <td>0.008566</td>\n",
       "      <td>0.009902</td>\n",
       "      <td>0.504346</td>\n",
       "    </tr>\n",
       "  </tbody>\n",
       "</table>\n",
       "</div>"
      ],
      "text/plain": [
       "                                               model  map_at10  \\\n",
       "0  <implicit.cpu.als.AlternatingLeastSquares obje...  0.006897   \n",
       "1  <implicit.cpu.bpr.BayesianPersonalizedRanking ...  0.000687   \n",
       "2  <implicit.cpu.lmf.LogisticMatrixFactorization ...    0.0176   \n",
       "3  <implicit.nearest_neighbours.CosineRecommender...  0.008566   \n",
       "\n",
       "  result_ndcg_at_k result_auc  \n",
       "0         0.008696   0.503072  \n",
       "1         0.000903   0.499823  \n",
       "2         0.023024   0.509478  \n",
       "3         0.009902   0.504346  "
      ]
     },
     "execution_count": 17,
     "metadata": {},
     "output_type": "execute_result"
    }
   ],
   "source": [
    "df_rez = pd.DataFrame(data=[models_name, result_map_at10, result_ndcg_at_k, result_auc]).T\n",
    "df_rez.columns = ['model', 'map_at10', 'result_ndcg_at_k', 'result_auc']\n",
    "df_rez"
   ]
  },
  {
   "cell_type": "markdown",
   "metadata": {},
   "source": [
    "Параметры LogisticMatrixFactorization:\n",
    "\n",
    "* factors: Количество скрытых факторов. Количество латентных факторов, которые модель использует для представления пользователей и элементов.\n",
    "* learning_rate: Скорость обучения. Определяет размер шага, который модель делает при обновлении весов во время обучения.\n",
    "* regularization: Параметр регуляризации. Контролирует величину регуляризации для предотвращения переобучения.\n",
    "* iterations: Количество итераций. Количество итераций для алгоритма обучения."
   ]
  },
  {
   "cell_type": "code",
   "execution_count": null,
   "metadata": {},
   "outputs": [],
   "source": [
    "def opt_Ext(trial):\n",
    "    # задаем пространство поиска гиперпараметров\n",
    "\n",
    "    factors = trial.suggest_categorical('factors',\n",
    "                                        [1, 2, 3, 4, 5, 6, 7, 8, 9, 10, 11, 12, 13, 14, 15,\n",
    "                                         17, 20, 25, 30, 50, 75, 100])\n",
    "    learning_rate = trial.suggest_categorical('learning_rate',\n",
    "                                              [0.0001, 0.0005, 0.001, 0.005, 0.01, 0.05, 0.1,\n",
    "                                               0.5, 1, 2, 3, 4, 5, 6, 7, 8, 9, 10])\n",
    "    regularization = trial.suggest_categorical('regularization',\n",
    "                                               [0.001, 0.005, 0.01, 0.05, 0.1, 0.5, 1, 2, 3,\n",
    "                                                4, 5, 6, 7, 8, 9, 10])\n",
    "    iterations = trial.suggest_categorical('iterations',\n",
    "                                           [1, 2, 3, 4, 5, 6, 7, 8, 9, 10, 11, 12, 13, 14, 15,\n",
    "                                            17, 20, 25, 30, 50, 75, 100, 200, 500, 1000, 10000])\n",
    "\n",
    "\n",
    "    # создаем модель\n",
    "    model = LogisticMatrixFactorization(factors=factors,\n",
    "                                        learning_rate=learning_rate,\n",
    "                                        regularization=regularization,\n",
    "                                        iterations=iterations,\n",
    "                                        num_threads = num_threads,\n",
    "                                        random_state=random_state,)\n",
    "\n",
    "    model.fit(train_pivot_sparse)\n",
    "    score = ranking_metrics_at_k(model, train_pivot_sparse, test_pivot_sparse, K=3)['ndcg']\n",
    "    return score"
   ]
  },
  {
   "cell_type": "code",
   "execution_count": null,
   "metadata": {},
   "outputs": [],
   "source": [
    "# cоздаем объект исследования\n",
    "stud = optuna.create_study(direction=\"maximize\")\n",
    "\n",
    "\n",
    "# ищем лучшую комбинацию гиперпараметров\n",
    "stud.optimize(opt_Ext, n_trials=150)"
   ]
  },
  {
   "cell_type": "code",
   "execution_count": 20,
   "metadata": {},
   "outputs": [
    {
     "name": "stdout",
     "output_type": "stream",
     "text": [
      "{'factors': 100, 'learning_rate': 8, 'regularization': 3, 'iterations': 1000}\n"
     ]
    }
   ],
   "source": [
    "print(stud.best_params)"
   ]
  },
  {
   "cell_type": "code",
   "execution_count": null,
   "metadata": {},
   "outputs": [
    {
     "data": {
      "application/vnd.jupyter.widget-view+json": {
       "model_id": "6388b96f48094d049bb0e89ce0b92070",
       "version_major": 2,
       "version_minor": 0
      },
      "text/plain": [
       "  0%|          | 0/1000 [00:00<?, ?it/s]"
      ]
     },
     "metadata": {},
     "output_type": "display_data"
    }
   ],
   "source": [
    "best_model_implicit = LogisticMatrixFactorization(\n",
    "                                                factors=stud.best_params['factors'],\n",
    "                                                learning_rate=stud.best_params['learning_rate'],\n",
    "                                                regularization=stud.best_params['regularization'],\n",
    "                                                iterations=stud.best_params['iterations'],\n",
    "                                                num_threads = num_threads,\n",
    "                                                random_state=random_state)\n",
    "\n",
    "\n",
    "best_model_implicit.fit(train_pivot_sparse)\n",
    "\n",
    "\n",
    "# # Производим сериализацию и записываем результат в файл формата pkl\n",
    "with open('models/best_model_implicit.pkl', 'wb') as output:\n",
    "    pickle.dump(best_model_implicit, output)"
   ]
  },
  {
   "cell_type": "code",
   "execution_count": null,
   "metadata": {},
   "outputs": [
    {
     "data": {
      "application/vnd.jupyter.widget-view+json": {
       "model_id": "0137bbb8637d4b8fad1a43f5e8a82ce3",
       "version_major": 2,
       "version_minor": 0
      },
      "text/plain": [
       "  0%|          | 0/2912 [00:00<?, ?it/s]"
      ]
     },
     "metadata": {},
     "output_type": "display_data"
    },
    {
     "data": {
      "text/plain": [
       "{'precision': 0.03228547153780799,\n",
       " 'map': 0.019125839438339454,\n",
       " 'ndcg': 0.024927530555412365,\n",
       " 'auc': 0.5099064909073107}"
      ]
     },
     "execution_count": 22,
     "metadata": {},
     "output_type": "execute_result"
    }
   ],
   "source": [
    "temp = ranking_metrics_at_k(best_model_implicit, train_pivot_sparse, test_pivot_sparse, K=3)\n",
    "temp"
   ]
  },
  {
   "cell_type": "markdown",
   "metadata": {},
   "source": [
    "* Значение AUC ~ 0.5 указывает на случайное предсказание.\n",
    "* Значение AUC 1.0 указывает на идеальное предсказание.\n",
    "\n",
    "Высокое значение AUC (ближе к 1) означает, что модель лучше отделяет положительные примеры от отрицательных.  \n",
    "В нашем случае идет простое угадвание."
   ]
  },
  {
   "cell_type": "markdown",
   "metadata": {},
   "source": [
    "Получение рекомендаций"
   ]
  },
  {
   "cell_type": "code",
   "execution_count": null,
   "metadata": {},
   "outputs": [
    {
     "name": "stdout",
     "output_type": "stream",
     "text": [
      "Индекс пользователя 274515 в списке: 1528\n",
      "Recomendations for user 274515: [461686, 213834, 312728, 21674, 19523, 17114, 15283, 13711, 11150, 8651]\n",
      "Recomendations for user 274515: [0.43608877 0.1287212  0.0177133  0.         0.         0.\n",
      " 0.         0.         0.         0.        ]\n"
     ]
    }
   ],
   "source": [
    "user_id = 274515\n",
    "\n",
    "train_pivot_list = train_pivot.index.tolist()\n",
    "\n",
    "flag = 0\n",
    "try:\n",
    "    # Получение индекса элемента\n",
    "    index_user = train_pivot_list.index(user_id)\n",
    "    print(f\"Индекс пользователя {user_id} в списке: {index_user}\")\n",
    "    # Получение рекомендаций\n",
    "    flag = 1\n",
    "\n",
    "except ValueError:\n",
    "    print(f\"Пользователь {user_id} не найден в списке.\")\n",
    "\n",
    "if flag:\n",
    "    recomendations_ids, scores = best_model_implicit.recommend(index_user, train_pivot_sparse[index_user], N=10)\n",
    "    unique_items = np.array(train_pivot.columns)\n",
    "    recomendations = unique_items[recomendations_ids].tolist()\n",
    "\n",
    "    print(f'Recomendations for user {user_id}: {recomendations}')\n",
    "    print(f'Recomendations for user {user_id}: {scores}')"
   ]
  },
  {
   "cell_type": "code",
   "execution_count": 24,
   "metadata": {},
   "outputs": [],
   "source": [
    "unique_items = np.array(train_pivot.columns)"
   ]
  },
  {
   "cell_type": "code",
   "execution_count": null,
   "metadata": {},
   "outputs": [],
   "source": [
    "# # Производим сериализацию и записываем результат в файл формата pkl\n",
    "with open('data/train_pivot_list_implicit.pkl', 'wb') as output:\n",
    "    pickle.dump(train_pivot_list, output)\n",
    "\n",
    "with open('data/train_pivot_sparse_implicit.pkl', 'wb') as output:\n",
    "    pickle.dump(train_pivot_sparse, output)\n",
    "\n",
    "with open('data/unique_items.pkl', 'wb') as output:\n",
    "    pickle.dump(unique_items, output)"
   ]
  }
 ],
 "metadata": {
  "kernelspec": {
   "display_name": "virt_cute_ranking",
   "language": "python",
   "name": "python3"
  },
  "language_info": {
   "codemirror_mode": {
    "name": "ipython",
    "version": 3
   },
   "file_extension": ".py",
   "mimetype": "text/x-python",
   "name": "python",
   "nbconvert_exporter": "python",
   "pygments_lexer": "ipython3",
   "version": "3.8.20"
  }
 },
 "nbformat": 4,
 "nbformat_minor": 2
}
