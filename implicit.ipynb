{
 "cells": [
  {
   "cell_type": "code",
   "execution_count": 1,
   "metadata": {},
   "outputs": [],
   "source": [
    "import pickle\n",
    "import numpy as np\n",
    "import optuna\n",
    "import pandas as pd\n",
    "from implicit.als import AlternatingLeastSquares\n",
    "from implicit.cpu.bpr import BayesianPersonalizedRanking\n",
    "from implicit.cpu.lmf import LogisticMatrixFactorization\n",
    "from implicit.evaluation import ranking_metrics_at_k\n",
    "from implicit.nearest_neighbours import CosineRecommender\n",
    "from scipy.sparse import csr_matrix\n",
    "from sklearn.model_selection import train_test_split\n",
    "\n",
    "# optuna.logging.set_verbosity(optuna.logging.WARNING)\n",
    "# optuna.logging.set_verbosity(optuna.logging.ERROR)\n",
    "\n",
    "# import logging\n",
    "# logging.getLogger(\"implicit\").setLevel(logging.ERROR)"
   ]
  },
  {
   "cell_type": "code",
   "execution_count": 2,
   "metadata": {},
   "outputs": [],
   "source": [
    "import multiprocessing\n",
    "num_threads = multiprocessing.cpu_count()\n",
    "random_state = 42"
   ]
  },
  {
   "cell_type": "markdown",
   "metadata": {},
   "source": [
    "implicit это библиоткка для быстрой совместной фильтрации Python для неявных наборов данных.  \n",
    "Этот проект предоставляет быстрые реализации на Python нескольких различных популярных алгоритмов рекомендаций для наборов данных неявной обратной связи:  \n",
    "* Метод наименьших квадратов с чередованием, описанный в статьях « Совместная фильтрация для наборов данных с неявной обратной связью» и « Применение метода сопряженных градиентов для совместной фильтрации с неявной обратной связью».\n",
    "* Персонализированный байесовский рейтинг\n",
    "* Факторизация логистической матрицы\n",
    "* Модели «элемент-элемент ближайшего соседа», использующие косинус, TFIDF или BM25 в качестве метрики расстояния\n",
    "\n",
    "Все модели имеют многопоточные процедуры обучения, использующие Cython и OpenMP для параллельной подгонки моделей среди всех доступных ядер ЦП. Кроме того, модели ALS и BPR имеют собственные ядра CUDA, что позволяет подгонять их на совместимых графических процессорах. Эта библиотека также поддерживает использование библиотек приближенных ближайших соседей, таких как Annoy , NMSLIB и Faiss, для ускорения выработки рекомендаций ."
   ]
  },
  {
   "cell_type": "code",
   "execution_count": 3,
   "metadata": {},
   "outputs": [],
   "source": [
    "# import psutil\n",
    "\n",
    "# # Получение информации о памяти\n",
    "# memory_info = psutil.virtual_memory()\n",
    "# print(memory_info)"
   ]
  },
  {
   "cell_type": "code",
   "execution_count": 4,
   "metadata": {},
   "outputs": [
    {
     "data": {
      "text/plain": [
       "0"
      ]
     },
     "execution_count": 4,
     "metadata": {},
     "output_type": "execute_result"
    }
   ],
   "source": [
    "import gc\n",
    "gc.collect()"
   ]
  },
  {
   "cell_type": "code",
   "execution_count": 5,
   "metadata": {},
   "outputs": [],
   "source": [
    "# import os\n",
    "# import threadpoolctl\n",
    "\n",
    "# os.environ['MKL_NUM_THREADS'] = '5'\n",
    "# os.environ['OPENBLAS_NUM_THREADS'] = '5'\n",
    "# os.environ['OMP_NUM_THREADS'] = '5'\n",
    "\n",
    "# threadpoolctl.threadpool_limits(5, \"blas\")"
   ]
  },
  {
   "cell_type": "code",
   "execution_count": 6,
   "metadata": {},
   "outputs": [
    {
     "data": {
      "text/html": [
       "<div>\n",
       "<style scoped>\n",
       "    .dataframe tbody tr th:only-of-type {\n",
       "        vertical-align: middle;\n",
       "    }\n",
       "\n",
       "    .dataframe tbody tr th {\n",
       "        vertical-align: top;\n",
       "    }\n",
       "\n",
       "    .dataframe thead th {\n",
       "        text-align: right;\n",
       "    }\n",
       "</style>\n",
       "<table border=\"1\" class=\"dataframe\">\n",
       "  <thead>\n",
       "    <tr style=\"text-align: right;\">\n",
       "      <th></th>\n",
       "      <th>timestamp</th>\n",
       "      <th>visitorid</th>\n",
       "      <th>event</th>\n",
       "      <th>itemid</th>\n",
       "    </tr>\n",
       "  </thead>\n",
       "  <tbody>\n",
       "    <tr>\n",
       "      <th>19</th>\n",
       "      <td>2015-06-02 04:57:58.505</td>\n",
       "      <td>158090</td>\n",
       "      <td>addtocart</td>\n",
       "      <td>10572</td>\n",
       "    </tr>\n",
       "    <tr>\n",
       "      <th>35</th>\n",
       "      <td>2015-06-02 05:57:24.638</td>\n",
       "      <td>361387</td>\n",
       "      <td>view</td>\n",
       "      <td>43485</td>\n",
       "    </tr>\n",
       "    <tr>\n",
       "      <th>110</th>\n",
       "      <td>2015-06-02 05:09:00.333</td>\n",
       "      <td>712443</td>\n",
       "      <td>view</td>\n",
       "      <td>346655</td>\n",
       "    </tr>\n",
       "    <tr>\n",
       "      <th>112</th>\n",
       "      <td>2015-06-02 05:12:21.632</td>\n",
       "      <td>599528</td>\n",
       "      <td>addtocart</td>\n",
       "      <td>356475</td>\n",
       "    </tr>\n",
       "    <tr>\n",
       "      <th>130</th>\n",
       "      <td>2015-06-02 05:17:56.276</td>\n",
       "      <td>599528</td>\n",
       "      <td>transaction</td>\n",
       "      <td>356475</td>\n",
       "    </tr>\n",
       "  </tbody>\n",
       "</table>\n",
       "</div>"
      ],
      "text/plain": [
       "                  timestamp  visitorid        event  itemid\n",
       "19  2015-06-02 04:57:58.505     158090    addtocart   10572\n",
       "35  2015-06-02 05:57:24.638     361387         view   43485\n",
       "110 2015-06-02 05:09:00.333     712443         view  346655\n",
       "112 2015-06-02 05:12:21.632     599528    addtocart  356475\n",
       "130 2015-06-02 05:17:56.276     599528  transaction  356475"
      ]
     },
     "execution_count": 6,
     "metadata": {},
     "output_type": "execute_result"
    }
   ],
   "source": [
    "# # # Производим десериализацию и извлекаем из файла формата pkl\n",
    "with open('data\\events_cl.pkl', 'rb') as pkl_file:\n",
    "    events = pickle.load(pkl_file)\n",
    "\n",
    "events = events[['timestamp', 'visitorid', 'event', 'itemid']]\n",
    "events.head()"
   ]
  },
  {
   "cell_type": "code",
   "execution_count": 7,
   "metadata": {},
   "outputs": [],
   "source": [
    "# events = events.sample(frac=0.5, random_state=random_state)"
   ]
  },
  {
   "cell_type": "code",
   "execution_count": 8,
   "metadata": {},
   "outputs": [
    {
     "name": "stdout",
     "output_type": "stream",
     "text": [
      "0.6978126560159761\n",
      "0.15108587119321018\n",
      "0.1511014727908138\n"
     ]
    }
   ],
   "source": [
    "# Построен валидационный датасет (разбивка по времени)\n",
    "# На мой взгляд так более правильно (в соответствии с заданием)\n",
    "\n",
    "event_type = {\n",
    "            'view':1,\n",
    "            'addtocart':2,\n",
    "            'transaction':10,\n",
    "            }\n",
    "events['event'] = events['event'].map(event_type)\n",
    "\n",
    "\n",
    "split_date = '2015-07-29'\n",
    "train = events[events['timestamp'].dt.strftime('%Y-%m-%d') < split_date]\n",
    "test = events[events['timestamp'].dt.strftime('%Y-%m-%d') >= split_date]\n",
    "\n",
    "test, valid = train_test_split(test, test_size=0.5, random_state=random_state)\n",
    "\n",
    "events = events[['visitorid', 'event', 'itemid']]\n",
    "train = train[['visitorid', 'event', 'itemid']]\n",
    "test = test[['visitorid', 'event', 'itemid']]\n",
    "valid = valid[['visitorid', 'event', 'itemid']]\n",
    "\n",
    "print(train.shape[0]/events.shape[0])\n",
    "print(test.shape[0]/events.shape[0])\n",
    "print(valid.shape[0]/events.shape[0])"
   ]
  },
  {
   "cell_type": "code",
   "execution_count": 9,
   "metadata": {},
   "outputs": [],
   "source": [
    "assert (train[['visitorid', 'itemid', 'event']] >= 0).all().all(), \"Есть отрицательные значения!\""
   ]
  },
  {
   "cell_type": "code",
   "execution_count": 10,
   "metadata": {},
   "outputs": [],
   "source": [
    "train_pivot_1 = pd.pivot_table(\n",
    "                        train,\n",
    "                        index=\"visitorid\",\n",
    "                        columns=\"itemid\",\n",
    "                        values=\"event\",\n",
    "                        )"
   ]
  },
  {
   "cell_type": "code",
   "execution_count": 11,
   "metadata": {},
   "outputs": [],
   "source": [
    "test_pivot_1 = pd.pivot_table(\n",
    "                    test,\n",
    "                    index=\"visitorid\",\n",
    "                    columns=\"itemid\",\n",
    "                    values=\"event\"\n",
    "                    )\n",
    "\n",
    "\n",
    "valid_pivot_1 = pd.pivot_table(\n",
    "                    valid,\n",
    "                    index=\"visitorid\",\n",
    "                    columns=\"itemid\",\n",
    "                    values=\"event\"\n",
    "                    )"
   ]
  },
  {
   "cell_type": "code",
   "execution_count": 12,
   "metadata": {},
   "outputs": [
    {
     "name": "stdout",
     "output_type": "stream",
     "text": [
      "(5413, 2825)\n",
      "(2542, 1853)\n"
     ]
    }
   ],
   "source": [
    "shell = pd.pivot_table(\n",
    "                events,\n",
    "                index=\"visitorid\",\n",
    "                columns=\"itemid\",\n",
    "                values=\"event\",\n",
    "                aggfunc=lambda x: 0\n",
    "                )\n",
    "\n",
    "\n",
    "print(train_pivot_1.shape)\n",
    "print(test_pivot_1.shape)"
   ]
  },
  {
   "cell_type": "code",
   "execution_count": 13,
   "metadata": {},
   "outputs": [],
   "source": [
    "train_pivot = shell + train_pivot_1\n",
    "test_pivot = shell + test_pivot_1\n",
    "valid_pivot = shell + valid_pivot_1\n",
    "\n",
    "\n",
    "train_pivot = (train_pivot + 1).fillna(0)\n",
    "test_pivot = (test_pivot + 1).fillna(0)\n",
    "valid_pivot = (valid_pivot + 1).fillna(0)"
   ]
  },
  {
   "cell_type": "code",
   "execution_count": 14,
   "metadata": {},
   "outputs": [],
   "source": [
    "train_pivot_sparse = csr_matrix(train_pivot.values)\n",
    "test_pivot_sparse = csr_matrix(test_pivot.values)\n",
    "valid_pivot_sparse = csr_matrix(valid_pivot.values)"
   ]
  },
  {
   "cell_type": "code",
   "execution_count": 15,
   "metadata": {},
   "outputs": [
    {
     "name": "stderr",
     "output_type": "stream",
     "text": [
      "c:\\Users\\olgas\\anaconda3\\envs\\virt_cute_ranking\\lib\\site-packages\\implicit\\cpu\\als.py:95: RuntimeWarning: OpenBLAS is configured to use 12 threads. It is highly recommended to disable its internal threadpool by setting the environment variable 'OPENBLAS_NUM_THREADS=1' or by calling 'threadpoolctl.threadpool_limits(1, \"blas\")'. Having OpenBLAS use a threadpool can lead to severe performance issues here.\n",
      "  check_blas_config()\n",
      "c:\\Users\\olgas\\anaconda3\\envs\\virt_cute_ranking\\lib\\site-packages\\implicit\\cpu\\als.py:95: RuntimeWarning: Intel MKL BLAS is configured to use 6 threads. It is highly recommended to disable its internal threadpool by setting the environment variable 'MKL_NUM_THREADS=1' or by callng 'threadpoolctl.threadpool_limits(1, \"blas\")'. Having MKL use a threadpool can lead to severe performance issues\n",
      "  check_blas_config()\n"
     ]
    },
    {
     "data": {
      "application/vnd.jupyter.widget-view+json": {
       "model_id": "4150815f258945ba8ba54dfe481eacfb",
       "version_major": 2,
       "version_minor": 0
      },
      "text/plain": [
       "  0%|          | 0/15 [00:00<?, ?it/s]"
      ]
     },
     "metadata": {},
     "output_type": "display_data"
    },
    {
     "data": {
      "application/vnd.jupyter.widget-view+json": {
       "model_id": "35b6b370a3344fa5a06a68bcc76624a7",
       "version_major": 2,
       "version_minor": 0
      },
      "text/plain": [
       "  0%|          | 0/2542 [00:00<?, ?it/s]"
      ]
     },
     "metadata": {},
     "output_type": "display_data"
    },
    {
     "data": {
      "application/vnd.jupyter.widget-view+json": {
       "model_id": "9b7c0b21658d49c3a5ffb4c79df2e70d",
       "version_major": 2,
       "version_minor": 0
      },
      "text/plain": [
       "  0%|          | 0/100 [00:00<?, ?it/s]"
      ]
     },
     "metadata": {},
     "output_type": "display_data"
    },
    {
     "data": {
      "application/vnd.jupyter.widget-view+json": {
       "model_id": "4b4262d6587f4a46bcd285ae22fdc8d8",
       "version_major": 2,
       "version_minor": 0
      },
      "text/plain": [
       "  0%|          | 0/2542 [00:00<?, ?it/s]"
      ]
     },
     "metadata": {},
     "output_type": "display_data"
    },
    {
     "data": {
      "application/vnd.jupyter.widget-view+json": {
       "model_id": "ff1608f5db5946878e5c70f5fbbe7d66",
       "version_major": 2,
       "version_minor": 0
      },
      "text/plain": [
       "  0%|          | 0/30 [00:00<?, ?it/s]"
      ]
     },
     "metadata": {},
     "output_type": "display_data"
    },
    {
     "data": {
      "application/vnd.jupyter.widget-view+json": {
       "model_id": "05ff3c5385d747a9894e9b5dc446630f",
       "version_major": 2,
       "version_minor": 0
      },
      "text/plain": [
       "  0%|          | 0/2542 [00:00<?, ?it/s]"
      ]
     },
     "metadata": {},
     "output_type": "display_data"
    },
    {
     "name": "stderr",
     "output_type": "stream",
     "text": [
      "c:\\Users\\olgas\\anaconda3\\envs\\virt_cute_ranking\\lib\\site-packages\\implicit\\utils.py:164: ParameterWarning: Method expects CSR input, and was passed coo_matrix instead. Converting to CSR took 0.0 seconds\n",
      "  warnings.warn(\n"
     ]
    },
    {
     "data": {
      "application/vnd.jupyter.widget-view+json": {
       "model_id": "4bc83c07998e4db89c6862130174e608",
       "version_major": 2,
       "version_minor": 0
      },
      "text/plain": [
       "  0%|          | 0/3032 [00:00<?, ?it/s]"
      ]
     },
     "metadata": {},
     "output_type": "display_data"
    },
    {
     "data": {
      "application/vnd.jupyter.widget-view+json": {
       "model_id": "2aea06299d394c218aea6d1443500527",
       "version_major": 2,
       "version_minor": 0
      },
      "text/plain": [
       "  0%|          | 0/2542 [00:00<?, ?it/s]"
      ]
     },
     "metadata": {},
     "output_type": "display_data"
    }
   ],
   "source": [
    "models = [\n",
    "        AlternatingLeastSquares(random_state=random_state,\n",
    "                                num_threads=num_threads),\n",
    "        BayesianPersonalizedRanking(random_state=random_state,\n",
    "                                    num_threads=num_threads),\n",
    "        LogisticMatrixFactorization(random_state=random_state,\n",
    "                                    num_threads=num_threads),\n",
    "        CosineRecommender(num_threads=num_threads),\n",
    "        ]\n",
    "\n",
    "result_map_at10 = []\n",
    "result_ndcg_at_k = []\n",
    "result_auc = []\n",
    "\n",
    "\n",
    "for model in models:\n",
    "    model.fit(train_pivot_sparse)\n",
    "\n",
    "    temp = ranking_metrics_at_k(model, train_pivot_sparse, test_pivot_sparse, K=3)\n",
    "    result_map_at10.append(temp['map'])\n",
    "    result_ndcg_at_k.append(temp['ndcg'])\n",
    "    result_auc.append(temp['auc'])\n",
    "\n",
    "\n",
    "models_name = []\n",
    "for i in range(len(models)):\n",
    "    models_name.append(str(models[i]))"
   ]
  },
  {
   "cell_type": "code",
   "execution_count": 16,
   "metadata": {},
   "outputs": [
    {
     "data": {
      "text/html": [
       "<div>\n",
       "<style scoped>\n",
       "    .dataframe tbody tr th:only-of-type {\n",
       "        vertical-align: middle;\n",
       "    }\n",
       "\n",
       "    .dataframe tbody tr th {\n",
       "        vertical-align: top;\n",
       "    }\n",
       "\n",
       "    .dataframe thead th {\n",
       "        text-align: right;\n",
       "    }\n",
       "</style>\n",
       "<table border=\"1\" class=\"dataframe\">\n",
       "  <thead>\n",
       "    <tr style=\"text-align: right;\">\n",
       "      <th></th>\n",
       "      <th>model</th>\n",
       "      <th>map_at10</th>\n",
       "      <th>result_ndcg_at_k</th>\n",
       "      <th>result_auc</th>\n",
       "    </tr>\n",
       "  </thead>\n",
       "  <tbody>\n",
       "    <tr>\n",
       "      <th>0</th>\n",
       "      <td>&lt;implicit.cpu.als.AlternatingLeastSquares obje...</td>\n",
       "      <td>0.00707</td>\n",
       "      <td>0.008644</td>\n",
       "      <td>0.503349</td>\n",
       "    </tr>\n",
       "    <tr>\n",
       "      <th>1</th>\n",
       "      <td>&lt;implicit.cpu.bpr.BayesianPersonalizedRanking ...</td>\n",
       "      <td>0.000678</td>\n",
       "      <td>0.000919</td>\n",
       "      <td>0.499878</td>\n",
       "    </tr>\n",
       "    <tr>\n",
       "      <th>2</th>\n",
       "      <td>&lt;implicit.cpu.lmf.LogisticMatrixFactorization ...</td>\n",
       "      <td>0.019571</td>\n",
       "      <td>0.024356</td>\n",
       "      <td>0.510427</td>\n",
       "    </tr>\n",
       "    <tr>\n",
       "      <th>3</th>\n",
       "      <td>&lt;implicit.nearest_neighbours.CosineRecommender...</td>\n",
       "      <td>0.007737</td>\n",
       "      <td>0.008932</td>\n",
       "      <td>0.503993</td>\n",
       "    </tr>\n",
       "  </tbody>\n",
       "</table>\n",
       "</div>"
      ],
      "text/plain": [
       "                                               model  map_at10  \\\n",
       "0  <implicit.cpu.als.AlternatingLeastSquares obje...   0.00707   \n",
       "1  <implicit.cpu.bpr.BayesianPersonalizedRanking ...  0.000678   \n",
       "2  <implicit.cpu.lmf.LogisticMatrixFactorization ...  0.019571   \n",
       "3  <implicit.nearest_neighbours.CosineRecommender...  0.007737   \n",
       "\n",
       "  result_ndcg_at_k result_auc  \n",
       "0         0.008644   0.503349  \n",
       "1         0.000919   0.499878  \n",
       "2         0.024356   0.510427  \n",
       "3         0.008932   0.503993  "
      ]
     },
     "execution_count": 16,
     "metadata": {},
     "output_type": "execute_result"
    }
   ],
   "source": [
    "df_rez = pd.DataFrame(data=[models_name, result_map_at10, result_ndcg_at_k, result_auc]).T\n",
    "df_rez.columns = ['model', 'map_at10', 'result_ndcg_at_k', 'result_auc']\n",
    "df_rez"
   ]
  },
  {
   "cell_type": "markdown",
   "metadata": {},
   "source": [
    "Параметры LogisticMatrixFactorization:\n",
    "\n",
    "* factors: Количество скрытых факторов. Количество латентных факторов, которые модель использует для представления пользователей и элементов.\n",
    "* learning_rate: Скорость обучения. Определяет размер шага, который модель делает при обновлении весов во время обучения.\n",
    "* regularization: Параметр регуляризации. Контролирует величину регуляризации для предотвращения переобучения.\n",
    "* iterations: Количество итераций. Количество итераций для алгоритма обучения."
   ]
  },
  {
   "cell_type": "code",
   "execution_count": 21,
   "metadata": {},
   "outputs": [],
   "source": [
    "def opt_Ext(trial):\n",
    "    # задаем пространство поиска гиперпараметров\n",
    "\n",
    "    factors = trial.suggest_categorical('factors',\n",
    "                                        [1, 2, 3, 4, 5, 6, 7, 8, 9, 10, 11, 12, 13, 14, 15,\n",
    "                                         17, 20, 25, 30, 50, 75, 100])\n",
    "    learning_rate = trial.suggest_categorical('learning_rate',\n",
    "                                              [0.0001, 0.0005, 0.001, 0.005, 0.01, 0.05, 0.1,\n",
    "                                               0.5, 1, 2, 3, 4, 5, 6, 7, 8, 9, 10])\n",
    "    regularization = trial.suggest_categorical('regularization',\n",
    "                                               [0.001, 0.005, 0.01, 0.05, 0.1, 0.5, 1, 2, 3,\n",
    "                                                4, 5, 6, 7, 8, 9, 10])\n",
    "    iterations = trial.suggest_categorical('iterations',\n",
    "                                           [1, 2, 3, 4, 5, 6, 7, 8, 9, 10, 11, 12, 13, 14, 15,\n",
    "                                            17, 20, 25, 30, 50, 75, 100, 200, 500, 1000, 10000])\n",
    "\n",
    "\n",
    "    # создаем модель\n",
    "    model = LogisticMatrixFactorization(factors=factors,\n",
    "                                        learning_rate=learning_rate,\n",
    "                                        regularization=regularization,\n",
    "                                        iterations=iterations,\n",
    "                                        num_threads = num_threads,\n",
    "                                        random_state=random_state,\n",
    "                                        )\n",
    "\n",
    "    model.fit(train_pivot_sparse)\n",
    "    score = ranking_metrics_at_k(model, train_pivot_sparse, valid_pivot_sparse, K=3)['ndcg']\n",
    "    return score"
   ]
  },
  {
   "cell_type": "code",
   "execution_count": 25,
   "metadata": {},
   "outputs": [
    {
     "name": "stderr",
     "output_type": "stream",
     "text": [
      "[I 2024-11-26 21:31:11,715] A new study created in memory with name: no-name-4199b9b1-0363-4c35-a207-49b49194f1e5\n"
     ]
    },
    {
     "data": {
      "application/vnd.jupyter.widget-view+json": {
       "model_id": "f32203e02228483480fd54209bc1d721",
       "version_major": 2,
       "version_minor": 0
      },
      "text/plain": [
       "  0%|          | 0/5 [00:00<?, ?it/s]"
      ]
     },
     "metadata": {},
     "output_type": "display_data"
    },
    {
     "data": {
      "application/vnd.jupyter.widget-view+json": {
       "model_id": "af900990573e472bbbae087a15af8a21",
       "version_major": 2,
       "version_minor": 0
      },
      "text/plain": [
       "  0%|          | 0/2587 [00:00<?, ?it/s]"
      ]
     },
     "metadata": {},
     "output_type": "display_data"
    },
    {
     "name": "stderr",
     "output_type": "stream",
     "text": [
      "[I 2024-11-26 21:31:12,155] Trial 0 finished with value: 0.0 and parameters: {'factors': 8, 'learning_rate': 0.1, 'regularization': 9, 'iterations': 5}. Best is trial 0 with value: 0.0.\n"
     ]
    },
    {
     "data": {
      "application/vnd.jupyter.widget-view+json": {
       "model_id": "f6669126e82e478d80663d1f07de48a8",
       "version_major": 2,
       "version_minor": 0
      },
      "text/plain": [
       "  0%|          | 0/6 [00:00<?, ?it/s]"
      ]
     },
     "metadata": {},
     "output_type": "display_data"
    },
    {
     "data": {
      "application/vnd.jupyter.widget-view+json": {
       "model_id": "a4c556ccc1ee4c50882629acbc4904ef",
       "version_major": 2,
       "version_minor": 0
      },
      "text/plain": [
       "  0%|          | 0/2587 [00:00<?, ?it/s]"
      ]
     },
     "metadata": {},
     "output_type": "display_data"
    },
    {
     "name": "stderr",
     "output_type": "stream",
     "text": [
      "[I 2024-11-26 21:31:12,588] Trial 1 finished with value: 0.00011850544893031666 and parameters: {'factors': 7, 'learning_rate': 0.0001, 'regularization': 0.5, 'iterations': 6}. Best is trial 1 with value: 0.00011850544893031666.\n"
     ]
    },
    {
     "data": {
      "application/vnd.jupyter.widget-view+json": {
       "model_id": "2428030ea8c84e59b969376db3fa42dc",
       "version_major": 2,
       "version_minor": 0
      },
      "text/plain": [
       "  0%|          | 0/1000 [00:00<?, ?it/s]"
      ]
     },
     "metadata": {},
     "output_type": "display_data"
    },
    {
     "data": {
      "application/vnd.jupyter.widget-view+json": {
       "model_id": "c9bcd7abe32a482b974e242a0a49d66a",
       "version_major": 2,
       "version_minor": 0
      },
      "text/plain": [
       "  0%|          | 0/2587 [00:00<?, ?it/s]"
      ]
     },
     "metadata": {},
     "output_type": "display_data"
    },
    {
     "name": "stderr",
     "output_type": "stream",
     "text": [
      "[I 2024-11-26 21:31:17,144] Trial 2 finished with value: 0.0016524152378485349 and parameters: {'factors': 15, 'learning_rate': 0.0005, 'regularization': 0.005, 'iterations': 1000}. Best is trial 2 with value: 0.0016524152378485349.\n"
     ]
    },
    {
     "data": {
      "application/vnd.jupyter.widget-view+json": {
       "model_id": "90a03877e06b4c1582d2e896b801fed3",
       "version_major": 2,
       "version_minor": 0
      },
      "text/plain": [
       "  0%|          | 0/15 [00:00<?, ?it/s]"
      ]
     },
     "metadata": {},
     "output_type": "display_data"
    },
    {
     "data": {
      "application/vnd.jupyter.widget-view+json": {
       "model_id": "9df151f246ed443a8a041bde1266a553",
       "version_major": 2,
       "version_minor": 0
      },
      "text/plain": [
       "  0%|          | 0/2587 [00:00<?, ?it/s]"
      ]
     },
     "metadata": {},
     "output_type": "display_data"
    },
    {
     "name": "stderr",
     "output_type": "stream",
     "text": [
      "[I 2024-11-26 21:31:17,593] Trial 3 finished with value: 0.0018922444099222085 and parameters: {'factors': 12, 'learning_rate': 10, 'regularization': 4, 'iterations': 15}. Best is trial 3 with value: 0.0018922444099222085.\n"
     ]
    },
    {
     "data": {
      "application/vnd.jupyter.widget-view+json": {
       "model_id": "3e32f44ac89143dfaf53897aca2b3063",
       "version_major": 2,
       "version_minor": 0
      },
      "text/plain": [
       "  0%|          | 0/25 [00:00<?, ?it/s]"
      ]
     },
     "metadata": {},
     "output_type": "display_data"
    },
    {
     "data": {
      "application/vnd.jupyter.widget-view+json": {
       "model_id": "05dc15eed4ce489088dded9bf66e9823",
       "version_major": 2,
       "version_minor": 0
      },
      "text/plain": [
       "  0%|          | 0/2587 [00:00<?, ?it/s]"
      ]
     },
     "metadata": {},
     "output_type": "display_data"
    },
    {
     "name": "stderr",
     "output_type": "stream",
     "text": [
      "[I 2024-11-26 21:31:18,018] Trial 4 finished with value: 0.0005397334327638497 and parameters: {'factors': 1, 'learning_rate': 0.001, 'regularization': 6, 'iterations': 25}. Best is trial 3 with value: 0.0018922444099222085.\n"
     ]
    },
    {
     "data": {
      "application/vnd.jupyter.widget-view+json": {
       "model_id": "95e6e3958f074b8c8f2c18bd5c958e1d",
       "version_major": 2,
       "version_minor": 0
      },
      "text/plain": [
       "  0%|          | 0/8 [00:00<?, ?it/s]"
      ]
     },
     "metadata": {},
     "output_type": "display_data"
    },
    {
     "data": {
      "application/vnd.jupyter.widget-view+json": {
       "model_id": "38efe74155c14a2587a95d4bb91f75a0",
       "version_major": 2,
       "version_minor": 0
      },
      "text/plain": [
       "  0%|          | 0/2587 [00:00<?, ?it/s]"
      ]
     },
     "metadata": {},
     "output_type": "display_data"
    },
    {
     "name": "stderr",
     "output_type": "stream",
     "text": [
      "[I 2024-11-26 21:31:18,631] Trial 5 finished with value: 0.008407310815616069 and parameters: {'factors': 50, 'learning_rate': 5, 'regularization': 0.01, 'iterations': 8}. Best is trial 5 with value: 0.008407310815616069.\n"
     ]
    },
    {
     "data": {
      "application/vnd.jupyter.widget-view+json": {
       "model_id": "ef115eca0fe24bfca933302fb27682d8",
       "version_major": 2,
       "version_minor": 0
      },
      "text/plain": [
       "  0%|          | 0/15 [00:00<?, ?it/s]"
      ]
     },
     "metadata": {},
     "output_type": "display_data"
    },
    {
     "data": {
      "application/vnd.jupyter.widget-view+json": {
       "model_id": "eff8445e564d48aea3be63cc7917dee6",
       "version_major": 2,
       "version_minor": 0
      },
      "text/plain": [
       "  0%|          | 0/2587 [00:00<?, ?it/s]"
      ]
     },
     "metadata": {},
     "output_type": "display_data"
    },
    {
     "name": "stderr",
     "output_type": "stream",
     "text": [
      "[I 2024-11-26 21:31:19,093] Trial 6 finished with value: 0.0039393039721155355 and parameters: {'factors': 7, 'learning_rate': 10, 'regularization': 10, 'iterations': 15}. Best is trial 5 with value: 0.008407310815616069.\n"
     ]
    },
    {
     "data": {
      "application/vnd.jupyter.widget-view+json": {
       "model_id": "2c114bd9c79a4607a0a22fa3c5202f5d",
       "version_major": 2,
       "version_minor": 0
      },
      "text/plain": [
       "  0%|          | 0/14 [00:00<?, ?it/s]"
      ]
     },
     "metadata": {},
     "output_type": "display_data"
    },
    {
     "data": {
      "application/vnd.jupyter.widget-view+json": {
       "model_id": "6c61da4a693f4597af78d79f3280a085",
       "version_major": 2,
       "version_minor": 0
      },
      "text/plain": [
       "  0%|          | 0/2587 [00:00<?, ?it/s]"
      ]
     },
     "metadata": {},
     "output_type": "display_data"
    },
    {
     "name": "stderr",
     "output_type": "stream",
     "text": [
      "[I 2024-11-26 21:31:19,556] Trial 7 finished with value: 0.02142269773507234 and parameters: {'factors': 17, 'learning_rate': 3, 'regularization': 6, 'iterations': 14}. Best is trial 7 with value: 0.02142269773507234.\n"
     ]
    },
    {
     "data": {
      "application/vnd.jupyter.widget-view+json": {
       "model_id": "ac48feba43c8439fa6ff1cae3366d5f1",
       "version_major": 2,
       "version_minor": 0
      },
      "text/plain": [
       "  0%|          | 0/75 [00:00<?, ?it/s]"
      ]
     },
     "metadata": {},
     "output_type": "display_data"
    },
    {
     "data": {
      "application/vnd.jupyter.widget-view+json": {
       "model_id": "d28f00116db94452baee8cc59117e1af",
       "version_major": 2,
       "version_minor": 0
      },
      "text/plain": [
       "  0%|          | 0/2587 [00:00<?, ?it/s]"
      ]
     },
     "metadata": {},
     "output_type": "display_data"
    },
    {
     "name": "stderr",
     "output_type": "stream",
     "text": [
      "[I 2024-11-26 21:31:20,701] Trial 8 finished with value: 0.0 and parameters: {'factors': 30, 'learning_rate': 0.001, 'regularization': 0.01, 'iterations': 75}. Best is trial 7 with value: 0.02142269773507234.\n"
     ]
    },
    {
     "data": {
      "application/vnd.jupyter.widget-view+json": {
       "model_id": "1d327cb6cee54651b6f275a0fdbd92b5",
       "version_major": 2,
       "version_minor": 0
      },
      "text/plain": [
       "  0%|          | 0/20 [00:00<?, ?it/s]"
      ]
     },
     "metadata": {},
     "output_type": "display_data"
    },
    {
     "data": {
      "application/vnd.jupyter.widget-view+json": {
       "model_id": "8be543442bc94eb9be494461215f5cd3",
       "version_major": 2,
       "version_minor": 0
      },
      "text/plain": [
       "  0%|          | 0/2587 [00:00<?, ?it/s]"
      ]
     },
     "metadata": {},
     "output_type": "display_data"
    },
    {
     "name": "stderr",
     "output_type": "stream",
     "text": [
      "[I 2024-11-26 21:31:21,157] Trial 9 finished with value: 0.02331462100476227 and parameters: {'factors': 6, 'learning_rate': 8, 'regularization': 6, 'iterations': 20}. Best is trial 9 with value: 0.02331462100476227.\n"
     ]
    },
    {
     "data": {
      "application/vnd.jupyter.widget-view+json": {
       "model_id": "3b93dbf84f4d4d41942d90b6bcf5736f",
       "version_major": 2,
       "version_minor": 0
      },
      "text/plain": [
       "  0%|          | 0/20 [00:00<?, ?it/s]"
      ]
     },
     "metadata": {},
     "output_type": "display_data"
    },
    {
     "data": {
      "application/vnd.jupyter.widget-view+json": {
       "model_id": "7da329ac9171420abc9dddb3dd988061",
       "version_major": 2,
       "version_minor": 0
      },
      "text/plain": [
       "  0%|          | 0/2587 [00:00<?, ?it/s]"
      ]
     },
     "metadata": {},
     "output_type": "display_data"
    },
    {
     "name": "stderr",
     "output_type": "stream",
     "text": [
      "[I 2024-11-26 21:31:21,574] Trial 10 finished with value: 0.007022923370524983 and parameters: {'factors': 6, 'learning_rate': 1, 'regularization': 0.001, 'iterations': 20}. Best is trial 9 with value: 0.02331462100476227.\n"
     ]
    },
    {
     "data": {
      "application/vnd.jupyter.widget-view+json": {
       "model_id": "4458080718cd47f88484f8db6d58c101",
       "version_major": 2,
       "version_minor": 0
      },
      "text/plain": [
       "  0%|          | 0/14 [00:00<?, ?it/s]"
      ]
     },
     "metadata": {},
     "output_type": "display_data"
    },
    {
     "data": {
      "application/vnd.jupyter.widget-view+json": {
       "model_id": "b36212bd54c74250a1f4045660b6fdd0",
       "version_major": 2,
       "version_minor": 0
      },
      "text/plain": [
       "  0%|          | 0/2587 [00:00<?, ?it/s]"
      ]
     },
     "metadata": {},
     "output_type": "display_data"
    },
    {
     "name": "stderr",
     "output_type": "stream",
     "text": [
      "[I 2024-11-26 21:31:22,054] Trial 11 finished with value: 0.013350786189383294 and parameters: {'factors': 17, 'learning_rate': 8, 'regularization': 6, 'iterations': 14}. Best is trial 9 with value: 0.02331462100476227.\n"
     ]
    },
    {
     "data": {
      "application/vnd.jupyter.widget-view+json": {
       "model_id": "104e4ea566f94d669ae9d85b21e9b507",
       "version_major": 2,
       "version_minor": 0
      },
      "text/plain": [
       "  0%|          | 0/20 [00:00<?, ?it/s]"
      ]
     },
     "metadata": {},
     "output_type": "display_data"
    },
    {
     "data": {
      "application/vnd.jupyter.widget-view+json": {
       "model_id": "452d4244bbe347478d9ae32ce9c58204",
       "version_major": 2,
       "version_minor": 0
      },
      "text/plain": [
       "  0%|          | 0/2587 [00:00<?, ?it/s]"
      ]
     },
     "metadata": {},
     "output_type": "display_data"
    },
    {
     "name": "stderr",
     "output_type": "stream",
     "text": [
      "[I 2024-11-26 21:31:22,496] Trial 12 finished with value: 0.020749837102921248 and parameters: {'factors': 6, 'learning_rate': 3, 'regularization': 1, 'iterations': 20}. Best is trial 9 with value: 0.02331462100476227.\n"
     ]
    },
    {
     "data": {
      "application/vnd.jupyter.widget-view+json": {
       "model_id": "453aec94e12d48d8911cd486615b2b91",
       "version_major": 2,
       "version_minor": 0
      },
      "text/plain": [
       "  0%|          | 0/50 [00:00<?, ?it/s]"
      ]
     },
     "metadata": {},
     "output_type": "display_data"
    },
    {
     "data": {
      "application/vnd.jupyter.widget-view+json": {
       "model_id": "b76b370e01214d4fbbb7321db125335d",
       "version_major": 2,
       "version_minor": 0
      },
      "text/plain": [
       "  0%|          | 0/2587 [00:00<?, ?it/s]"
      ]
     },
     "metadata": {},
     "output_type": "display_data"
    },
    {
     "name": "stderr",
     "output_type": "stream",
     "text": [
      "[I 2024-11-26 21:31:23,195] Trial 13 finished with value: 0.02293868826351632 and parameters: {'factors': 17, 'learning_rate': 4, 'regularization': 6, 'iterations': 50}. Best is trial 9 with value: 0.02331462100476227.\n"
     ]
    },
    {
     "data": {
      "application/vnd.jupyter.widget-view+json": {
       "model_id": "901b4124b6a44bcca01c89b1b0f64ab6",
       "version_major": 2,
       "version_minor": 0
      },
      "text/plain": [
       "  0%|          | 0/50 [00:00<?, ?it/s]"
      ]
     },
     "metadata": {},
     "output_type": "display_data"
    },
    {
     "data": {
      "application/vnd.jupyter.widget-view+json": {
       "model_id": "7836b263e7b547ed98eabdd6cfbe93f8",
       "version_major": 2,
       "version_minor": 0
      },
      "text/plain": [
       "  0%|          | 0/2587 [00:00<?, ?it/s]"
      ]
     },
     "metadata": {},
     "output_type": "display_data"
    },
    {
     "name": "stderr",
     "output_type": "stream",
     "text": [
      "[I 2024-11-26 21:31:23,849] Trial 14 finished with value: 0.014977858335794259 and parameters: {'factors': 14, 'learning_rate': 4, 'regularization': 2, 'iterations': 50}. Best is trial 9 with value: 0.02331462100476227.\n"
     ]
    },
    {
     "data": {
      "application/vnd.jupyter.widget-view+json": {
       "model_id": "ab072a9b4c9b413ba0d189bc8d1e7cad",
       "version_major": 2,
       "version_minor": 0
      },
      "text/plain": [
       "  0%|          | 0/1 [00:00<?, ?it/s]"
      ]
     },
     "metadata": {},
     "output_type": "display_data"
    },
    {
     "data": {
      "application/vnd.jupyter.widget-view+json": {
       "model_id": "bf3f39f3f81244b097c067111f4bb183",
       "version_major": 2,
       "version_minor": 0
      },
      "text/plain": [
       "  0%|          | 0/2587 [00:00<?, ?it/s]"
      ]
     },
     "metadata": {},
     "output_type": "display_data"
    },
    {
     "name": "stderr",
     "output_type": "stream",
     "text": [
      "[I 2024-11-26 21:31:24,235] Trial 15 finished with value: 0.002480289244298494 and parameters: {'factors': 3, 'learning_rate': 6, 'regularization': 7, 'iterations': 1}. Best is trial 9 with value: 0.02331462100476227.\n"
     ]
    },
    {
     "data": {
      "application/vnd.jupyter.widget-view+json": {
       "model_id": "f4dbf71d9e86408ab9921eb9fffb5d0d",
       "version_major": 2,
       "version_minor": 0
      },
      "text/plain": [
       "  0%|          | 0/50 [00:00<?, ?it/s]"
      ]
     },
     "metadata": {},
     "output_type": "display_data"
    },
    {
     "data": {
      "application/vnd.jupyter.widget-view+json": {
       "model_id": "6490132a2aa64c6a8cd2d36303490a1f",
       "version_major": 2,
       "version_minor": 0
      },
      "text/plain": [
       "  0%|          | 0/2587 [00:00<?, ?it/s]"
      ]
     },
     "metadata": {},
     "output_type": "display_data"
    },
    {
     "name": "stderr",
     "output_type": "stream",
     "text": [
      "[I 2024-11-26 21:31:24,810] Trial 16 finished with value: 0.00047724753112152234 and parameters: {'factors': 13, 'learning_rate': 0.01, 'regularization': 3, 'iterations': 50}. Best is trial 9 with value: 0.02331462100476227.\n"
     ]
    },
    {
     "data": {
      "application/vnd.jupyter.widget-view+json": {
       "model_id": "ba64bcd0faef4606b622216d526d87dc",
       "version_major": 2,
       "version_minor": 0
      },
      "text/plain": [
       "  0%|          | 0/13 [00:00<?, ?it/s]"
      ]
     },
     "metadata": {},
     "output_type": "display_data"
    },
    {
     "data": {
      "application/vnd.jupyter.widget-view+json": {
       "model_id": "0474db216b9d4d738738c69ccd2eac7b",
       "version_major": 2,
       "version_minor": 0
      },
      "text/plain": [
       "  0%|          | 0/2587 [00:00<?, ?it/s]"
      ]
     },
     "metadata": {},
     "output_type": "display_data"
    },
    {
     "name": "stderr",
     "output_type": "stream",
     "text": [
      "[I 2024-11-26 21:31:25,876] Trial 17 finished with value: 0.022715269119436363 and parameters: {'factors': 100, 'learning_rate': 4, 'regularization': 0.05, 'iterations': 13}. Best is trial 9 with value: 0.02331462100476227.\n"
     ]
    },
    {
     "data": {
      "application/vnd.jupyter.widget-view+json": {
       "model_id": "50dc29426cd84e6f808c67fbf04bac70",
       "version_major": 2,
       "version_minor": 0
      },
      "text/plain": [
       "  0%|          | 0/10000 [00:00<?, ?it/s]"
      ]
     },
     "metadata": {},
     "output_type": "display_data"
    },
    {
     "data": {
      "application/vnd.jupyter.widget-view+json": {
       "model_id": "423c8ef7e7c34a47ba47b76fcbd4747d",
       "version_major": 2,
       "version_minor": 0
      },
      "text/plain": [
       "  0%|          | 0/2587 [00:00<?, ?it/s]"
      ]
     },
     "metadata": {},
     "output_type": "display_data"
    },
    {
     "name": "stderr",
     "output_type": "stream",
     "text": [
      "[I 2024-11-26 21:32:25,913] Trial 18 finished with value: 0.00020514931348173307 and parameters: {'factors': 20, 'learning_rate': 0.005, 'regularization': 8, 'iterations': 10000}. Best is trial 9 with value: 0.02331462100476227.\n"
     ]
    },
    {
     "data": {
      "application/vnd.jupyter.widget-view+json": {
       "model_id": "ae7bbea329f84e4aae50b55da2e46eec",
       "version_major": 2,
       "version_minor": 0
      },
      "text/plain": [
       "  0%|          | 0/7 [00:00<?, ?it/s]"
      ]
     },
     "metadata": {},
     "output_type": "display_data"
    },
    {
     "data": {
      "application/vnd.jupyter.widget-view+json": {
       "model_id": "59cd910200b846919e9c7f5a63c4bbae",
       "version_major": 2,
       "version_minor": 0
      },
      "text/plain": [
       "  0%|          | 0/2587 [00:00<?, ?it/s]"
      ]
     },
     "metadata": {},
     "output_type": "display_data"
    },
    {
     "name": "stderr",
     "output_type": "stream",
     "text": [
      "[I 2024-11-26 21:32:26,301] Trial 19 finished with value: 0.002600036484550026 and parameters: {'factors': 4, 'learning_rate': 8, 'regularization': 5, 'iterations': 7}. Best is trial 9 with value: 0.02331462100476227.\n"
     ]
    },
    {
     "data": {
      "application/vnd.jupyter.widget-view+json": {
       "model_id": "505364c8364e4e2e8fc70d05834f8379",
       "version_major": 2,
       "version_minor": 0
      },
      "text/plain": [
       "  0%|          | 0/200 [00:00<?, ?it/s]"
      ]
     },
     "metadata": {},
     "output_type": "display_data"
    },
    {
     "data": {
      "application/vnd.jupyter.widget-view+json": {
       "model_id": "1953491037704906a7cc894e7d7d0bd1",
       "version_major": 2,
       "version_minor": 0
      },
      "text/plain": [
       "  0%|          | 0/2587 [00:00<?, ?it/s]"
      ]
     },
     "metadata": {},
     "output_type": "display_data"
    },
    {
     "name": "stderr",
     "output_type": "stream",
     "text": [
      "[I 2024-11-26 21:32:31,989] Trial 20 finished with value: 0.02408674876150476 and parameters: {'factors': 75, 'learning_rate': 2, 'regularization': 6, 'iterations': 200}. Best is trial 20 with value: 0.02408674876150476.\n"
     ]
    },
    {
     "data": {
      "application/vnd.jupyter.widget-view+json": {
       "model_id": "c5b241a85b2140d5bdf66e03eaf02c79",
       "version_major": 2,
       "version_minor": 0
      },
      "text/plain": [
       "  0%|          | 0/200 [00:00<?, ?it/s]"
      ]
     },
     "metadata": {},
     "output_type": "display_data"
    },
    {
     "data": {
      "application/vnd.jupyter.widget-view+json": {
       "model_id": "e4de043bae044856a99bf8d1f0f2ffa9",
       "version_major": 2,
       "version_minor": 0
      },
      "text/plain": [
       "  0%|          | 0/2587 [00:00<?, ?it/s]"
      ]
     },
     "metadata": {},
     "output_type": "display_data"
    },
    {
     "name": "stderr",
     "output_type": "stream",
     "text": [
      "[I 2024-11-26 21:32:32,613] Trial 21 finished with value: 0.021378131093904244 and parameters: {'factors': 5, 'learning_rate': 2, 'regularization': 0.1, 'iterations': 200}. Best is trial 20 with value: 0.02408674876150476.\n"
     ]
    },
    {
     "data": {
      "application/vnd.jupyter.widget-view+json": {
       "model_id": "32304a9e43ed446ab8b227d2d9e005a0",
       "version_major": 2,
       "version_minor": 0
      },
      "text/plain": [
       "  0%|          | 0/200 [00:00<?, ?it/s]"
      ]
     },
     "metadata": {},
     "output_type": "display_data"
    },
    {
     "data": {
      "application/vnd.jupyter.widget-view+json": {
       "model_id": "1b4bbe00169e4c28b6ff3f209a6bdbe7",
       "version_major": 2,
       "version_minor": 0
      },
      "text/plain": [
       "  0%|          | 0/2587 [00:00<?, ?it/s]"
      ]
     },
     "metadata": {},
     "output_type": "display_data"
    },
    {
     "name": "stderr",
     "output_type": "stream",
     "text": [
      "[I 2024-11-26 21:32:33,168] Trial 22 finished with value: 0.018052970772977604 and parameters: {'factors': 2, 'learning_rate': 0.5, 'regularization': 6, 'iterations': 200}. Best is trial 20 with value: 0.02408674876150476.\n"
     ]
    },
    {
     "data": {
      "application/vnd.jupyter.widget-view+json": {
       "model_id": "0a4b97c8ea25472ca3c8e4010a4b2201",
       "version_major": 2,
       "version_minor": 0
      },
      "text/plain": [
       "  0%|          | 0/12 [00:00<?, ?it/s]"
      ]
     },
     "metadata": {},
     "output_type": "display_data"
    },
    {
     "data": {
      "application/vnd.jupyter.widget-view+json": {
       "model_id": "f5f84562f4d047cdb4fb7e98618b36cc",
       "version_major": 2,
       "version_minor": 0
      },
      "text/plain": [
       "  0%|          | 0/2587 [00:00<?, ?it/s]"
      ]
     },
     "metadata": {},
     "output_type": "display_data"
    },
    {
     "name": "stderr",
     "output_type": "stream",
     "text": [
      "[I 2024-11-26 21:32:33,861] Trial 23 finished with value: 0.007685538933779919 and parameters: {'factors': 75, 'learning_rate': 7, 'regularization': 6, 'iterations': 12}. Best is trial 20 with value: 0.02408674876150476.\n"
     ]
    },
    {
     "data": {
      "application/vnd.jupyter.widget-view+json": {
       "model_id": "641c73da3a684d41b865f915730116f7",
       "version_major": 2,
       "version_minor": 0
      },
      "text/plain": [
       "  0%|          | 0/10 [00:00<?, ?it/s]"
      ]
     },
     "metadata": {},
     "output_type": "display_data"
    },
    {
     "data": {
      "application/vnd.jupyter.widget-view+json": {
       "model_id": "691fc4d1fc4e4699aa9a5d972449d065",
       "version_major": 2,
       "version_minor": 0
      },
      "text/plain": [
       "  0%|          | 0/2587 [00:00<?, ?it/s]"
      ]
     },
     "metadata": {},
     "output_type": "display_data"
    },
    {
     "name": "stderr",
     "output_type": "stream",
     "text": [
      "[I 2024-11-26 21:32:34,263] Trial 24 finished with value: 0.00018139881175985946 and parameters: {'factors': 9, 'learning_rate': 0.05, 'regularization': 6, 'iterations': 10}. Best is trial 20 with value: 0.02408674876150476.\n"
     ]
    },
    {
     "data": {
      "application/vnd.jupyter.widget-view+json": {
       "model_id": "06b493852b4f44f18a6e1d1fac37e843",
       "version_major": 2,
       "version_minor": 0
      },
      "text/plain": [
       "  0%|          | 0/100 [00:00<?, ?it/s]"
      ]
     },
     "metadata": {},
     "output_type": "display_data"
    },
    {
     "data": {
      "application/vnd.jupyter.widget-view+json": {
       "model_id": "927ff3c119bc4fcb9626779eb0b5e80d",
       "version_major": 2,
       "version_minor": 0
      },
      "text/plain": [
       "  0%|          | 0/2587 [00:00<?, ?it/s]"
      ]
     },
     "metadata": {},
     "output_type": "display_data"
    },
    {
     "name": "stderr",
     "output_type": "stream",
     "text": [
      "[I 2024-11-26 21:32:34,886] Trial 25 finished with value: 0.018168657947694886 and parameters: {'factors': 11, 'learning_rate': 9, 'regularization': 6, 'iterations': 100}. Best is trial 20 with value: 0.02408674876150476.\n"
     ]
    },
    {
     "data": {
      "application/vnd.jupyter.widget-view+json": {
       "model_id": "c6471d41478f415eac427ec163ef7611",
       "version_major": 2,
       "version_minor": 0
      },
      "text/plain": [
       "  0%|          | 0/17 [00:00<?, ?it/s]"
      ]
     },
     "metadata": {},
     "output_type": "display_data"
    },
    {
     "data": {
      "application/vnd.jupyter.widget-view+json": {
       "model_id": "d71761317a49498c8deadfd7370e9026",
       "version_major": 2,
       "version_minor": 0
      },
      "text/plain": [
       "  0%|          | 0/2587 [00:00<?, ?it/s]"
      ]
     },
     "metadata": {},
     "output_type": "display_data"
    },
    {
     "name": "stderr",
     "output_type": "stream",
     "text": [
      "[I 2024-11-26 21:32:35,744] Trial 26 finished with value: 0.016925595442818936 and parameters: {'factors': 75, 'learning_rate': 2, 'regularization': 0.001, 'iterations': 17}. Best is trial 20 with value: 0.02408674876150476.\n"
     ]
    },
    {
     "data": {
      "application/vnd.jupyter.widget-view+json": {
       "model_id": "e9167bf02530479b811823e8b3e789e6",
       "version_major": 2,
       "version_minor": 0
      },
      "text/plain": [
       "  0%|          | 0/11 [00:00<?, ?it/s]"
      ]
     },
     "metadata": {},
     "output_type": "display_data"
    },
    {
     "data": {
      "application/vnd.jupyter.widget-view+json": {
       "model_id": "ce4fc793e16547d49f69c8439772298a",
       "version_major": 2,
       "version_minor": 0
      },
      "text/plain": [
       "  0%|          | 0/2587 [00:00<?, ?it/s]"
      ]
     },
     "metadata": {},
     "output_type": "display_data"
    },
    {
     "name": "stderr",
     "output_type": "stream",
     "text": [
      "[I 2024-11-26 21:32:36,133] Trial 27 finished with value: 0.018052970772977604 and parameters: {'factors': 10, 'learning_rate': 4, 'regularization': 8, 'iterations': 11}. Best is trial 20 with value: 0.02408674876150476.\n"
     ]
    },
    {
     "data": {
      "application/vnd.jupyter.widget-view+json": {
       "model_id": "bc4880733fe2462ea0f06e079701b23c",
       "version_major": 2,
       "version_minor": 0
      },
      "text/plain": [
       "  0%|          | 0/500 [00:00<?, ?it/s]"
      ]
     },
     "metadata": {},
     "output_type": "display_data"
    },
    {
     "data": {
      "application/vnd.jupyter.widget-view+json": {
       "model_id": "258e382b4b954580b36835d1b3e44b91",
       "version_major": 2,
       "version_minor": 0
      },
      "text/plain": [
       "  0%|          | 0/2587 [00:00<?, ?it/s]"
      ]
     },
     "metadata": {},
     "output_type": "display_data"
    },
    {
     "name": "stderr",
     "output_type": "stream",
     "text": [
      "[I 2024-11-26 21:32:40,202] Trial 28 finished with value: 0.018052970772977604 and parameters: {'factors': 25, 'learning_rate': 8, 'regularization': 10, 'iterations': 500}. Best is trial 20 with value: 0.02408674876150476.\n"
     ]
    },
    {
     "data": {
      "application/vnd.jupyter.widget-view+json": {
       "model_id": "487202496a3d47cf92c4e9fd368f30ce",
       "version_major": 2,
       "version_minor": 0
      },
      "text/plain": [
       "  0%|          | 0/2 [00:00<?, ?it/s]"
      ]
     },
     "metadata": {},
     "output_type": "display_data"
    },
    {
     "data": {
      "application/vnd.jupyter.widget-view+json": {
       "model_id": "7ebc5c499dd8426c91151f9251faffc2",
       "version_major": 2,
       "version_minor": 0
      },
      "text/plain": [
       "  0%|          | 0/2587 [00:00<?, ?it/s]"
      ]
     },
     "metadata": {},
     "output_type": "display_data"
    },
    {
     "name": "stderr",
     "output_type": "stream",
     "text": [
      "[I 2024-11-26 21:32:40,567] Trial 29 finished with value: 0.0 and parameters: {'factors': 8, 'learning_rate': 0.1, 'regularization': 9, 'iterations': 2}. Best is trial 20 with value: 0.02408674876150476.\n"
     ]
    },
    {
     "data": {
      "application/vnd.jupyter.widget-view+json": {
       "model_id": "3f9f7c69b43b4c7cbde454fcf745ff90",
       "version_major": 2,
       "version_minor": 0
      },
      "text/plain": [
       "  0%|          | 0/5 [00:00<?, ?it/s]"
      ]
     },
     "metadata": {},
     "output_type": "display_data"
    },
    {
     "data": {
      "application/vnd.jupyter.widget-view+json": {
       "model_id": "d6b5384bae1640d8b3476214b293ebcb",
       "version_major": 2,
       "version_minor": 0
      },
      "text/plain": [
       "  0%|          | 0/2587 [00:00<?, ?it/s]"
      ]
     },
     "metadata": {},
     "output_type": "display_data"
    },
    {
     "name": "stderr",
     "output_type": "stream",
     "text": [
      "[I 2024-11-26 21:32:40,947] Trial 30 finished with value: 0.0035946875523029283 and parameters: {'factors': 6, 'learning_rate': 2, 'regularization': 0.05, 'iterations': 5}. Best is trial 20 with value: 0.02408674876150476.\n"
     ]
    },
    {
     "data": {
      "application/vnd.jupyter.widget-view+json": {
       "model_id": "08dd40cf05264c4984b69d3fddbb0b1e",
       "version_major": 2,
       "version_minor": 0
      },
      "text/plain": [
       "  0%|          | 0/9 [00:00<?, ?it/s]"
      ]
     },
     "metadata": {},
     "output_type": "display_data"
    },
    {
     "data": {
      "application/vnd.jupyter.widget-view+json": {
       "model_id": "6549597ef8e54a638108a14ce65b4596",
       "version_major": 2,
       "version_minor": 0
      },
      "text/plain": [
       "  0%|          | 0/2587 [00:00<?, ?it/s]"
      ]
     },
     "metadata": {},
     "output_type": "display_data"
    },
    {
     "name": "stderr",
     "output_type": "stream",
     "text": [
      "[I 2024-11-26 21:32:41,694] Trial 31 finished with value: 0.0226126944626955 and parameters: {'factors': 100, 'learning_rate': 4, 'regularization': 0.05, 'iterations': 9}. Best is trial 20 with value: 0.02408674876150476.\n"
     ]
    },
    {
     "data": {
      "application/vnd.jupyter.widget-view+json": {
       "model_id": "f0775e20015c45cfaaa4a46540c47afc",
       "version_major": 2,
       "version_minor": 0
      },
      "text/plain": [
       "  0%|          | 0/13 [00:00<?, ?it/s]"
      ]
     },
     "metadata": {},
     "output_type": "display_data"
    },
    {
     "data": {
      "application/vnd.jupyter.widget-view+json": {
       "model_id": "e2ae8ed1f75e44d182b6cdb0170ba1bf",
       "version_major": 2,
       "version_minor": 0
      },
      "text/plain": [
       "  0%|          | 0/2587 [00:00<?, ?it/s]"
      ]
     },
     "metadata": {},
     "output_type": "display_data"
    },
    {
     "name": "stderr",
     "output_type": "stream",
     "text": [
      "[I 2024-11-26 21:32:42,593] Trial 32 finished with value: 0.022715269119436363 and parameters: {'factors': 100, 'learning_rate': 4, 'regularization': 0.05, 'iterations': 13}. Best is trial 20 with value: 0.02408674876150476.\n"
     ]
    },
    {
     "data": {
      "application/vnd.jupyter.widget-view+json": {
       "model_id": "029ec5bb0943489e862bd20fde24df71",
       "version_major": 2,
       "version_minor": 0
      },
      "text/plain": [
       "  0%|          | 0/4 [00:00<?, ?it/s]"
      ]
     },
     "metadata": {},
     "output_type": "display_data"
    },
    {
     "data": {
      "application/vnd.jupyter.widget-view+json": {
       "model_id": "4c4073ff8cd24e4ea400d8dfbf6ca200",
       "version_major": 2,
       "version_minor": 0
      },
      "text/plain": [
       "  0%|          | 0/2587 [00:00<?, ?it/s]"
      ]
     },
     "metadata": {},
     "output_type": "display_data"
    },
    {
     "name": "stderr",
     "output_type": "stream",
     "text": [
      "[I 2024-11-26 21:32:42,986] Trial 33 finished with value: 0.0 and parameters: {'factors': 17, 'learning_rate': 0.0001, 'regularization': 0.5, 'iterations': 4}. Best is trial 20 with value: 0.02408674876150476.\n"
     ]
    },
    {
     "data": {
      "application/vnd.jupyter.widget-view+json": {
       "model_id": "846ae350e3a744478f50973e70fa62d4",
       "version_major": 2,
       "version_minor": 0
      },
      "text/plain": [
       "  0%|          | 0/30 [00:00<?, ?it/s]"
      ]
     },
     "metadata": {},
     "output_type": "display_data"
    },
    {
     "data": {
      "application/vnd.jupyter.widget-view+json": {
       "model_id": "40b17a0f9edf4672b5b7ea4dda82a372",
       "version_major": 2,
       "version_minor": 0
      },
      "text/plain": [
       "  0%|          | 0/2587 [00:00<?, ?it/s]"
      ]
     },
     "metadata": {},
     "output_type": "display_data"
    },
    {
     "name": "stderr",
     "output_type": "stream",
     "text": [
      "[I 2024-11-26 21:32:43,492] Trial 34 finished with value: 0.0016524152378485349 and parameters: {'factors': 15, 'learning_rate': 0.0005, 'regularization': 0.005, 'iterations': 30}. Best is trial 20 with value: 0.02408674876150476.\n"
     ]
    },
    {
     "data": {
      "application/vnd.jupyter.widget-view+json": {
       "model_id": "33a8f3f9f092416db9334b367aa071e2",
       "version_major": 2,
       "version_minor": 0
      },
      "text/plain": [
       "  0%|          | 0/13 [00:00<?, ?it/s]"
      ]
     },
     "metadata": {},
     "output_type": "display_data"
    },
    {
     "data": {
      "application/vnd.jupyter.widget-view+json": {
       "model_id": "74bc2ab495584895937a8a0cf25e8943",
       "version_major": 2,
       "version_minor": 0
      },
      "text/plain": [
       "  0%|          | 0/2587 [00:00<?, ?it/s]"
      ]
     },
     "metadata": {},
     "output_type": "display_data"
    },
    {
     "name": "stderr",
     "output_type": "stream",
     "text": [
      "[I 2024-11-26 21:32:44,397] Trial 35 finished with value: 0.007422613780850639 and parameters: {'factors': 100, 'learning_rate': 4, 'regularization': 4, 'iterations': 13}. Best is trial 20 with value: 0.02408674876150476.\n"
     ]
    },
    {
     "data": {
      "application/vnd.jupyter.widget-view+json": {
       "model_id": "c3a349b4ece0426b83415b83b0ac2586",
       "version_major": 2,
       "version_minor": 0
      },
      "text/plain": [
       "  0%|          | 0/3 [00:00<?, ?it/s]"
      ]
     },
     "metadata": {},
     "output_type": "display_data"
    },
    {
     "data": {
      "application/vnd.jupyter.widget-view+json": {
       "model_id": "3af728fe3e1341f1bd86092e9bddb959",
       "version_major": 2,
       "version_minor": 0
      },
      "text/plain": [
       "  0%|          | 0/2587 [00:00<?, ?it/s]"
      ]
     },
     "metadata": {},
     "output_type": "display_data"
    },
    {
     "name": "stderr",
     "output_type": "stream",
     "text": [
      "[I 2024-11-26 21:32:44,854] Trial 36 finished with value: 0.0067269883302083595 and parameters: {'factors': 75, 'learning_rate': 5, 'regularization': 3, 'iterations': 3}. Best is trial 20 with value: 0.02408674876150476.\n"
     ]
    },
    {
     "data": {
      "application/vnd.jupyter.widget-view+json": {
       "model_id": "027437369ec84c95b096db09c9e8083a",
       "version_major": 2,
       "version_minor": 0
      },
      "text/plain": [
       "  0%|          | 0/6 [00:00<?, ?it/s]"
      ]
     },
     "metadata": {},
     "output_type": "display_data"
    },
    {
     "data": {
      "application/vnd.jupyter.widget-view+json": {
       "model_id": "d729b6bf7a724ba0bfd99e7ce97e63d2",
       "version_major": 2,
       "version_minor": 0
      },
      "text/plain": [
       "  0%|          | 0/2587 [00:00<?, ?it/s]"
      ]
     },
     "metadata": {},
     "output_type": "display_data"
    },
    {
     "name": "stderr",
     "output_type": "stream",
     "text": [
      "[I 2024-11-26 21:32:45,247] Trial 37 finished with value: 0.01691331273077079 and parameters: {'factors': 12, 'learning_rate': 1, 'regularization': 7, 'iterations': 6}. Best is trial 20 with value: 0.02408674876150476.\n"
     ]
    },
    {
     "data": {
      "application/vnd.jupyter.widget-view+json": {
       "model_id": "1bf72ba893df4bccaed6e7dfcf51c237",
       "version_major": 2,
       "version_minor": 0
      },
      "text/plain": [
       "  0%|          | 0/1000 [00:00<?, ?it/s]"
      ]
     },
     "metadata": {},
     "output_type": "display_data"
    },
    {
     "data": {
      "application/vnd.jupyter.widget-view+json": {
       "model_id": "1a28595970cd4e7bb6e0682821df4463",
       "version_major": 2,
       "version_minor": 0
      },
      "text/plain": [
       "  0%|          | 0/2587 [00:00<?, ?it/s]"
      ]
     },
     "metadata": {},
     "output_type": "display_data"
    },
    {
     "name": "stderr",
     "output_type": "stream",
     "text": [
      "[I 2024-11-26 21:33:01,411] Trial 38 finished with value: 0.0228712009265546 and parameters: {'factors': 50, 'learning_rate': 7, 'regularization': 6, 'iterations': 1000}. Best is trial 20 with value: 0.02408674876150476.\n"
     ]
    },
    {
     "data": {
      "application/vnd.jupyter.widget-view+json": {
       "model_id": "cf89bada22fe442bbc491951b93d09be",
       "version_major": 2,
       "version_minor": 0
      },
      "text/plain": [
       "  0%|          | 0/1000 [00:00<?, ?it/s]"
      ]
     },
     "metadata": {},
     "output_type": "display_data"
    },
    {
     "data": {
      "application/vnd.jupyter.widget-view+json": {
       "model_id": "05567026a9374a51b1309eb17b08eae7",
       "version_major": 2,
       "version_minor": 0
      },
      "text/plain": [
       "  0%|          | 0/2587 [00:00<?, ?it/s]"
      ]
     },
     "metadata": {},
     "output_type": "display_data"
    },
    {
     "name": "stderr",
     "output_type": "stream",
     "text": [
      "[I 2024-11-26 21:33:18,216] Trial 39 finished with value: 0.0228712009265546 and parameters: {'factors': 50, 'learning_rate': 7, 'regularization': 6, 'iterations': 1000}. Best is trial 20 with value: 0.02408674876150476.\n"
     ]
    },
    {
     "data": {
      "application/vnd.jupyter.widget-view+json": {
       "model_id": "787009c913ef402088e0eee8aad25a20",
       "version_major": 2,
       "version_minor": 0
      },
      "text/plain": [
       "  0%|          | 0/1000 [00:00<?, ?it/s]"
      ]
     },
     "metadata": {},
     "output_type": "display_data"
    },
    {
     "data": {
      "application/vnd.jupyter.widget-view+json": {
       "model_id": "afddeeb1351643adbea9b4a1ad0b1987",
       "version_major": 2,
       "version_minor": 0
      },
      "text/plain": [
       "  0%|          | 0/2587 [00:00<?, ?it/s]"
      ]
     },
     "metadata": {},
     "output_type": "display_data"
    },
    {
     "name": "stderr",
     "output_type": "stream",
     "text": [
      "[I 2024-11-26 21:33:34,343] Trial 40 finished with value: 0.0228712009265546 and parameters: {'factors': 50, 'learning_rate': 7, 'regularization': 6, 'iterations': 1000}. Best is trial 20 with value: 0.02408674876150476.\n"
     ]
    },
    {
     "data": {
      "application/vnd.jupyter.widget-view+json": {
       "model_id": "302c07f2797548d0acb8273f77080a29",
       "version_major": 2,
       "version_minor": 0
      },
      "text/plain": [
       "  0%|          | 0/1000 [00:00<?, ?it/s]"
      ]
     },
     "metadata": {},
     "output_type": "display_data"
    },
    {
     "data": {
      "application/vnd.jupyter.widget-view+json": {
       "model_id": "198fef038a2840d89c9bacfe0af1b3a3",
       "version_major": 2,
       "version_minor": 0
      },
      "text/plain": [
       "  0%|          | 0/2587 [00:00<?, ?it/s]"
      ]
     },
     "metadata": {},
     "output_type": "display_data"
    },
    {
     "name": "stderr",
     "output_type": "stream",
     "text": [
      "[I 2024-11-26 21:33:50,443] Trial 41 finished with value: 0.0228712009265546 and parameters: {'factors': 50, 'learning_rate': 7, 'regularization': 6, 'iterations': 1000}. Best is trial 20 with value: 0.02408674876150476.\n"
     ]
    },
    {
     "data": {
      "application/vnd.jupyter.widget-view+json": {
       "model_id": "9c45928f727b448d8ea7cf1437a94626",
       "version_major": 2,
       "version_minor": 0
      },
      "text/plain": [
       "  0%|          | 0/8 [00:00<?, ?it/s]"
      ]
     },
     "metadata": {},
     "output_type": "display_data"
    },
    {
     "data": {
      "application/vnd.jupyter.widget-view+json": {
       "model_id": "6d88b048ecfc4981bf40497b05473051",
       "version_major": 2,
       "version_minor": 0
      },
      "text/plain": [
       "  0%|          | 0/2587 [00:00<?, ?it/s]"
      ]
     },
     "metadata": {},
     "output_type": "display_data"
    },
    {
     "name": "stderr",
     "output_type": "stream",
     "text": [
      "[I 2024-11-26 21:33:50,973] Trial 42 finished with value: 0.020932147517358585 and parameters: {'factors': 50, 'learning_rate': 7, 'regularization': 6, 'iterations': 8}. Best is trial 20 with value: 0.02408674876150476.\n"
     ]
    },
    {
     "data": {
      "application/vnd.jupyter.widget-view+json": {
       "model_id": "e20d1cb3fad74542b7538eff7a7e8baa",
       "version_major": 2,
       "version_minor": 0
      },
      "text/plain": [
       "  0%|          | 0/1000 [00:00<?, ?it/s]"
      ]
     },
     "metadata": {},
     "output_type": "display_data"
    },
    {
     "data": {
      "application/vnd.jupyter.widget-view+json": {
       "model_id": "5407ed12731a46d38fb46796f7b54394",
       "version_major": 2,
       "version_minor": 0
      },
      "text/plain": [
       "  0%|          | 0/2587 [00:00<?, ?it/s]"
      ]
     },
     "metadata": {},
     "output_type": "display_data"
    },
    {
     "name": "stderr",
     "output_type": "stream",
     "text": [
      "[I 2024-11-26 21:33:51,869] Trial 43 finished with value: 0.018052970772977604 and parameters: {'factors': 1, 'learning_rate': 10, 'regularization': 6, 'iterations': 1000}. Best is trial 20 with value: 0.02408674876150476.\n"
     ]
    },
    {
     "data": {
      "application/vnd.jupyter.widget-view+json": {
       "model_id": "095e10ef953147b893ed4b5912fe1c1c",
       "version_major": 2,
       "version_minor": 0
      },
      "text/plain": [
       "  0%|          | 0/20 [00:00<?, ?it/s]"
      ]
     },
     "metadata": {},
     "output_type": "display_data"
    },
    {
     "data": {
      "application/vnd.jupyter.widget-view+json": {
       "model_id": "a9dfd6998be1468c8ceadfd12b2e933c",
       "version_major": 2,
       "version_minor": 0
      },
      "text/plain": [
       "  0%|          | 0/2587 [00:00<?, ?it/s]"
      ]
     },
     "metadata": {},
     "output_type": "display_data"
    },
    {
     "name": "stderr",
     "output_type": "stream",
     "text": [
      "[I 2024-11-26 21:33:52,586] Trial 44 finished with value: 0.0009307445605211709 and parameters: {'factors': 50, 'learning_rate': 7, 'regularization': 2, 'iterations': 20}. Best is trial 20 with value: 0.02408674876150476.\n"
     ]
    },
    {
     "data": {
      "application/vnd.jupyter.widget-view+json": {
       "model_id": "cf340acfa4984efcbfb9785ffad39b58",
       "version_major": 2,
       "version_minor": 0
      },
      "text/plain": [
       "  0%|          | 0/25 [00:00<?, ?it/s]"
      ]
     },
     "metadata": {},
     "output_type": "display_data"
    },
    {
     "data": {
      "application/vnd.jupyter.widget-view+json": {
       "model_id": "337c932b836246bbbd58d0623b9e69a3",
       "version_major": 2,
       "version_minor": 0
      },
      "text/plain": [
       "  0%|          | 0/2587 [00:00<?, ?it/s]"
      ]
     },
     "metadata": {},
     "output_type": "display_data"
    },
    {
     "name": "stderr",
     "output_type": "stream",
     "text": [
      "[I 2024-11-26 21:33:52,999] Trial 45 finished with value: 0.00011850544893031666 and parameters: {'factors': 7, 'learning_rate': 0.001, 'regularization': 1, 'iterations': 25}. Best is trial 20 with value: 0.02408674876150476.\n"
     ]
    },
    {
     "data": {
      "application/vnd.jupyter.widget-view+json": {
       "model_id": "4b27f566430d4573bc910ba69fd5b9c9",
       "version_major": 2,
       "version_minor": 0
      },
      "text/plain": [
       "  0%|          | 0/50 [00:00<?, ?it/s]"
      ]
     },
     "metadata": {},
     "output_type": "display_data"
    },
    {
     "data": {
      "application/vnd.jupyter.widget-view+json": {
       "model_id": "435489b66bdb43a19af304df0061da75",
       "version_major": 2,
       "version_minor": 0
      },
      "text/plain": [
       "  0%|          | 0/2587 [00:00<?, ?it/s]"
      ]
     },
     "metadata": {},
     "output_type": "display_data"
    },
    {
     "name": "stderr",
     "output_type": "stream",
     "text": [
      "[I 2024-11-26 21:33:53,834] Trial 46 finished with value: 0.016834066231010754 and parameters: {'factors': 30, 'learning_rate': 6, 'regularization': 6, 'iterations': 50}. Best is trial 20 with value: 0.02408674876150476.\n"
     ]
    },
    {
     "data": {
      "application/vnd.jupyter.widget-view+json": {
       "model_id": "b166e9ab20f84947ad85141e70fa3f29",
       "version_major": 2,
       "version_minor": 0
      },
      "text/plain": [
       "  0%|          | 0/75 [00:00<?, ?it/s]"
      ]
     },
     "metadata": {},
     "output_type": "display_data"
    },
    {
     "data": {
      "application/vnd.jupyter.widget-view+json": {
       "model_id": "cd4c9d35f89b4b098f735f00515ad034",
       "version_major": 2,
       "version_minor": 0
      },
      "text/plain": [
       "  0%|          | 0/2587 [00:00<?, ?it/s]"
      ]
     },
     "metadata": {},
     "output_type": "display_data"
    },
    {
     "name": "stderr",
     "output_type": "stream",
     "text": [
      "[I 2024-11-26 21:33:54,542] Trial 47 finished with value: 0.0 and parameters: {'factors': 17, 'learning_rate': 0.01, 'regularization': 0.01, 'iterations': 75}. Best is trial 20 with value: 0.02408674876150476.\n"
     ]
    },
    {
     "data": {
      "application/vnd.jupyter.widget-view+json": {
       "model_id": "19ff500d80da44ac99447b9b3813548f",
       "version_major": 2,
       "version_minor": 0
      },
      "text/plain": [
       "  0%|          | 0/1000 [00:00<?, ?it/s]"
      ]
     },
     "metadata": {},
     "output_type": "display_data"
    },
    {
     "data": {
      "application/vnd.jupyter.widget-view+json": {
       "model_id": "a1d399cf1cac40a992b92de9aef8d89e",
       "version_major": 2,
       "version_minor": 0
      },
      "text/plain": [
       "  0%|          | 0/2587 [00:00<?, ?it/s]"
      ]
     },
     "metadata": {},
     "output_type": "display_data"
    },
    {
     "name": "stderr",
     "output_type": "stream",
     "text": [
      "[I 2024-11-26 21:33:58,688] Trial 48 finished with value: 0.017556682802328992 and parameters: {'factors': 14, 'learning_rate': 8, 'regularization': 5, 'iterations': 1000}. Best is trial 20 with value: 0.02408674876150476.\n"
     ]
    },
    {
     "data": {
      "application/vnd.jupyter.widget-view+json": {
       "model_id": "c9f1afb151024a24814087d46683af07",
       "version_major": 2,
       "version_minor": 0
      },
      "text/plain": [
       "  0%|          | 0/200 [00:00<?, ?it/s]"
      ]
     },
     "metadata": {},
     "output_type": "display_data"
    },
    {
     "data": {
      "application/vnd.jupyter.widget-view+json": {
       "model_id": "59aca3cb93384c4c97888ba1e1025934",
       "version_major": 2,
       "version_minor": 0
      },
      "text/plain": [
       "  0%|          | 0/2587 [00:00<?, ?it/s]"
      ]
     },
     "metadata": {},
     "output_type": "display_data"
    },
    {
     "name": "stderr",
     "output_type": "stream",
     "text": [
      "[I 2024-11-26 21:33:59,312] Trial 49 finished with value: 0.00409125201252232 and parameters: {'factors': 3, 'learning_rate': 0.05, 'regularization': 0.1, 'iterations': 200}. Best is trial 20 with value: 0.02408674876150476.\n"
     ]
    },
    {
     "data": {
      "application/vnd.jupyter.widget-view+json": {
       "model_id": "7875cd226e984042bb22a877cae955e2",
       "version_major": 2,
       "version_minor": 0
      },
      "text/plain": [
       "  0%|          | 0/20 [00:00<?, ?it/s]"
      ]
     },
     "metadata": {},
     "output_type": "display_data"
    },
    {
     "data": {
      "application/vnd.jupyter.widget-view+json": {
       "model_id": "7533c56d8e0a481ba3b54c855e3f2cc1",
       "version_major": 2,
       "version_minor": 0
      },
      "text/plain": [
       "  0%|          | 0/2587 [00:00<?, ?it/s]"
      ]
     },
     "metadata": {},
     "output_type": "display_data"
    },
    {
     "name": "stderr",
     "output_type": "stream",
     "text": [
      "[I 2024-11-26 21:33:59,715] Trial 50 finished with value: 0.000811831650403639 and parameters: {'factors': 6, 'learning_rate': 0.005, 'regularization': 0.5, 'iterations': 20}. Best is trial 20 with value: 0.02408674876150476.\n"
     ]
    },
    {
     "data": {
      "application/vnd.jupyter.widget-view+json": {
       "model_id": "fea156d4591b47ec928d760462b4ba82",
       "version_major": 2,
       "version_minor": 0
      },
      "text/plain": [
       "  0%|          | 0/1000 [00:00<?, ?it/s]"
      ]
     },
     "metadata": {},
     "output_type": "display_data"
    },
    {
     "data": {
      "application/vnd.jupyter.widget-view+json": {
       "model_id": "8cda7857c9764da98f60cc2fffcf8c28",
       "version_major": 2,
       "version_minor": 0
      },
      "text/plain": [
       "  0%|          | 0/2587 [00:00<?, ?it/s]"
      ]
     },
     "metadata": {},
     "output_type": "display_data"
    },
    {
     "name": "stderr",
     "output_type": "stream",
     "text": [
      "[I 2024-11-26 21:34:15,934] Trial 51 finished with value: 0.0228712009265546 and parameters: {'factors': 50, 'learning_rate': 7, 'regularization': 6, 'iterations': 1000}. Best is trial 20 with value: 0.02408674876150476.\n"
     ]
    },
    {
     "data": {
      "application/vnd.jupyter.widget-view+json": {
       "model_id": "ec19a0936e8f4ceca815cb72fd6e76ce",
       "version_major": 2,
       "version_minor": 0
      },
      "text/plain": [
       "  0%|          | 0/1000 [00:00<?, ?it/s]"
      ]
     },
     "metadata": {},
     "output_type": "display_data"
    },
    {
     "data": {
      "application/vnd.jupyter.widget-view+json": {
       "model_id": "c323a4a45b914669b610975a8b114408",
       "version_major": 2,
       "version_minor": 0
      },
      "text/plain": [
       "  0%|          | 0/2587 [00:00<?, ?it/s]"
      ]
     },
     "metadata": {},
     "output_type": "display_data"
    },
    {
     "name": "stderr",
     "output_type": "stream",
     "text": [
      "[I 2024-11-26 21:34:32,084] Trial 52 finished with value: 0.0228712009265546 and parameters: {'factors': 50, 'learning_rate': 7, 'regularization': 6, 'iterations': 1000}. Best is trial 20 with value: 0.02408674876150476.\n"
     ]
    },
    {
     "data": {
      "application/vnd.jupyter.widget-view+json": {
       "model_id": "98cc889c7616490b9829fa7ff2b4d56f",
       "version_major": 2,
       "version_minor": 0
      },
      "text/plain": [
       "  0%|          | 0/15 [00:00<?, ?it/s]"
      ]
     },
     "metadata": {},
     "output_type": "display_data"
    },
    {
     "data": {
      "application/vnd.jupyter.widget-view+json": {
       "model_id": "f269116fd0734e85b08360ddc9f818af",
       "version_major": 2,
       "version_minor": 0
      },
      "text/plain": [
       "  0%|          | 0/2587 [00:00<?, ?it/s]"
      ]
     },
     "metadata": {},
     "output_type": "display_data"
    },
    {
     "name": "stderr",
     "output_type": "stream",
     "text": [
      "[I 2024-11-26 21:34:32,517] Trial 53 finished with value: 0.005344070328357973 and parameters: {'factors': 13, 'learning_rate': 0.5, 'regularization': 6, 'iterations': 15}. Best is trial 20 with value: 0.02408674876150476.\n"
     ]
    },
    {
     "data": {
      "application/vnd.jupyter.widget-view+json": {
       "model_id": "f5bd6db79fde4847b8fe2ad8d3dbb7ad",
       "version_major": 2,
       "version_minor": 0
      },
      "text/plain": [
       "  0%|          | 0/1000 [00:00<?, ?it/s]"
      ]
     },
     "metadata": {},
     "output_type": "display_data"
    },
    {
     "data": {
      "application/vnd.jupyter.widget-view+json": {
       "model_id": "0a90cf9767714a45abf854fe51fb8c3f",
       "version_major": 2,
       "version_minor": 0
      },
      "text/plain": [
       "  0%|          | 0/2587 [00:00<?, ?it/s]"
      ]
     },
     "metadata": {},
     "output_type": "display_data"
    },
    {
     "name": "stderr",
     "output_type": "stream",
     "text": [
      "[I 2024-11-26 21:34:48,672] Trial 54 finished with value: 0.023270454108585394 and parameters: {'factors': 50, 'learning_rate': 7, 'regularization': 9, 'iterations': 1000}. Best is trial 20 with value: 0.02408674876150476.\n"
     ]
    },
    {
     "data": {
      "application/vnd.jupyter.widget-view+json": {
       "model_id": "e11b17a02d3544549a36c0819a86a26f",
       "version_major": 2,
       "version_minor": 0
      },
      "text/plain": [
       "  0%|          | 0/50 [00:00<?, ?it/s]"
      ]
     },
     "metadata": {},
     "output_type": "display_data"
    },
    {
     "data": {
      "application/vnd.jupyter.widget-view+json": {
       "model_id": "01dd6af41e3c4f6daeff138d6bc14fd2",
       "version_major": 2,
       "version_minor": 0
      },
      "text/plain": [
       "  0%|          | 0/2587 [00:00<?, ?it/s]"
      ]
     },
     "metadata": {},
     "output_type": "display_data"
    },
    {
     "name": "stderr",
     "output_type": "stream",
     "text": [
      "[I 2024-11-26 21:34:49,346] Trial 55 finished with value: 0.018052970772977604 and parameters: {'factors': 20, 'learning_rate': 3, 'regularization': 9, 'iterations': 50}. Best is trial 20 with value: 0.02408674876150476.\n"
     ]
    },
    {
     "data": {
      "application/vnd.jupyter.widget-view+json": {
       "model_id": "ae25dc2c26e145cf9154e49f75242fc6",
       "version_major": 2,
       "version_minor": 0
      },
      "text/plain": [
       "  0%|          | 0/1 [00:00<?, ?it/s]"
      ]
     },
     "metadata": {},
     "output_type": "display_data"
    },
    {
     "data": {
      "application/vnd.jupyter.widget-view+json": {
       "model_id": "f548ed0ff5fe4e9b9b6170c24956363a",
       "version_major": 2,
       "version_minor": 0
      },
      "text/plain": [
       "  0%|          | 0/2587 [00:00<?, ?it/s]"
      ]
     },
     "metadata": {},
     "output_type": "display_data"
    },
    {
     "name": "stderr",
     "output_type": "stream",
     "text": [
      "[I 2024-11-26 21:34:49,737] Trial 56 finished with value: 0.002351034247765843 and parameters: {'factors': 5, 'learning_rate': 9, 'regularization': 9, 'iterations': 1}. Best is trial 20 with value: 0.02408674876150476.\n"
     ]
    },
    {
     "data": {
      "application/vnd.jupyter.widget-view+json": {
       "model_id": "3ef938f36aa04034bee6b6ee976237b1",
       "version_major": 2,
       "version_minor": 0
      },
      "text/plain": [
       "  0%|          | 0/14 [00:00<?, ?it/s]"
      ]
     },
     "metadata": {},
     "output_type": "display_data"
    },
    {
     "data": {
      "application/vnd.jupyter.widget-view+json": {
       "model_id": "53389aa5b54947d583c71b2e6960650a",
       "version_major": 2,
       "version_minor": 0
      },
      "text/plain": [
       "  0%|          | 0/2587 [00:00<?, ?it/s]"
      ]
     },
     "metadata": {},
     "output_type": "display_data"
    },
    {
     "name": "stderr",
     "output_type": "stream",
     "text": [
      "[I 2024-11-26 21:34:50,117] Trial 57 finished with value: 0.005160866386787262 and parameters: {'factors': 4, 'learning_rate': 2, 'regularization': 0.005, 'iterations': 14}. Best is trial 20 with value: 0.02408674876150476.\n"
     ]
    },
    {
     "data": {
      "application/vnd.jupyter.widget-view+json": {
       "model_id": "70907373e7a74901840a8dd616968f25",
       "version_major": 2,
       "version_minor": 0
      },
      "text/plain": [
       "  0%|          | 0/10000 [00:00<?, ?it/s]"
      ]
     },
     "metadata": {},
     "output_type": "display_data"
    },
    {
     "data": {
      "application/vnd.jupyter.widget-view+json": {
       "model_id": "2518bcc6548f4216926c60274dcedff0",
       "version_major": 2,
       "version_minor": 0
      },
      "text/plain": [
       "  0%|          | 0/2587 [00:00<?, ?it/s]"
      ]
     },
     "metadata": {},
     "output_type": "display_data"
    },
    {
     "name": "stderr",
     "output_type": "stream",
     "text": [
      "[I 2024-11-26 21:35:10,595] Trial 58 finished with value: 0.018052970772977604 and parameters: {'factors': 9, 'learning_rate': 0.1, 'regularization': 9, 'iterations': 10000}. Best is trial 20 with value: 0.02408674876150476.\n"
     ]
    },
    {
     "data": {
      "application/vnd.jupyter.widget-view+json": {
       "model_id": "d97eeebd02114b71ad56d03ea4422875",
       "version_major": 2,
       "version_minor": 0
      },
      "text/plain": [
       "  0%|          | 0/12 [00:00<?, ?it/s]"
      ]
     },
     "metadata": {},
     "output_type": "display_data"
    },
    {
     "data": {
      "application/vnd.jupyter.widget-view+json": {
       "model_id": "032afd94692549149689ba7a9864dfbe",
       "version_major": 2,
       "version_minor": 0
      },
      "text/plain": [
       "  0%|          | 0/2587 [00:00<?, ?it/s]"
      ]
     },
     "metadata": {},
     "output_type": "display_data"
    },
    {
     "name": "stderr",
     "output_type": "stream",
     "text": [
      "[I 2024-11-26 21:35:11,003] Trial 59 finished with value: 0.0006267847585024817 and parameters: {'factors': 11, 'learning_rate': 0.0001, 'regularization': 4, 'iterations': 12}. Best is trial 20 with value: 0.02408674876150476.\n"
     ]
    },
    {
     "data": {
      "application/vnd.jupyter.widget-view+json": {
       "model_id": "272af4864138472c8573b24070995981",
       "version_major": 2,
       "version_minor": 0
      },
      "text/plain": [
       "  0%|          | 0/7 [00:00<?, ?it/s]"
      ]
     },
     "metadata": {},
     "output_type": "display_data"
    },
    {
     "data": {
      "application/vnd.jupyter.widget-view+json": {
       "model_id": "74a42cc9af28420a891fc49d3a2f3be6",
       "version_major": 2,
       "version_minor": 0
      },
      "text/plain": [
       "  0%|          | 0/2587 [00:00<?, ?it/s]"
      ]
     },
     "metadata": {},
     "output_type": "display_data"
    },
    {
     "name": "stderr",
     "output_type": "stream",
     "text": [
      "[I 2024-11-26 21:35:11,383] Trial 60 finished with value: 0.0003627976235197189 and parameters: {'factors': 10, 'learning_rate': 0.0005, 'regularization': 10, 'iterations': 7}. Best is trial 20 with value: 0.02408674876150476.\n"
     ]
    },
    {
     "data": {
      "application/vnd.jupyter.widget-view+json": {
       "model_id": "cef790db8de84d9bb4f65f6085c5c620",
       "version_major": 2,
       "version_minor": 0
      },
      "text/plain": [
       "  0%|          | 0/1000 [00:00<?, ?it/s]"
      ]
     },
     "metadata": {},
     "output_type": "display_data"
    },
    {
     "data": {
      "application/vnd.jupyter.widget-view+json": {
       "model_id": "e96f53cf260a41c5940e0c0588a40992",
       "version_major": 2,
       "version_minor": 0
      },
      "text/plain": [
       "  0%|          | 0/2587 [00:00<?, ?it/s]"
      ]
     },
     "metadata": {},
     "output_type": "display_data"
    },
    {
     "name": "stderr",
     "output_type": "stream",
     "text": [
      "[I 2024-11-26 21:35:28,484] Trial 61 finished with value: 0.0228712009265546 and parameters: {'factors': 50, 'learning_rate': 7, 'regularization': 6, 'iterations': 1000}. Best is trial 20 with value: 0.02408674876150476.\n"
     ]
    },
    {
     "data": {
      "application/vnd.jupyter.widget-view+json": {
       "model_id": "cda2bbef6bfe4244b58ac088db0b6843",
       "version_major": 2,
       "version_minor": 0
      },
      "text/plain": [
       "  0%|          | 0/1000 [00:00<?, ?it/s]"
      ]
     },
     "metadata": {},
     "output_type": "display_data"
    },
    {
     "data": {
      "application/vnd.jupyter.widget-view+json": {
       "model_id": "917286c2e0c940fbb0ad82c94656ce29",
       "version_major": 2,
       "version_minor": 0
      },
      "text/plain": [
       "  0%|          | 0/2587 [00:00<?, ?it/s]"
      ]
     },
     "metadata": {},
     "output_type": "display_data"
    },
    {
     "name": "stderr",
     "output_type": "stream",
     "text": [
      "[I 2024-11-26 21:35:44,834] Trial 62 finished with value: 0.0228712009265546 and parameters: {'factors': 50, 'learning_rate': 7, 'regularization': 6, 'iterations': 1000}. Best is trial 20 with value: 0.02408674876150476.\n"
     ]
    },
    {
     "data": {
      "application/vnd.jupyter.widget-view+json": {
       "model_id": "c5276d1e3fe3493893f6d9b69bdfbec2",
       "version_major": 2,
       "version_minor": 0
      },
      "text/plain": [
       "  0%|          | 0/10 [00:00<?, ?it/s]"
      ]
     },
     "metadata": {},
     "output_type": "display_data"
    },
    {
     "data": {
      "application/vnd.jupyter.widget-view+json": {
       "model_id": "1e0063a90278499abc0b7a4f3904b058",
       "version_major": 2,
       "version_minor": 0
      },
      "text/plain": [
       "  0%|          | 0/2587 [00:00<?, ?it/s]"
      ]
     },
     "metadata": {},
     "output_type": "display_data"
    },
    {
     "name": "stderr",
     "output_type": "stream",
     "text": [
      "[I 2024-11-26 21:35:45,225] Trial 63 finished with value: 0.00577337996495681 and parameters: {'factors': 2, 'learning_rate': 7, 'regularization': 6, 'iterations': 10}. Best is trial 20 with value: 0.02408674876150476.\n"
     ]
    },
    {
     "data": {
      "application/vnd.jupyter.widget-view+json": {
       "model_id": "078e49dd235c4b90a7501fd5a13e195e",
       "version_major": 2,
       "version_minor": 0
      },
      "text/plain": [
       "  0%|          | 0/200 [00:00<?, ?it/s]"
      ]
     },
     "metadata": {},
     "output_type": "display_data"
    },
    {
     "data": {
      "application/vnd.jupyter.widget-view+json": {
       "model_id": "76f4bd9275cf4a80bac5b06b20af8e3a",
       "version_major": 2,
       "version_minor": 0
      },
      "text/plain": [
       "  0%|          | 0/2587 [00:00<?, ?it/s]"
      ]
     },
     "metadata": {},
     "output_type": "display_data"
    },
    {
     "name": "stderr",
     "output_type": "stream",
     "text": [
      "[I 2024-11-26 21:35:50,899] Trial 64 finished with value: 0.01903650914538651 and parameters: {'factors': 75, 'learning_rate': 8, 'regularization': 8, 'iterations': 200}. Best is trial 20 with value: 0.02408674876150476.\n"
     ]
    },
    {
     "data": {
      "application/vnd.jupyter.widget-view+json": {
       "model_id": "ae6bacea588e47e2ac50f56ce125523b",
       "version_major": 2,
       "version_minor": 0
      },
      "text/plain": [
       "  0%|          | 0/17 [00:00<?, ?it/s]"
      ]
     },
     "metadata": {},
     "output_type": "display_data"
    },
    {
     "data": {
      "application/vnd.jupyter.widget-view+json": {
       "model_id": "77ef007e18f940f398e8f56cb168768a",
       "version_major": 2,
       "version_minor": 0
      },
      "text/plain": [
       "  0%|          | 0/2587 [00:00<?, ?it/s]"
      ]
     },
     "metadata": {},
     "output_type": "display_data"
    },
    {
     "name": "stderr",
     "output_type": "stream",
     "text": [
      "[I 2024-11-26 21:35:51,588] Trial 65 finished with value: 0.01623591732148692 and parameters: {'factors': 50, 'learning_rate': 7, 'regularization': 6, 'iterations': 17}. Best is trial 20 with value: 0.02408674876150476.\n"
     ]
    },
    {
     "data": {
      "application/vnd.jupyter.widget-view+json": {
       "model_id": "ac0e4f6a627d4bf7ade87e5adcc02628",
       "version_major": 2,
       "version_minor": 0
      },
      "text/plain": [
       "  0%|          | 0/11 [00:00<?, ?it/s]"
      ]
     },
     "metadata": {},
     "output_type": "display_data"
    },
    {
     "data": {
      "application/vnd.jupyter.widget-view+json": {
       "model_id": "eaaa8e49acb34312b2bc73045d48b91c",
       "version_major": 2,
       "version_minor": 0
      },
      "text/plain": [
       "  0%|          | 0/2587 [00:00<?, ?it/s]"
      ]
     },
     "metadata": {},
     "output_type": "display_data"
    },
    {
     "name": "stderr",
     "output_type": "stream",
     "text": [
      "[I 2024-11-26 21:35:52,052] Trial 66 finished with value: 0.014550897123231606 and parameters: {'factors': 25, 'learning_rate': 2, 'regularization': 0.001, 'iterations': 11}. Best is trial 20 with value: 0.02408674876150476.\n"
     ]
    },
    {
     "data": {
      "application/vnd.jupyter.widget-view+json": {
       "model_id": "4712946372564a8a923238bf154ba72b",
       "version_major": 2,
       "version_minor": 0
      },
      "text/plain": [
       "  0%|          | 0/100 [00:00<?, ?it/s]"
      ]
     },
     "metadata": {},
     "output_type": "display_data"
    },
    {
     "data": {
      "application/vnd.jupyter.widget-view+json": {
       "model_id": "853430dc43bc4524a8fa690d2134a163",
       "version_major": 2,
       "version_minor": 0
      },
      "text/plain": [
       "  0%|          | 0/2587 [00:00<?, ?it/s]"
      ]
     },
     "metadata": {},
     "output_type": "display_data"
    },
    {
     "name": "stderr",
     "output_type": "stream",
     "text": [
      "[I 2024-11-26 21:35:52,570] Trial 67 finished with value: 0.007000944044516494 and parameters: {'factors': 6, 'learning_rate': 5, 'regularization': 0.01, 'iterations': 100}. Best is trial 20 with value: 0.02408674876150476.\n"
     ]
    },
    {
     "data": {
      "application/vnd.jupyter.widget-view+json": {
       "model_id": "98b9a7d67a03421e8bc9b270448fb4a1",
       "version_major": 2,
       "version_minor": 0
      },
      "text/plain": [
       "  0%|          | 0/500 [00:00<?, ?it/s]"
      ]
     },
     "metadata": {},
     "output_type": "display_data"
    },
    {
     "data": {
      "application/vnd.jupyter.widget-view+json": {
       "model_id": "73f40157c8644e1c83071a27c479814c",
       "version_major": 2,
       "version_minor": 0
      },
      "text/plain": [
       "  0%|          | 0/2587 [00:00<?, ?it/s]"
      ]
     },
     "metadata": {},
     "output_type": "display_data"
    },
    {
     "name": "stderr",
     "output_type": "stream",
     "text": [
      "[I 2024-11-26 21:35:55,168] Trial 68 finished with value: 0.017093997824665003 and parameters: {'factors': 17, 'learning_rate': 10, 'regularization': 1, 'iterations': 500}. Best is trial 20 with value: 0.02408674876150476.\n"
     ]
    },
    {
     "data": {
      "application/vnd.jupyter.widget-view+json": {
       "model_id": "f9bafcbaad064bde85f4b1402fe4569c",
       "version_major": 2,
       "version_minor": 0
      },
      "text/plain": [
       "  0%|          | 0/2 [00:00<?, ?it/s]"
      ]
     },
     "metadata": {},
     "output_type": "display_data"
    },
    {
     "data": {
      "application/vnd.jupyter.widget-view+json": {
       "model_id": "f5643de110c34a9fad4786d0e015365b",
       "version_major": 2,
       "version_minor": 0
      },
      "text/plain": [
       "  0%|          | 0/2587 [00:00<?, ?it/s]"
      ]
     },
     "metadata": {},
     "output_type": "display_data"
    },
    {
     "name": "stderr",
     "output_type": "stream",
     "text": [
      "[I 2024-11-26 21:35:55,554] Trial 69 finished with value: 0.0016524152378485349 and parameters: {'factors': 15, 'learning_rate': 0.001, 'regularization': 3, 'iterations': 2}. Best is trial 20 with value: 0.02408674876150476.\n"
     ]
    },
    {
     "data": {
      "application/vnd.jupyter.widget-view+json": {
       "model_id": "f5f5850c56584d93aee459d381066577",
       "version_major": 2,
       "version_minor": 0
      },
      "text/plain": [
       "  0%|          | 0/9 [00:00<?, ?it/s]"
      ]
     },
     "metadata": {},
     "output_type": "display_data"
    },
    {
     "data": {
      "application/vnd.jupyter.widget-view+json": {
       "model_id": "6154a687d490490fa962e53365cd77fc",
       "version_major": 2,
       "version_minor": 0
      },
      "text/plain": [
       "  0%|          | 0/2587 [00:00<?, ?it/s]"
      ]
     },
     "metadata": {},
     "output_type": "display_data"
    },
    {
     "name": "stderr",
     "output_type": "stream",
     "text": [
      "[I 2024-11-26 21:35:55,958] Trial 70 finished with value: 0.003438844372075794 and parameters: {'factors': 8, 'learning_rate': 7, 'regularization': 7, 'iterations': 9}. Best is trial 20 with value: 0.02408674876150476.\n"
     ]
    },
    {
     "data": {
      "application/vnd.jupyter.widget-view+json": {
       "model_id": "2561951b27424ebb80454a1b6f4e54c8",
       "version_major": 2,
       "version_minor": 0
      },
      "text/plain": [
       "  0%|          | 0/1000 [00:00<?, ?it/s]"
      ]
     },
     "metadata": {},
     "output_type": "display_data"
    },
    {
     "data": {
      "application/vnd.jupyter.widget-view+json": {
       "model_id": "212db835c2a04dfe8d3b3d81be8800c8",
       "version_major": 2,
       "version_minor": 0
      },
      "text/plain": [
       "  0%|          | 0/2587 [00:00<?, ?it/s]"
      ]
     },
     "metadata": {},
     "output_type": "display_data"
    },
    {
     "name": "stderr",
     "output_type": "stream",
     "text": [
      "[I 2024-11-26 21:36:12,546] Trial 71 finished with value: 0.0228712009265546 and parameters: {'factors': 50, 'learning_rate': 7, 'regularization': 6, 'iterations': 1000}. Best is trial 20 with value: 0.02408674876150476.\n"
     ]
    },
    {
     "data": {
      "application/vnd.jupyter.widget-view+json": {
       "model_id": "4c406d5900b0461fa1a0f8b37be955b9",
       "version_major": 2,
       "version_minor": 0
      },
      "text/plain": [
       "  0%|          | 0/1000 [00:00<?, ?it/s]"
      ]
     },
     "metadata": {},
     "output_type": "display_data"
    },
    {
     "data": {
      "application/vnd.jupyter.widget-view+json": {
       "model_id": "b4349f747dfd41b1987ef95fe068cfd8",
       "version_major": 2,
       "version_minor": 0
      },
      "text/plain": [
       "  0%|          | 0/2587 [00:00<?, ?it/s]"
      ]
     },
     "metadata": {},
     "output_type": "display_data"
    },
    {
     "name": "stderr",
     "output_type": "stream",
     "text": [
      "[I 2024-11-26 21:36:29,616] Trial 72 finished with value: 0.0228712009265546 and parameters: {'factors': 50, 'learning_rate': 7, 'regularization': 6, 'iterations': 1000}. Best is trial 20 with value: 0.02408674876150476.\n"
     ]
    },
    {
     "data": {
      "application/vnd.jupyter.widget-view+json": {
       "model_id": "dc072a4416f7436284a825403af6df6c",
       "version_major": 2,
       "version_minor": 0
      },
      "text/plain": [
       "  0%|          | 0/1000 [00:00<?, ?it/s]"
      ]
     },
     "metadata": {},
     "output_type": "display_data"
    },
    {
     "data": {
      "application/vnd.jupyter.widget-view+json": {
       "model_id": "83f112a6f0aa4d32aa080472cb8e3fdb",
       "version_major": 2,
       "version_minor": 0
      },
      "text/plain": [
       "  0%|          | 0/2587 [00:00<?, ?it/s]"
      ]
     },
     "metadata": {},
     "output_type": "display_data"
    },
    {
     "name": "stderr",
     "output_type": "stream",
     "text": [
      "[I 2024-11-26 21:36:45,728] Trial 73 finished with value: 0.023028849236592586 and parameters: {'factors': 50, 'learning_rate': 1, 'regularization': 6, 'iterations': 1000}. Best is trial 20 with value: 0.02408674876150476.\n"
     ]
    },
    {
     "data": {
      "application/vnd.jupyter.widget-view+json": {
       "model_id": "7fbf853e77224745ba5855fbaa4851c3",
       "version_major": 2,
       "version_minor": 0
      },
      "text/plain": [
       "  0%|          | 0/4 [00:00<?, ?it/s]"
      ]
     },
     "metadata": {},
     "output_type": "display_data"
    },
    {
     "data": {
      "application/vnd.jupyter.widget-view+json": {
       "model_id": "0f747027dcff466b9a7e1e4543e7768b",
       "version_major": 2,
       "version_minor": 0
      },
      "text/plain": [
       "  0%|          | 0/2587 [00:00<?, ?it/s]"
      ]
     },
     "metadata": {},
     "output_type": "display_data"
    },
    {
     "name": "stderr",
     "output_type": "stream",
     "text": [
      "[I 2024-11-26 21:36:46,164] Trial 74 finished with value: 0.01208314337685722 and parameters: {'factors': 50, 'learning_rate': 1, 'regularization': 2, 'iterations': 4}. Best is trial 20 with value: 0.02408674876150476.\n"
     ]
    },
    {
     "data": {
      "application/vnd.jupyter.widget-view+json": {
       "model_id": "a61ae52c54394f1fb8306c346abeda97",
       "version_major": 2,
       "version_minor": 0
      },
      "text/plain": [
       "  0%|          | 0/3 [00:00<?, ?it/s]"
      ]
     },
     "metadata": {},
     "output_type": "display_data"
    },
    {
     "data": {
      "application/vnd.jupyter.widget-view+json": {
       "model_id": "720ad2a2ec6e467a9a06a2c49dcf7058",
       "version_major": 2,
       "version_minor": 0
      },
      "text/plain": [
       "  0%|          | 0/2587 [00:00<?, ?it/s]"
      ]
     },
     "metadata": {},
     "output_type": "display_data"
    },
    {
     "name": "stderr",
     "output_type": "stream",
     "text": [
      "[I 2024-11-26 21:36:46,544] Trial 75 finished with value: 0.01188630313978979 and parameters: {'factors': 1, 'learning_rate': 1, 'regularization': 6, 'iterations': 3}. Best is trial 20 with value: 0.02408674876150476.\n"
     ]
    },
    {
     "data": {
      "application/vnd.jupyter.widget-view+json": {
       "model_id": "edf0dcf4efe64b06ab63214cf18d7366",
       "version_major": 2,
       "version_minor": 0
      },
      "text/plain": [
       "  0%|          | 0/6 [00:00<?, ?it/s]"
      ]
     },
     "metadata": {},
     "output_type": "display_data"
    },
    {
     "data": {
      "application/vnd.jupyter.widget-view+json": {
       "model_id": "fc577f29d72543aeb1ad0534895f7e41",
       "version_major": 2,
       "version_minor": 0
      },
      "text/plain": [
       "  0%|          | 0/2587 [00:00<?, ?it/s]"
      ]
     },
     "metadata": {},
     "output_type": "display_data"
    },
    {
     "name": "stderr",
     "output_type": "stream",
     "text": [
      "[I 2024-11-26 21:36:46,956] Trial 76 finished with value: 0.015874495761840544 and parameters: {'factors': 12, 'learning_rate': 1, 'regularization': 5, 'iterations': 6}. Best is trial 20 with value: 0.02408674876150476.\n"
     ]
    },
    {
     "data": {
      "application/vnd.jupyter.widget-view+json": {
       "model_id": "d8b7e888de254cc0a6943979223f0926",
       "version_major": 2,
       "version_minor": 0
      },
      "text/plain": [
       "  0%|          | 0/5 [00:00<?, ?it/s]"
      ]
     },
     "metadata": {},
     "output_type": "display_data"
    },
    {
     "data": {
      "application/vnd.jupyter.widget-view+json": {
       "model_id": "79995ff1056a43ed9457be19c278da74",
       "version_major": 2,
       "version_minor": 0
      },
      "text/plain": [
       "  0%|          | 0/2587 [00:00<?, ?it/s]"
      ]
     },
     "metadata": {},
     "output_type": "display_data"
    },
    {
     "name": "stderr",
     "output_type": "stream",
     "text": [
      "[I 2024-11-26 21:36:47,465] Trial 77 finished with value: 0.00028397346850072603 and parameters: {'factors': 75, 'learning_rate': 0.01, 'regularization': 0.1, 'iterations': 5}. Best is trial 20 with value: 0.02408674876150476.\n"
     ]
    },
    {
     "data": {
      "application/vnd.jupyter.widget-view+json": {
       "model_id": "bfb4078f85664e43afaeb4f43fae3523",
       "version_major": 2,
       "version_minor": 0
      },
      "text/plain": [
       "  0%|          | 0/20 [00:00<?, ?it/s]"
      ]
     },
     "metadata": {},
     "output_type": "display_data"
    },
    {
     "data": {
      "application/vnd.jupyter.widget-view+json": {
       "model_id": "bae30cfb58c34e75b0075bbab4f35ec5",
       "version_major": 2,
       "version_minor": 0
      },
      "text/plain": [
       "  0%|          | 0/2587 [00:00<?, ?it/s]"
      ]
     },
     "metadata": {},
     "output_type": "display_data"
    },
    {
     "name": "stderr",
     "output_type": "stream",
     "text": [
      "[I 2024-11-26 21:36:47,883] Trial 78 finished with value: 0.017311736106873317 and parameters: {'factors': 7, 'learning_rate': 6, 'regularization': 6, 'iterations': 20}. Best is trial 20 with value: 0.02408674876150476.\n"
     ]
    },
    {
     "data": {
      "application/vnd.jupyter.widget-view+json": {
       "model_id": "ed605601561f407e948f5ee3f9bbee14",
       "version_major": 2,
       "version_minor": 0
      },
      "text/plain": [
       "  0%|          | 0/1000 [00:00<?, ?it/s]"
      ]
     },
     "metadata": {},
     "output_type": "display_data"
    },
    {
     "data": {
      "application/vnd.jupyter.widget-view+json": {
       "model_id": "d7787487f9af4c8ba4a3869f16dda57b",
       "version_major": 2,
       "version_minor": 0
      },
      "text/plain": [
       "  0%|          | 0/2587 [00:00<?, ?it/s]"
      ]
     },
     "metadata": {},
     "output_type": "display_data"
    },
    {
     "name": "stderr",
     "output_type": "stream",
     "text": [
      "[I 2024-11-26 21:36:56,956] Trial 79 finished with value: 0.02290456943747787 and parameters: {'factors': 30, 'learning_rate': 8, 'regularization': 9, 'iterations': 1000}. Best is trial 20 with value: 0.02408674876150476.\n"
     ]
    },
    {
     "data": {
      "application/vnd.jupyter.widget-view+json": {
       "model_id": "d80f67563bb14abba70a8242c0aa3999",
       "version_major": 2,
       "version_minor": 0
      },
      "text/plain": [
       "  0%|          | 0/30 [00:00<?, ?it/s]"
      ]
     },
     "metadata": {},
     "output_type": "display_data"
    },
    {
     "data": {
      "application/vnd.jupyter.widget-view+json": {
       "model_id": "cdfa985c7d754d0191a607068b1c7804",
       "version_major": 2,
       "version_minor": 0
      },
      "text/plain": [
       "  0%|          | 0/2587 [00:00<?, ?it/s]"
      ]
     },
     "metadata": {},
     "output_type": "display_data"
    },
    {
     "name": "stderr",
     "output_type": "stream",
     "text": [
      "[I 2024-11-26 21:36:57,382] Trial 80 finished with value: 0.017311736106873317 and parameters: {'factors': 6, 'learning_rate': 8, 'regularization': 9, 'iterations': 30}. Best is trial 20 with value: 0.02408674876150476.\n"
     ]
    },
    {
     "data": {
      "application/vnd.jupyter.widget-view+json": {
       "model_id": "19c4ba5bce0040f9968af422cd545d58",
       "version_major": 2,
       "version_minor": 0
      },
      "text/plain": [
       "  0%|          | 0/1000 [00:00<?, ?it/s]"
      ]
     },
     "metadata": {},
     "output_type": "display_data"
    },
    {
     "data": {
      "application/vnd.jupyter.widget-view+json": {
       "model_id": "17e6e47093ac48748658721c8cd5a5d5",
       "version_major": 2,
       "version_minor": 0
      },
      "text/plain": [
       "  0%|          | 0/2587 [00:00<?, ?it/s]"
      ]
     },
     "metadata": {},
     "output_type": "display_data"
    },
    {
     "name": "stderr",
     "output_type": "stream",
     "text": [
      "[I 2024-11-26 21:37:06,426] Trial 81 finished with value: 0.023361153514465324 and parameters: {'factors': 30, 'learning_rate': 8, 'regularization': 6, 'iterations': 1000}. Best is trial 20 with value: 0.02408674876150476.\n"
     ]
    },
    {
     "data": {
      "application/vnd.jupyter.widget-view+json": {
       "model_id": "a5ff3c7a69ba43afa3ff5410135ad787",
       "version_major": 2,
       "version_minor": 0
      },
      "text/plain": [
       "  0%|          | 0/1000 [00:00<?, ?it/s]"
      ]
     },
     "metadata": {},
     "output_type": "display_data"
    },
    {
     "data": {
      "application/vnd.jupyter.widget-view+json": {
       "model_id": "e37bcb068a8c40e283ab7712964b87a5",
       "version_major": 2,
       "version_minor": 0
      },
      "text/plain": [
       "  0%|          | 0/2587 [00:00<?, ?it/s]"
      ]
     },
     "metadata": {},
     "output_type": "display_data"
    },
    {
     "name": "stderr",
     "output_type": "stream",
     "text": [
      "[I 2024-11-26 21:37:15,516] Trial 82 finished with value: 0.02290456943747787 and parameters: {'factors': 30, 'learning_rate': 8, 'regularization': 9, 'iterations': 1000}. Best is trial 20 with value: 0.02408674876150476.\n"
     ]
    },
    {
     "data": {
      "application/vnd.jupyter.widget-view+json": {
       "model_id": "906da7844c0d4eb7baf977f3de258598",
       "version_major": 2,
       "version_minor": 0
      },
      "text/plain": [
       "  0%|          | 0/1000 [00:00<?, ?it/s]"
      ]
     },
     "metadata": {},
     "output_type": "display_data"
    },
    {
     "data": {
      "application/vnd.jupyter.widget-view+json": {
       "model_id": "0dc07c2ce10f4411ac7e9742ddd6f43d",
       "version_major": 2,
       "version_minor": 0
      },
      "text/plain": [
       "  0%|          | 0/2587 [00:00<?, ?it/s]"
      ]
     },
     "metadata": {},
     "output_type": "display_data"
    },
    {
     "name": "stderr",
     "output_type": "stream",
     "text": [
      "[I 2024-11-26 21:37:25,258] Trial 83 finished with value: 0.02290456943747787 and parameters: {'factors': 30, 'learning_rate': 8, 'regularization': 9, 'iterations': 1000}. Best is trial 20 with value: 0.02408674876150476.\n"
     ]
    },
    {
     "data": {
      "application/vnd.jupyter.widget-view+json": {
       "model_id": "bcd0296657f14ca780fd301b2d49d03d",
       "version_major": 2,
       "version_minor": 0
      },
      "text/plain": [
       "  0%|          | 0/50 [00:00<?, ?it/s]"
      ]
     },
     "metadata": {},
     "output_type": "display_data"
    },
    {
     "data": {
      "application/vnd.jupyter.widget-view+json": {
       "model_id": "ad5c0413711e43cca6293d89c2299b59",
       "version_major": 2,
       "version_minor": 0
      },
      "text/plain": [
       "  0%|          | 0/2587 [00:00<?, ?it/s]"
      ]
     },
     "metadata": {},
     "output_type": "display_data"
    },
    {
     "name": "stderr",
     "output_type": "stream",
     "text": [
      "[I 2024-11-26 21:37:26,069] Trial 84 finished with value: 0.022880818935755998 and parameters: {'factors': 30, 'learning_rate': 8, 'regularization': 9, 'iterations': 50}. Best is trial 20 with value: 0.02408674876150476.\n"
     ]
    },
    {
     "data": {
      "application/vnd.jupyter.widget-view+json": {
       "model_id": "1c385be8bf2e4f7095dbe75a372e5f5e",
       "version_major": 2,
       "version_minor": 0
      },
      "text/plain": [
       "  0%|          | 0/25 [00:00<?, ?it/s]"
      ]
     },
     "metadata": {},
     "output_type": "display_data"
    },
    {
     "data": {
      "application/vnd.jupyter.widget-view+json": {
       "model_id": "6236dc3ac0fe442e86cef524b71d63bf",
       "version_major": 2,
       "version_minor": 0
      },
      "text/plain": [
       "  0%|          | 0/2587 [00:00<?, ?it/s]"
      ]
     },
     "metadata": {},
     "output_type": "display_data"
    },
    {
     "name": "stderr",
     "output_type": "stream",
     "text": [
      "[I 2024-11-26 21:37:26,702] Trial 85 finished with value: 0.02173529216899787 and parameters: {'factors': 30, 'learning_rate': 8, 'regularization': 9, 'iterations': 25}. Best is trial 20 with value: 0.02408674876150476.\n"
     ]
    },
    {
     "data": {
      "application/vnd.jupyter.widget-view+json": {
       "model_id": "8d1883d055764143a5e8760c162d38be",
       "version_major": 2,
       "version_minor": 0
      },
      "text/plain": [
       "  0%|          | 0/1000 [00:00<?, ?it/s]"
      ]
     },
     "metadata": {},
     "output_type": "display_data"
    },
    {
     "data": {
      "application/vnd.jupyter.widget-view+json": {
       "model_id": "4310ee7d783a46b98b82e65541202975",
       "version_major": 2,
       "version_minor": 0
      },
      "text/plain": [
       "  0%|          | 0/2587 [00:00<?, ?it/s]"
      ]
     },
     "metadata": {},
     "output_type": "display_data"
    },
    {
     "name": "stderr",
     "output_type": "stream",
     "text": [
      "[I 2024-11-26 21:37:35,745] Trial 86 finished with value: 0.02290456943747787 and parameters: {'factors': 30, 'learning_rate': 8, 'regularization': 9, 'iterations': 1000}. Best is trial 20 with value: 0.02408674876150476.\n"
     ]
    },
    {
     "data": {
      "application/vnd.jupyter.widget-view+json": {
       "model_id": "cfa924223c1e44be930fd3e4374baded",
       "version_major": 2,
       "version_minor": 0
      },
      "text/plain": [
       "  0%|          | 0/8 [00:00<?, ?it/s]"
      ]
     },
     "metadata": {},
     "output_type": "display_data"
    },
    {
     "data": {
      "application/vnd.jupyter.widget-view+json": {
       "model_id": "c0385cf03d3141988dddb47004c59e68",
       "version_major": 2,
       "version_minor": 0
      },
      "text/plain": [
       "  0%|          | 0/2587 [00:00<?, ?it/s]"
      ]
     },
     "metadata": {},
     "output_type": "display_data"
    },
    {
     "name": "stderr",
     "output_type": "stream",
     "text": [
      "[I 2024-11-26 21:37:36,205] Trial 87 finished with value: 0.005306348072839708 and parameters: {'factors': 30, 'learning_rate': 8, 'regularization': 9, 'iterations': 8}. Best is trial 20 with value: 0.02408674876150476.\n"
     ]
    },
    {
     "data": {
      "application/vnd.jupyter.widget-view+json": {
       "model_id": "fcf21d5148a740e687bb10c4f580e287",
       "version_major": 2,
       "version_minor": 0
      },
      "text/plain": [
       "  0%|          | 0/200 [00:00<?, ?it/s]"
      ]
     },
     "metadata": {},
     "output_type": "display_data"
    },
    {
     "data": {
      "application/vnd.jupyter.widget-view+json": {
       "model_id": "74e24a6d91ec49b6a12caac4cd186813",
       "version_major": 2,
       "version_minor": 0
      },
      "text/plain": [
       "  0%|          | 0/2587 [00:00<?, ?it/s]"
      ]
     },
     "metadata": {},
     "output_type": "display_data"
    },
    {
     "name": "stderr",
     "output_type": "stream",
     "text": [
      "[I 2024-11-26 21:37:38,329] Trial 88 finished with value: 0.022971518341635928 and parameters: {'factors': 30, 'learning_rate': 8, 'regularization': 9, 'iterations': 200}. Best is trial 20 with value: 0.02408674876150476.\n"
     ]
    },
    {
     "data": {
      "application/vnd.jupyter.widget-view+json": {
       "model_id": "37d6455305ba4473a3ebce72e6c0d9af",
       "version_major": 2,
       "version_minor": 0
      },
      "text/plain": [
       "  0%|          | 0/200 [00:00<?, ?it/s]"
      ]
     },
     "metadata": {},
     "output_type": "display_data"
    },
    {
     "data": {
      "application/vnd.jupyter.widget-view+json": {
       "model_id": "7a845b4882a54498bb38a7ba5eccbeb7",
       "version_major": 2,
       "version_minor": 0
      },
      "text/plain": [
       "  0%|          | 0/2587 [00:00<?, ?it/s]"
      ]
     },
     "metadata": {},
     "output_type": "display_data"
    },
    {
     "name": "stderr",
     "output_type": "stream",
     "text": [
      "[I 2024-11-26 21:37:40,442] Trial 89 finished with value: 0.022971518341635928 and parameters: {'factors': 30, 'learning_rate': 8, 'regularization': 9, 'iterations': 200}. Best is trial 20 with value: 0.02408674876150476.\n"
     ]
    },
    {
     "data": {
      "application/vnd.jupyter.widget-view+json": {
       "model_id": "bdbfe898abfb4d989ef9f4577f88de5a",
       "version_major": 2,
       "version_minor": 0
      },
      "text/plain": [
       "  0%|          | 0/200 [00:00<?, ?it/s]"
      ]
     },
     "metadata": {},
     "output_type": "display_data"
    },
    {
     "data": {
      "application/vnd.jupyter.widget-view+json": {
       "model_id": "c6c2f63fe16049f8b5fe6e4896dfab1a",
       "version_major": 2,
       "version_minor": 0
      },
      "text/plain": [
       "  0%|          | 0/2587 [00:00<?, ?it/s]"
      ]
     },
     "metadata": {},
     "output_type": "display_data"
    },
    {
     "name": "stderr",
     "output_type": "stream",
     "text": [
      "[I 2024-11-26 21:37:42,569] Trial 90 finished with value: 0.022448041365499532 and parameters: {'factors': 30, 'learning_rate': 4, 'regularization': 0.5, 'iterations': 200}. Best is trial 20 with value: 0.02408674876150476.\n"
     ]
    },
    {
     "data": {
      "application/vnd.jupyter.widget-view+json": {
       "model_id": "0f17802aca2a4bddb6a29c10f4fd18b7",
       "version_major": 2,
       "version_minor": 0
      },
      "text/plain": [
       "  0%|          | 0/200 [00:00<?, ?it/s]"
      ]
     },
     "metadata": {},
     "output_type": "display_data"
    },
    {
     "data": {
      "application/vnd.jupyter.widget-view+json": {
       "model_id": "2a6906e6f9ea44bb95fd697e61f3f955",
       "version_major": 2,
       "version_minor": 0
      },
      "text/plain": [
       "  0%|          | 0/2587 [00:00<?, ?it/s]"
      ]
     },
     "metadata": {},
     "output_type": "display_data"
    },
    {
     "name": "stderr",
     "output_type": "stream",
     "text": [
      "[I 2024-11-26 21:37:44,674] Trial 91 finished with value: 0.022971518341635928 and parameters: {'factors': 30, 'learning_rate': 8, 'regularization': 9, 'iterations': 200}. Best is trial 20 with value: 0.02408674876150476.\n"
     ]
    },
    {
     "data": {
      "application/vnd.jupyter.widget-view+json": {
       "model_id": "81ccc2237a0e43cba8ec4a1cc780f825",
       "version_major": 2,
       "version_minor": 0
      },
      "text/plain": [
       "  0%|          | 0/200 [00:00<?, ?it/s]"
      ]
     },
     "metadata": {},
     "output_type": "display_data"
    },
    {
     "data": {
      "application/vnd.jupyter.widget-view+json": {
       "model_id": "520a0ab244c84b4da289a7c5ca3f6e94",
       "version_major": 2,
       "version_minor": 0
      },
      "text/plain": [
       "  0%|          | 0/2587 [00:00<?, ?it/s]"
      ]
     },
     "metadata": {},
     "output_type": "display_data"
    },
    {
     "name": "stderr",
     "output_type": "stream",
     "text": [
      "[I 2024-11-26 21:37:46,808] Trial 92 finished with value: 0.022971518341635928 and parameters: {'factors': 30, 'learning_rate': 8, 'regularization': 9, 'iterations': 200}. Best is trial 20 with value: 0.02408674876150476.\n"
     ]
    },
    {
     "data": {
      "application/vnd.jupyter.widget-view+json": {
       "model_id": "bacd80b1d4314d0b9ac9516653e158c2",
       "version_major": 2,
       "version_minor": 0
      },
      "text/plain": [
       "  0%|          | 0/200 [00:00<?, ?it/s]"
      ]
     },
     "metadata": {},
     "output_type": "display_data"
    },
    {
     "data": {
      "application/vnd.jupyter.widget-view+json": {
       "model_id": "f25763e201d348fc9c0b25b6ffaf6c0b",
       "version_major": 2,
       "version_minor": 0
      },
      "text/plain": [
       "  0%|          | 0/2587 [00:00<?, ?it/s]"
      ]
     },
     "metadata": {},
     "output_type": "display_data"
    },
    {
     "name": "stderr",
     "output_type": "stream",
     "text": [
      "[I 2024-11-26 21:37:48,898] Trial 93 finished with value: 0.022971518341635928 and parameters: {'factors': 30, 'learning_rate': 8, 'regularization': 9, 'iterations': 200}. Best is trial 20 with value: 0.02408674876150476.\n"
     ]
    },
    {
     "data": {
      "application/vnd.jupyter.widget-view+json": {
       "model_id": "80eccf6172064249a17668bea11ac68d",
       "version_major": 2,
       "version_minor": 0
      },
      "text/plain": [
       "  0%|          | 0/200 [00:00<?, ?it/s]"
      ]
     },
     "metadata": {},
     "output_type": "display_data"
    },
    {
     "data": {
      "application/vnd.jupyter.widget-view+json": {
       "model_id": "5c6e31090ced49629a21e6a14b77c9b1",
       "version_major": 2,
       "version_minor": 0
      },
      "text/plain": [
       "  0%|          | 0/2587 [00:00<?, ?it/s]"
      ]
     },
     "metadata": {},
     "output_type": "display_data"
    },
    {
     "name": "stderr",
     "output_type": "stream",
     "text": [
      "[I 2024-11-26 21:37:51,059] Trial 94 finished with value: 0.022971518341635928 and parameters: {'factors': 30, 'learning_rate': 8, 'regularization': 9, 'iterations': 200}. Best is trial 20 with value: 0.02408674876150476.\n"
     ]
    },
    {
     "data": {
      "application/vnd.jupyter.widget-view+json": {
       "model_id": "384360fb67114eaf89536759612e3489",
       "version_major": 2,
       "version_minor": 0
      },
      "text/plain": [
       "  0%|          | 0/200 [00:00<?, ?it/s]"
      ]
     },
     "metadata": {},
     "output_type": "display_data"
    },
    {
     "data": {
      "application/vnd.jupyter.widget-view+json": {
       "model_id": "58722113117349e7a3986651e579bafb",
       "version_major": 2,
       "version_minor": 0
      },
      "text/plain": [
       "  0%|          | 0/2587 [00:00<?, ?it/s]"
      ]
     },
     "metadata": {},
     "output_type": "display_data"
    },
    {
     "name": "stderr",
     "output_type": "stream",
     "text": [
      "[I 2024-11-26 21:37:53,212] Trial 95 finished with value: 0.022971518341635928 and parameters: {'factors': 30, 'learning_rate': 8, 'regularization': 9, 'iterations': 200}. Best is trial 20 with value: 0.02408674876150476.\n"
     ]
    },
    {
     "data": {
      "application/vnd.jupyter.widget-view+json": {
       "model_id": "65d1764f584f4d61af64f5506aa6fa29",
       "version_major": 2,
       "version_minor": 0
      },
      "text/plain": [
       "  0%|          | 0/200 [00:00<?, ?it/s]"
      ]
     },
     "metadata": {},
     "output_type": "display_data"
    },
    {
     "data": {
      "application/vnd.jupyter.widget-view+json": {
       "model_id": "8d2470208c08414dbfc071d7370a25c2",
       "version_major": 2,
       "version_minor": 0
      },
      "text/plain": [
       "  0%|          | 0/2587 [00:00<?, ?it/s]"
      ]
     },
     "metadata": {},
     "output_type": "display_data"
    },
    {
     "name": "stderr",
     "output_type": "stream",
     "text": [
      "[I 2024-11-26 21:37:54,273] Trial 96 finished with value: 0.018052970772977604 and parameters: {'factors': 14, 'learning_rate': 8, 'regularization': 9, 'iterations': 200}. Best is trial 20 with value: 0.02408674876150476.\n"
     ]
    },
    {
     "data": {
      "application/vnd.jupyter.widget-view+json": {
       "model_id": "5770c2cb5e5a4c7a87d295aca4a85934",
       "version_major": 2,
       "version_minor": 0
      },
      "text/plain": [
       "  0%|          | 0/200 [00:00<?, ?it/s]"
      ]
     },
     "metadata": {},
     "output_type": "display_data"
    },
    {
     "data": {
      "application/vnd.jupyter.widget-view+json": {
       "model_id": "268898d975d74eb1bb3862a97f6b819d",
       "version_major": 2,
       "version_minor": 0
      },
      "text/plain": [
       "  0%|          | 0/2587 [00:00<?, ?it/s]"
      ]
     },
     "metadata": {},
     "output_type": "display_data"
    },
    {
     "name": "stderr",
     "output_type": "stream",
     "text": [
      "[I 2024-11-26 21:37:56,427] Trial 97 finished with value: 0.0 and parameters: {'factors': 30, 'learning_rate': 0.005, 'regularization': 0.005, 'iterations': 200}. Best is trial 20 with value: 0.02408674876150476.\n"
     ]
    },
    {
     "data": {
      "application/vnd.jupyter.widget-view+json": {
       "model_id": "9f066210a44d44ca84a51df5f054ecd6",
       "version_major": 2,
       "version_minor": 0
      },
      "text/plain": [
       "  0%|          | 0/200 [00:00<?, ?it/s]"
      ]
     },
     "metadata": {},
     "output_type": "display_data"
    },
    {
     "data": {
      "application/vnd.jupyter.widget-view+json": {
       "model_id": "fc4b04ad568e4217a8f16df6463b42cd",
       "version_major": 2,
       "version_minor": 0
      },
      "text/plain": [
       "  0%|          | 0/2587 [00:00<?, ?it/s]"
      ]
     },
     "metadata": {},
     "output_type": "display_data"
    },
    {
     "name": "stderr",
     "output_type": "stream",
     "text": [
      "[I 2024-11-26 21:37:58,577] Trial 98 finished with value: 0.0 and parameters: {'factors': 30, 'learning_rate': 0.05, 'regularization': 4, 'iterations': 200}. Best is trial 20 with value: 0.02408674876150476.\n"
     ]
    },
    {
     "data": {
      "application/vnd.jupyter.widget-view+json": {
       "model_id": "a1232a9074cc4417abdd0374837f0ab7",
       "version_major": 2,
       "version_minor": 0
      },
      "text/plain": [
       "  0%|          | 0/200 [00:00<?, ?it/s]"
      ]
     },
     "metadata": {},
     "output_type": "display_data"
    },
    {
     "data": {
      "application/vnd.jupyter.widget-view+json": {
       "model_id": "c0d3e7d873ec4aeca946afc64c8a616f",
       "version_major": 2,
       "version_minor": 0
      },
      "text/plain": [
       "  0%|          | 0/2587 [00:00<?, ?it/s]"
      ]
     },
     "metadata": {},
     "output_type": "display_data"
    },
    {
     "name": "stderr",
     "output_type": "stream",
     "text": [
      "[I 2024-11-26 21:38:00,056] Trial 99 finished with value: 0.018052970772977604 and parameters: {'factors': 20, 'learning_rate': 0.5, 'regularization': 10, 'iterations': 200}. Best is trial 20 with value: 0.02408674876150476.\n"
     ]
    },
    {
     "data": {
      "application/vnd.jupyter.widget-view+json": {
       "model_id": "fee5c80a870646f2bc30ce3143d7a9f0",
       "version_major": 2,
       "version_minor": 0
      },
      "text/plain": [
       "  0%|          | 0/200 [00:00<?, ?it/s]"
      ]
     },
     "metadata": {},
     "output_type": "display_data"
    },
    {
     "data": {
      "application/vnd.jupyter.widget-view+json": {
       "model_id": "e625c2a6f1bf4308ba3cb5c2a0de68a6",
       "version_major": 2,
       "version_minor": 0
      },
      "text/plain": [
       "  0%|          | 0/2587 [00:00<?, ?it/s]"
      ]
     },
     "metadata": {},
     "output_type": "display_data"
    },
    {
     "name": "stderr",
     "output_type": "stream",
     "text": [
      "[I 2024-11-26 21:38:00,675] Trial 100 finished with value: 0.018052970772977604 and parameters: {'factors': 4, 'learning_rate': 3, 'regularization': 9, 'iterations': 200}. Best is trial 20 with value: 0.02408674876150476.\n"
     ]
    },
    {
     "data": {
      "application/vnd.jupyter.widget-view+json": {
       "model_id": "38b4e3fb0a5d4ece810b4a9886687d7d",
       "version_major": 2,
       "version_minor": 0
      },
      "text/plain": [
       "  0%|          | 0/200 [00:00<?, ?it/s]"
      ]
     },
     "metadata": {},
     "output_type": "display_data"
    },
    {
     "data": {
      "application/vnd.jupyter.widget-view+json": {
       "model_id": "b650fc12fefa4790ac6af6d4cdb4f49b",
       "version_major": 2,
       "version_minor": 0
      },
      "text/plain": [
       "  0%|          | 0/2587 [00:00<?, ?it/s]"
      ]
     },
     "metadata": {},
     "output_type": "display_data"
    },
    {
     "name": "stderr",
     "output_type": "stream",
     "text": [
      "[I 2024-11-26 21:38:02,835] Trial 101 finished with value: 0.022971518341635928 and parameters: {'factors': 30, 'learning_rate': 8, 'regularization': 9, 'iterations': 200}. Best is trial 20 with value: 0.02408674876150476.\n"
     ]
    },
    {
     "data": {
      "application/vnd.jupyter.widget-view+json": {
       "model_id": "2daf81efd7d444109fe034dbb0a1ebe5",
       "version_major": 2,
       "version_minor": 0
      },
      "text/plain": [
       "  0%|          | 0/200 [00:00<?, ?it/s]"
      ]
     },
     "metadata": {},
     "output_type": "display_data"
    },
    {
     "data": {
      "application/vnd.jupyter.widget-view+json": {
       "model_id": "8bbf77d6cbc64487814fc78f121219a7",
       "version_major": 2,
       "version_minor": 0
      },
      "text/plain": [
       "  0%|          | 0/2587 [00:00<?, ?it/s]"
      ]
     },
     "metadata": {},
     "output_type": "display_data"
    },
    {
     "name": "stderr",
     "output_type": "stream",
     "text": [
      "[I 2024-11-26 21:38:03,437] Trial 102 finished with value: 0.018052970772977604 and parameters: {'factors': 3, 'learning_rate': 8, 'regularization': 9, 'iterations': 200}. Best is trial 20 with value: 0.02408674876150476.\n"
     ]
    },
    {
     "data": {
      "application/vnd.jupyter.widget-view+json": {
       "model_id": "e438941cbc7c4760bfe412518020dc88",
       "version_major": 2,
       "version_minor": 0
      },
      "text/plain": [
       "  0%|          | 0/200 [00:00<?, ?it/s]"
      ]
     },
     "metadata": {},
     "output_type": "display_data"
    },
    {
     "data": {
      "application/vnd.jupyter.widget-view+json": {
       "model_id": "7b5c48c512284665aacebbac3f4318c1",
       "version_major": 2,
       "version_minor": 0
      },
      "text/plain": [
       "  0%|          | 0/2587 [00:00<?, ?it/s]"
      ]
     },
     "metadata": {},
     "output_type": "display_data"
    },
    {
     "name": "stderr",
     "output_type": "stream",
     "text": [
      "[I 2024-11-26 21:38:05,569] Trial 103 finished with value: 0.022971518341635928 and parameters: {'factors': 30, 'learning_rate': 8, 'regularization': 9, 'iterations': 200}. Best is trial 20 with value: 0.02408674876150476.\n"
     ]
    },
    {
     "data": {
      "application/vnd.jupyter.widget-view+json": {
       "model_id": "b8448e52803c4a21b4592e77192b4b3e",
       "version_major": 2,
       "version_minor": 0
      },
      "text/plain": [
       "  0%|          | 0/15 [00:00<?, ?it/s]"
      ]
     },
     "metadata": {},
     "output_type": "display_data"
    },
    {
     "data": {
      "application/vnd.jupyter.widget-view+json": {
       "model_id": "0cc4aa988d7e499c9661d651805bbbad",
       "version_major": 2,
       "version_minor": 0
      },
      "text/plain": [
       "  0%|          | 0/2587 [00:00<?, ?it/s]"
      ]
     },
     "metadata": {},
     "output_type": "display_data"
    },
    {
     "name": "stderr",
     "output_type": "stream",
     "text": [
      "[I 2024-11-26 21:38:06,009] Trial 104 finished with value: 0.002113731976780607 and parameters: {'factors': 13, 'learning_rate': 8, 'regularization': 0.001, 'iterations': 15}. Best is trial 20 with value: 0.02408674876150476.\n"
     ]
    },
    {
     "data": {
      "application/vnd.jupyter.widget-view+json": {
       "model_id": "0b9a5197d3fc4ebf9b1543dd04c3637d",
       "version_major": 2,
       "version_minor": 0
      },
      "text/plain": [
       "  0%|          | 0/75 [00:00<?, ?it/s]"
      ]
     },
     "metadata": {},
     "output_type": "display_data"
    },
    {
     "data": {
      "application/vnd.jupyter.widget-view+json": {
       "model_id": "82fde40b375a490d87c236b9a4b45f0e",
       "version_major": 2,
       "version_minor": 0
      },
      "text/plain": [
       "  0%|          | 0/2587 [00:00<?, ?it/s]"
      ]
     },
     "metadata": {},
     "output_type": "display_data"
    },
    {
     "name": "stderr",
     "output_type": "stream",
     "text": [
      "[I 2024-11-26 21:38:06,552] Trial 105 finished with value: 0.02174492506175309 and parameters: {'factors': 9, 'learning_rate': 2, 'regularization': 0.05, 'iterations': 75}. Best is trial 20 with value: 0.02408674876150476.\n"
     ]
    },
    {
     "data": {
      "application/vnd.jupyter.widget-view+json": {
       "model_id": "495b35b2ff6146aabaef00882790b11f",
       "version_major": 2,
       "version_minor": 0
      },
      "text/plain": [
       "  0%|          | 0/200 [00:00<?, ?it/s]"
      ]
     },
     "metadata": {},
     "output_type": "display_data"
    },
    {
     "data": {
      "application/vnd.jupyter.widget-view+json": {
       "model_id": "392b601c612d4092a507a4294ec720e6",
       "version_major": 2,
       "version_minor": 0
      },
      "text/plain": [
       "  0%|          | 0/2587 [00:00<?, ?it/s]"
      ]
     },
     "metadata": {},
     "output_type": "display_data"
    },
    {
     "name": "stderr",
     "output_type": "stream",
     "text": [
      "[I 2024-11-26 21:38:07,439] Trial 106 finished with value: 0.018052970772977604 and parameters: {'factors': 11, 'learning_rate': 9, 'regularization': 8, 'iterations': 200}. Best is trial 20 with value: 0.02408674876150476.\n"
     ]
    },
    {
     "data": {
      "application/vnd.jupyter.widget-view+json": {
       "model_id": "6481ce58792f4707998858ee6ff7ffa0",
       "version_major": 2,
       "version_minor": 0
      },
      "text/plain": [
       "  0%|          | 0/14 [00:00<?, ?it/s]"
      ]
     },
     "metadata": {},
     "output_type": "display_data"
    },
    {
     "data": {
      "application/vnd.jupyter.widget-view+json": {
       "model_id": "1e83cc97913f4ea79778ced13a8f7196",
       "version_major": 2,
       "version_minor": 0
      },
      "text/plain": [
       "  0%|          | 0/2587 [00:00<?, ?it/s]"
      ]
     },
     "metadata": {},
     "output_type": "display_data"
    },
    {
     "name": "stderr",
     "output_type": "stream",
     "text": [
      "[I 2024-11-26 21:38:07,840] Trial 107 finished with value: 0.0009650169579258961 and parameters: {'factors': 5, 'learning_rate': 0.1, 'regularization': 9, 'iterations': 14}. Best is trial 20 with value: 0.02408674876150476.\n"
     ]
    },
    {
     "data": {
      "application/vnd.jupyter.widget-view+json": {
       "model_id": "568c607cd3ea46cd9b16db77df33e6aa",
       "version_major": 2,
       "version_minor": 0
      },
      "text/plain": [
       "  0%|          | 0/20 [00:00<?, ?it/s]"
      ]
     },
     "metadata": {},
     "output_type": "display_data"
    },
    {
     "data": {
      "application/vnd.jupyter.widget-view+json": {
       "model_id": "8bed689894b34ff298da02379c071e45",
       "version_major": 2,
       "version_minor": 0
      },
      "text/plain": [
       "  0%|          | 0/2587 [00:00<?, ?it/s]"
      ]
     },
     "metadata": {},
     "output_type": "display_data"
    },
    {
     "name": "stderr",
     "output_type": "stream",
     "text": [
      "[I 2024-11-26 21:38:08,229] Trial 108 finished with value: 0.0009423284382575047 and parameters: {'factors': 2, 'learning_rate': 0.0001, 'regularization': 3, 'iterations': 20}. Best is trial 20 with value: 0.02408674876150476.\n"
     ]
    },
    {
     "data": {
      "application/vnd.jupyter.widget-view+json": {
       "model_id": "6ce61b37418b48cd8aa94a627d0d40ff",
       "version_major": 2,
       "version_minor": 0
      },
      "text/plain": [
       "  0%|          | 0/1 [00:00<?, ?it/s]"
      ]
     },
     "metadata": {},
     "output_type": "display_data"
    },
    {
     "data": {
      "application/vnd.jupyter.widget-view+json": {
       "model_id": "bdb5769cf5aa4db49bd34295c185b130",
       "version_major": 2,
       "version_minor": 0
      },
      "text/plain": [
       "  0%|          | 0/2587 [00:00<?, ?it/s]"
      ]
     },
     "metadata": {},
     "output_type": "display_data"
    },
    {
     "name": "stderr",
     "output_type": "stream",
     "text": [
      "[I 2024-11-26 21:38:08,649] Trial 109 finished with value: 0.00028397346850072603 and parameters: {'factors': 75, 'learning_rate': 0.0005, 'regularization': 1, 'iterations': 1}. Best is trial 20 with value: 0.02408674876150476.\n"
     ]
    },
    {
     "data": {
      "application/vnd.jupyter.widget-view+json": {
       "model_id": "a69171fff0fd448da3557cc96a94b438",
       "version_major": 2,
       "version_minor": 0
      },
      "text/plain": [
       "  0%|          | 0/10000 [00:00<?, ?it/s]"
      ]
     },
     "metadata": {},
     "output_type": "display_data"
    },
    {
     "data": {
      "application/vnd.jupyter.widget-view+json": {
       "model_id": "6c7595d898294a518a10ab747d366cd9",
       "version_major": 2,
       "version_minor": 0
      },
      "text/plain": [
       "  0%|          | 0/2587 [00:00<?, ?it/s]"
      ]
     },
     "metadata": {},
     "output_type": "display_data"
    },
    {
     "name": "stderr",
     "output_type": "stream",
     "text": [
      "[I 2024-11-26 21:39:36,322] Trial 110 finished with value: 0.02324670360686352 and parameters: {'factors': 30, 'learning_rate': 8, 'regularization': 7, 'iterations': 10000}. Best is trial 20 with value: 0.02408674876150476.\n"
     ]
    },
    {
     "data": {
      "application/vnd.jupyter.widget-view+json": {
       "model_id": "288d67350f2b4d5bbeeaa07235907937",
       "version_major": 2,
       "version_minor": 0
      },
      "text/plain": [
       "  0%|          | 0/10000 [00:00<?, ?it/s]"
      ]
     },
     "metadata": {},
     "output_type": "display_data"
    },
    {
     "data": {
      "application/vnd.jupyter.widget-view+json": {
       "model_id": "b98b65b285424ebfa05d837c8aacef90",
       "version_major": 2,
       "version_minor": 0
      },
      "text/plain": [
       "  0%|          | 0/2587 [00:00<?, ?it/s]"
      ]
     },
     "metadata": {},
     "output_type": "display_data"
    },
    {
     "name": "stderr",
     "output_type": "stream",
     "text": [
      "[I 2024-11-26 21:41:05,764] Trial 111 finished with value: 0.0048030359072735295 and parameters: {'factors': 30, 'learning_rate': 8, 'regularization': 0.01, 'iterations': 10000}. Best is trial 20 with value: 0.02408674876150476.\n"
     ]
    },
    {
     "data": {
      "application/vnd.jupyter.widget-view+json": {
       "model_id": "d4a5e1a931d849398a7c8fd3b156d358",
       "version_major": 2,
       "version_minor": 0
      },
      "text/plain": [
       "  0%|          | 0/10000 [00:00<?, ?it/s]"
      ]
     },
     "metadata": {},
     "output_type": "display_data"
    },
    {
     "data": {
      "application/vnd.jupyter.widget-view+json": {
       "model_id": "eb6ba4d191bc4f93b2b019f983c72041",
       "version_major": 2,
       "version_minor": 0
      },
      "text/plain": [
       "  0%|          | 0/2587 [00:00<?, ?it/s]"
      ]
     },
     "metadata": {},
     "output_type": "display_data"
    },
    {
     "name": "stderr",
     "output_type": "stream",
     "text": [
      "[I 2024-11-26 21:42:32,671] Trial 112 finished with value: 0.02324670360686352 and parameters: {'factors': 30, 'learning_rate': 8, 'regularization': 7, 'iterations': 10000}. Best is trial 20 with value: 0.02408674876150476.\n"
     ]
    },
    {
     "data": {
      "application/vnd.jupyter.widget-view+json": {
       "model_id": "b9c26839d93241f38c75e848bbd563a2",
       "version_major": 2,
       "version_minor": 0
      },
      "text/plain": [
       "  0%|          | 0/10000 [00:00<?, ?it/s]"
      ]
     },
     "metadata": {},
     "output_type": "display_data"
    },
    {
     "data": {
      "application/vnd.jupyter.widget-view+json": {
       "model_id": "dfbc04e9877944cca6b82614a23059ab",
       "version_major": 2,
       "version_minor": 0
      },
      "text/plain": [
       "  0%|          | 0/2587 [00:00<?, ?it/s]"
      ]
     },
     "metadata": {},
     "output_type": "display_data"
    },
    {
     "name": "stderr",
     "output_type": "stream",
     "text": [
      "[I 2024-11-26 21:43:45,140] Trial 113 finished with value: 0.02294596954024508 and parameters: {'factors': 25, 'learning_rate': 8, 'regularization': 7, 'iterations': 10000}. Best is trial 20 with value: 0.02408674876150476.\n"
     ]
    },
    {
     "data": {
      "application/vnd.jupyter.widget-view+json": {
       "model_id": "a746665d798942518c80bf8f6a31ba40",
       "version_major": 2,
       "version_minor": 0
      },
      "text/plain": [
       "  0%|          | 0/10000 [00:00<?, ?it/s]"
      ]
     },
     "metadata": {},
     "output_type": "display_data"
    },
    {
     "data": {
      "application/vnd.jupyter.widget-view+json": {
       "model_id": "d77f8c2559f04ca38aa794f7aaa22165",
       "version_major": 2,
       "version_minor": 0
      },
      "text/plain": [
       "  0%|          | 0/2587 [00:00<?, ?it/s]"
      ]
     },
     "metadata": {},
     "output_type": "display_data"
    },
    {
     "name": "stderr",
     "output_type": "stream",
     "text": [
      "[I 2024-11-26 21:44:07,088] Trial 114 finished with value: 0.018052970772977604 and parameters: {'factors': 10, 'learning_rate': 5, 'regularization': 7, 'iterations': 10000}. Best is trial 20 with value: 0.02408674876150476.\n"
     ]
    },
    {
     "data": {
      "application/vnd.jupyter.widget-view+json": {
       "model_id": "a15d6d62565f4628b8ac684364195c39",
       "version_major": 2,
       "version_minor": 0
      },
      "text/plain": [
       "  0%|          | 0/10000 [00:00<?, ?it/s]"
      ]
     },
     "metadata": {},
     "output_type": "display_data"
    },
    {
     "data": {
      "application/vnd.jupyter.widget-view+json": {
       "model_id": "919c5f40f2d54f04a6d7f1d3e609be64",
       "version_major": 2,
       "version_minor": 0
      },
      "text/plain": [
       "  0%|          | 0/2587 [00:00<?, ?it/s]"
      ]
     },
     "metadata": {},
     "output_type": "display_data"
    },
    {
     "name": "stderr",
     "output_type": "stream",
     "text": [
      "[I 2024-11-26 21:45:34,743] Trial 115 finished with value: 0.017815537530375927 and parameters: {'factors': 30, 'learning_rate': 1, 'regularization': 7, 'iterations': 10000}. Best is trial 20 with value: 0.02408674876150476.\n"
     ]
    },
    {
     "data": {
      "application/vnd.jupyter.widget-view+json": {
       "model_id": "0ec976d32a5e4b95b72c96babcb945a5",
       "version_major": 2,
       "version_minor": 0
      },
      "text/plain": [
       "  0%|          | 0/7 [00:00<?, ?it/s]"
      ]
     },
     "metadata": {},
     "output_type": "display_data"
    },
    {
     "data": {
      "application/vnd.jupyter.widget-view+json": {
       "model_id": "537edf9dc7834a95afe924bda09c439e",
       "version_major": 2,
       "version_minor": 0
      },
      "text/plain": [
       "  0%|          | 0/2587 [00:00<?, ?it/s]"
      ]
     },
     "metadata": {},
     "output_type": "display_data"
    },
    {
     "name": "stderr",
     "output_type": "stream",
     "text": [
      "[I 2024-11-26 21:45:35,133] Trial 116 finished with value: 0.0018651372011836403 and parameters: {'factors': 8, 'learning_rate': 8, 'regularization': 7, 'iterations': 7}. Best is trial 20 with value: 0.02408674876150476.\n"
     ]
    },
    {
     "data": {
      "application/vnd.jupyter.widget-view+json": {
       "model_id": "2bd3d8dfc60944b9924a62a57a351b61",
       "version_major": 2,
       "version_minor": 0
      },
      "text/plain": [
       "  0%|          | 0/10 [00:00<?, ?it/s]"
      ]
     },
     "metadata": {},
     "output_type": "display_data"
    },
    {
     "data": {
      "application/vnd.jupyter.widget-view+json": {
       "model_id": "1ef2dc685ecb40218df4d1955a497d06",
       "version_major": 2,
       "version_minor": 0
      },
      "text/plain": [
       "  0%|          | 0/2587 [00:00<?, ?it/s]"
      ]
     },
     "metadata": {},
     "output_type": "display_data"
    },
    {
     "name": "stderr",
     "output_type": "stream",
     "text": [
      "[I 2024-11-26 21:45:35,526] Trial 117 finished with value: 0.018052970772977604 and parameters: {'factors': 6, 'learning_rate': 2, 'regularization': 7, 'iterations': 10}. Best is trial 20 with value: 0.02408674876150476.\n"
     ]
    },
    {
     "data": {
      "application/vnd.jupyter.widget-view+json": {
       "model_id": "c22c30c32370467388ea64a6205a33e0",
       "version_major": 2,
       "version_minor": 0
      },
      "text/plain": [
       "  0%|          | 0/12 [00:00<?, ?it/s]"
      ]
     },
     "metadata": {},
     "output_type": "display_data"
    },
    {
     "data": {
      "application/vnd.jupyter.widget-view+json": {
       "model_id": "9c4a8a0f583c454faffd6db1e7c4df00",
       "version_major": 2,
       "version_minor": 0
      },
      "text/plain": [
       "  0%|          | 0/2587 [00:00<?, ?it/s]"
      ]
     },
     "metadata": {},
     "output_type": "display_data"
    },
    {
     "name": "stderr",
     "output_type": "stream",
     "text": [
      "[I 2024-11-26 21:45:35,965] Trial 118 finished with value: 0.00033458411928211665 and parameters: {'factors': 15, 'learning_rate': 8, 'regularization': 2, 'iterations': 12}. Best is trial 20 with value: 0.02408674876150476.\n"
     ]
    },
    {
     "data": {
      "application/vnd.jupyter.widget-view+json": {
       "model_id": "26ee2463ee1f41e1a5fe1f7824b72f03",
       "version_major": 2,
       "version_minor": 0
      },
      "text/plain": [
       "  0%|          | 0/100 [00:00<?, ?it/s]"
      ]
     },
     "metadata": {},
     "output_type": "display_data"
    },
    {
     "data": {
      "application/vnd.jupyter.widget-view+json": {
       "model_id": "5d3e079f86394c6c940a6de3b1aea08f",
       "version_major": 2,
       "version_minor": 0
      },
      "text/plain": [
       "  0%|          | 0/2587 [00:00<?, ?it/s]"
      ]
     },
     "metadata": {},
     "output_type": "display_data"
    },
    {
     "name": "stderr",
     "output_type": "stream",
     "text": [
      "[I 2024-11-26 21:45:37,239] Trial 119 finished with value: 0.0 and parameters: {'factors': 30, 'learning_rate': 0.001, 'regularization': 7, 'iterations': 100}. Best is trial 20 with value: 0.02408674876150476.\n"
     ]
    },
    {
     "data": {
      "application/vnd.jupyter.widget-view+json": {
       "model_id": "82cb8d8587bf4c5bbe1e666f9c577b4b",
       "version_major": 2,
       "version_minor": 0
      },
      "text/plain": [
       "  0%|          | 0/17 [00:00<?, ?it/s]"
      ]
     },
     "metadata": {},
     "output_type": "display_data"
    },
    {
     "data": {
      "application/vnd.jupyter.widget-view+json": {
       "model_id": "4265996c74114b10adbb122c043d2054",
       "version_major": 2,
       "version_minor": 0
      },
      "text/plain": [
       "  0%|          | 0/2587 [00:00<?, ?it/s]"
      ]
     },
     "metadata": {},
     "output_type": "display_data"
    },
    {
     "name": "stderr",
     "output_type": "stream",
     "text": [
      "[I 2024-11-26 21:45:37,663] Trial 120 finished with value: 0.005776227669061573 and parameters: {'factors': 12, 'learning_rate': 10, 'regularization': 5, 'iterations': 17}. Best is trial 20 with value: 0.02408674876150476.\n"
     ]
    },
    {
     "data": {
      "application/vnd.jupyter.widget-view+json": {
       "model_id": "50de4b58517b4b688069b2cb6376aab5",
       "version_major": 2,
       "version_minor": 0
      },
      "text/plain": [
       "  0%|          | 0/200 [00:00<?, ?it/s]"
      ]
     },
     "metadata": {},
     "output_type": "display_data"
    },
    {
     "data": {
      "application/vnd.jupyter.widget-view+json": {
       "model_id": "b93f300a433447d08d80359cbee14a1c",
       "version_major": 2,
       "version_minor": 0
      },
      "text/plain": [
       "  0%|          | 0/2587 [00:00<?, ?it/s]"
      ]
     },
     "metadata": {},
     "output_type": "display_data"
    },
    {
     "name": "stderr",
     "output_type": "stream",
     "text": [
      "[I 2024-11-26 21:45:39,806] Trial 121 finished with value: 0.022971518341635928 and parameters: {'factors': 30, 'learning_rate': 8, 'regularization': 9, 'iterations': 200}. Best is trial 20 with value: 0.02408674876150476.\n"
     ]
    },
    {
     "data": {
      "application/vnd.jupyter.widget-view+json": {
       "model_id": "2e6301d8364f4735a983b91e913cab25",
       "version_major": 2,
       "version_minor": 0
      },
      "text/plain": [
       "  0%|          | 0/11 [00:00<?, ?it/s]"
      ]
     },
     "metadata": {},
     "output_type": "display_data"
    },
    {
     "data": {
      "application/vnd.jupyter.widget-view+json": {
       "model_id": "95f081c4b2b54c3bb0e47329659e92a8",
       "version_major": 2,
       "version_minor": 0
      },
      "text/plain": [
       "  0%|          | 0/2587 [00:00<?, ?it/s]"
      ]
     },
     "metadata": {},
     "output_type": "display_data"
    },
    {
     "name": "stderr",
     "output_type": "stream",
     "text": [
      "[I 2024-11-26 21:45:40,303] Trial 122 finished with value: 0.003581930128656242 and parameters: {'factors': 30, 'learning_rate': 8, 'regularization': 9, 'iterations': 11}. Best is trial 20 with value: 0.02408674876150476.\n"
     ]
    },
    {
     "data": {
      "application/vnd.jupyter.widget-view+json": {
       "model_id": "1f26dfd2fec44d89a875082b20ff2c0f",
       "version_major": 2,
       "version_minor": 0
      },
      "text/plain": [
       "  0%|          | 0/9 [00:00<?, ?it/s]"
      ]
     },
     "metadata": {},
     "output_type": "display_data"
    },
    {
     "data": {
      "application/vnd.jupyter.widget-view+json": {
       "model_id": "c5a5dd3725d84a1ebb38bf7e2e5129bf",
       "version_major": 2,
       "version_minor": 0
      },
      "text/plain": [
       "  0%|          | 0/2587 [00:00<?, ?it/s]"
      ]
     },
     "metadata": {},
     "output_type": "display_data"
    },
    {
     "name": "stderr",
     "output_type": "stream",
     "text": [
      "[I 2024-11-26 21:45:40,777] Trial 123 finished with value: 0.005652328207178485 and parameters: {'factors': 30, 'learning_rate': 8, 'regularization': 9, 'iterations': 9}. Best is trial 20 with value: 0.02408674876150476.\n"
     ]
    },
    {
     "data": {
      "application/vnd.jupyter.widget-view+json": {
       "model_id": "52c4aebddd7642cd93930c4e7e68bfb4",
       "version_major": 2,
       "version_minor": 0
      },
      "text/plain": [
       "  0%|          | 0/500 [00:00<?, ?it/s]"
      ]
     },
     "metadata": {},
     "output_type": "display_data"
    },
    {
     "data": {
      "application/vnd.jupyter.widget-view+json": {
       "model_id": "acb4a028db1549b6a85c6e20f43b5de9",
       "version_major": 2,
       "version_minor": 0
      },
      "text/plain": [
       "  0%|          | 0/2587 [00:00<?, ?it/s]"
      ]
     },
     "metadata": {},
     "output_type": "display_data"
    },
    {
     "name": "stderr",
     "output_type": "stream",
     "text": [
      "[I 2024-11-26 21:45:41,423] Trial 124 finished with value: 0.008518302811692392 and parameters: {'factors': 1, 'learning_rate': 8, 'regularization': 0.5, 'iterations': 500}. Best is trial 20 with value: 0.02408674876150476.\n"
     ]
    },
    {
     "data": {
      "application/vnd.jupyter.widget-view+json": {
       "model_id": "5071c222928c4cc48fe9a962666d06ff",
       "version_major": 2,
       "version_minor": 0
      },
      "text/plain": [
       "  0%|          | 0/2 [00:00<?, ?it/s]"
      ]
     },
     "metadata": {},
     "output_type": "display_data"
    },
    {
     "data": {
      "application/vnd.jupyter.widget-view+json": {
       "model_id": "aa00d79ebd3c4e5fbc17c46e3b3e5158",
       "version_major": 2,
       "version_minor": 0
      },
      "text/plain": [
       "  0%|          | 0/2587 [00:00<?, ?it/s]"
      ]
     },
     "metadata": {},
     "output_type": "display_data"
    },
    {
     "name": "stderr",
     "output_type": "stream",
     "text": [
      "[I 2024-11-26 21:45:41,830] Trial 125 finished with value: 0.0028524397417964546 and parameters: {'factors': 30, 'learning_rate': 6, 'regularization': 0.1, 'iterations': 2}. Best is trial 20 with value: 0.02408674876150476.\n"
     ]
    },
    {
     "data": {
      "application/vnd.jupyter.widget-view+json": {
       "model_id": "764015cf12064310a73430087dd6e138",
       "version_major": 2,
       "version_minor": 0
      },
      "text/plain": [
       "  0%|          | 0/5 [00:00<?, ?it/s]"
      ]
     },
     "metadata": {},
     "output_type": "display_data"
    },
    {
     "data": {
      "application/vnd.jupyter.widget-view+json": {
       "model_id": "2a5bef7f8a1a4a8ea6f921d8f3ee0f9c",
       "version_major": 2,
       "version_minor": 0
      },
      "text/plain": [
       "  0%|          | 0/2587 [00:00<?, ?it/s]"
      ]
     },
     "metadata": {},
     "output_type": "display_data"
    },
    {
     "name": "stderr",
     "output_type": "stream",
     "text": [
      "[I 2024-11-26 21:45:42,257] Trial 126 finished with value: 0.0044180313058258406 and parameters: {'factors': 30, 'learning_rate': 8, 'regularization': 9, 'iterations': 5}. Best is trial 20 with value: 0.02408674876150476.\n"
     ]
    },
    {
     "data": {
      "application/vnd.jupyter.widget-view+json": {
       "model_id": "9d71f8fbfa3f4eb18b707575374f56d3",
       "version_major": 2,
       "version_minor": 0
      },
      "text/plain": [
       "  0%|          | 0/200 [00:00<?, ?it/s]"
      ]
     },
     "metadata": {},
     "output_type": "display_data"
    },
    {
     "data": {
      "application/vnd.jupyter.widget-view+json": {
       "model_id": "87f31272520148c881a982cd1713bac9",
       "version_major": 2,
       "version_minor": 0
      },
      "text/plain": [
       "  0%|          | 0/2587 [00:00<?, ?it/s]"
      ]
     },
     "metadata": {},
     "output_type": "display_data"
    },
    {
     "name": "stderr",
     "output_type": "stream",
     "text": [
      "[I 2024-11-26 21:45:47,960] Trial 127 finished with value: 0.00028397346850072603 and parameters: {'factors': 75, 'learning_rate': 0.01, 'regularization': 6, 'iterations': 200}. Best is trial 20 with value: 0.02408674876150476.\n"
     ]
    },
    {
     "data": {
      "application/vnd.jupyter.widget-view+json": {
       "model_id": "ecb4eeacd6004a72b27a6999fe3a50ba",
       "version_major": 2,
       "version_minor": 0
      },
      "text/plain": [
       "  0%|          | 0/3 [00:00<?, ?it/s]"
      ]
     },
     "metadata": {},
     "output_type": "display_data"
    },
    {
     "data": {
      "application/vnd.jupyter.widget-view+json": {
       "model_id": "b94f0489c3c74173b8b1e6a3f61b92c2",
       "version_major": 2,
       "version_minor": 0
      },
      "text/plain": [
       "  0%|          | 0/2587 [00:00<?, ?it/s]"
      ]
     },
     "metadata": {},
     "output_type": "display_data"
    },
    {
     "name": "stderr",
     "output_type": "stream",
     "text": [
      "[I 2024-11-26 21:45:48,469] Trial 128 finished with value: 0.003577040257193728 and parameters: {'factors': 100, 'learning_rate': 8, 'regularization': 10, 'iterations': 3}. Best is trial 20 with value: 0.02408674876150476.\n"
     ]
    },
    {
     "data": {
      "application/vnd.jupyter.widget-view+json": {
       "model_id": "833b801036a54660b555d60e9067b195",
       "version_major": 2,
       "version_minor": 0
      },
      "text/plain": [
       "  0%|          | 0/30 [00:00<?, ?it/s]"
      ]
     },
     "metadata": {},
     "output_type": "display_data"
    },
    {
     "data": {
      "application/vnd.jupyter.widget-view+json": {
       "model_id": "51a234abcc4c4973866e10458b9d30e6",
       "version_major": 2,
       "version_minor": 0
      },
      "text/plain": [
       "  0%|          | 0/2587 [00:00<?, ?it/s]"
      ]
     },
     "metadata": {},
     "output_type": "display_data"
    },
    {
     "name": "stderr",
     "output_type": "stream",
     "text": [
      "[I 2024-11-26 21:45:48,904] Trial 129 finished with value: 0.007236213533771396 and parameters: {'factors': 7, 'learning_rate': 1, 'regularization': 0.005, 'iterations': 30}. Best is trial 20 with value: 0.02408674876150476.\n"
     ]
    },
    {
     "data": {
      "application/vnd.jupyter.widget-view+json": {
       "model_id": "24d387545f6348a8ab2b1cceb0c3b631",
       "version_major": 2,
       "version_minor": 0
      },
      "text/plain": [
       "  0%|          | 0/4 [00:00<?, ?it/s]"
      ]
     },
     "metadata": {},
     "output_type": "display_data"
    },
    {
     "data": {
      "application/vnd.jupyter.widget-view+json": {
       "model_id": "8fbfe6b95d3d453f8e48fed354b9e543",
       "version_major": 2,
       "version_minor": 0
      },
      "text/plain": [
       "  0%|          | 0/2587 [00:00<?, ?it/s]"
      ]
     },
     "metadata": {},
     "output_type": "display_data"
    },
    {
     "name": "stderr",
     "output_type": "stream",
     "text": [
      "[I 2024-11-26 21:45:49,285] Trial 130 finished with value: 0.000811831650403639 and parameters: {'factors': 6, 'learning_rate': 0.005, 'regularization': 4, 'iterations': 4}. Best is trial 20 with value: 0.02408674876150476.\n"
     ]
    },
    {
     "data": {
      "application/vnd.jupyter.widget-view+json": {
       "model_id": "5c70e961832249f495077af469f4dd01",
       "version_major": 2,
       "version_minor": 0
      },
      "text/plain": [
       "  0%|          | 0/13 [00:00<?, ?it/s]"
      ]
     },
     "metadata": {},
     "output_type": "display_data"
    },
    {
     "data": {
      "application/vnd.jupyter.widget-view+json": {
       "model_id": "c218f222e8e24ce2b5cbbb76027df4a5",
       "version_major": 2,
       "version_minor": 0
      },
      "text/plain": [
       "  0%|          | 0/2587 [00:00<?, ?it/s]"
      ]
     },
     "metadata": {},
     "output_type": "display_data"
    },
    {
     "name": "stderr",
     "output_type": "stream",
     "text": [
      "[I 2024-11-26 21:45:49,798] Trial 131 finished with value: 0.020629619675276933 and parameters: {'factors': 30, 'learning_rate': 8, 'regularization': 9, 'iterations': 13}. Best is trial 20 with value: 0.02408674876150476.\n"
     ]
    },
    {
     "data": {
      "application/vnd.jupyter.widget-view+json": {
       "model_id": "f1a1c7edc6a347ff91596ddaee4c313c",
       "version_major": 2,
       "version_minor": 0
      },
      "text/plain": [
       "  0%|          | 0/200 [00:00<?, ?it/s]"
      ]
     },
     "metadata": {},
     "output_type": "display_data"
    },
    {
     "data": {
      "application/vnd.jupyter.widget-view+json": {
       "model_id": "18251d6d5c03462e8a8ac2252b0d7b82",
       "version_major": 2,
       "version_minor": 0
      },
      "text/plain": [
       "  0%|          | 0/2587 [00:00<?, ?it/s]"
      ]
     },
     "metadata": {},
     "output_type": "display_data"
    },
    {
     "name": "stderr",
     "output_type": "stream",
     "text": [
      "[I 2024-11-26 21:45:51,966] Trial 132 finished with value: 0.022971518341635928 and parameters: {'factors': 30, 'learning_rate': 8, 'regularization': 9, 'iterations': 200}. Best is trial 20 with value: 0.02408674876150476.\n"
     ]
    },
    {
     "data": {
      "application/vnd.jupyter.widget-view+json": {
       "model_id": "5b4c09e064aa4003909877d67f572856",
       "version_major": 2,
       "version_minor": 0
      },
      "text/plain": [
       "  0%|          | 0/200 [00:00<?, ?it/s]"
      ]
     },
     "metadata": {},
     "output_type": "display_data"
    },
    {
     "data": {
      "application/vnd.jupyter.widget-view+json": {
       "model_id": "5deea2128461455bbe833e0dceaa563b",
       "version_major": 2,
       "version_minor": 0
      },
      "text/plain": [
       "  0%|          | 0/2587 [00:00<?, ?it/s]"
      ]
     },
     "metadata": {},
     "output_type": "display_data"
    },
    {
     "name": "stderr",
     "output_type": "stream",
     "text": [
      "[I 2024-11-26 21:45:54,106] Trial 133 finished with value: 0.022971518341635928 and parameters: {'factors': 30, 'learning_rate': 8, 'regularization': 9, 'iterations': 200}. Best is trial 20 with value: 0.02408674876150476.\n"
     ]
    },
    {
     "data": {
      "application/vnd.jupyter.widget-view+json": {
       "model_id": "d1c8ea367bc1426db03f8f7c46e501dd",
       "version_major": 2,
       "version_minor": 0
      },
      "text/plain": [
       "  0%|          | 0/200 [00:00<?, ?it/s]"
      ]
     },
     "metadata": {},
     "output_type": "display_data"
    },
    {
     "data": {
      "application/vnd.jupyter.widget-view+json": {
       "model_id": "2b6a6099416b45ac93ab68596e2ee189",
       "version_major": 2,
       "version_minor": 0
      },
      "text/plain": [
       "  0%|          | 0/2587 [00:00<?, ?it/s]"
      ]
     },
     "metadata": {},
     "output_type": "display_data"
    },
    {
     "name": "stderr",
     "output_type": "stream",
     "text": [
      "[I 2024-11-26 21:45:56,282] Trial 134 finished with value: 0.0 and parameters: {'factors': 30, 'learning_rate': 0.05, 'regularization': 9, 'iterations': 200}. Best is trial 20 with value: 0.02408674876150476.\n"
     ]
    },
    {
     "data": {
      "application/vnd.jupyter.widget-view+json": {
       "model_id": "606473100a8641fba614b1ce1df8fd2c",
       "version_major": 2,
       "version_minor": 0
      },
      "text/plain": [
       "  0%|          | 0/6 [00:00<?, ?it/s]"
      ]
     },
     "metadata": {},
     "output_type": "display_data"
    },
    {
     "data": {
      "application/vnd.jupyter.widget-view+json": {
       "model_id": "a9f15c3fc8964f8788a6156e709c78e9",
       "version_major": 2,
       "version_minor": 0
      },
      "text/plain": [
       "  0%|          | 0/2587 [00:00<?, ?it/s]"
      ]
     },
     "metadata": {},
     "output_type": "display_data"
    },
    {
     "name": "stderr",
     "output_type": "stream",
     "text": [
      "[I 2024-11-26 21:45:56,692] Trial 135 finished with value: 0.012531448911267111 and parameters: {'factors': 14, 'learning_rate': 8, 'regularization': 9, 'iterations': 6}. Best is trial 20 with value: 0.02408674876150476.\n"
     ]
    },
    {
     "data": {
      "application/vnd.jupyter.widget-view+json": {
       "model_id": "6aaf969207a848eb9da0661c2efc8d48",
       "version_major": 2,
       "version_minor": 0
      },
      "text/plain": [
       "  0%|          | 0/20 [00:00<?, ?it/s]"
      ]
     },
     "metadata": {},
     "output_type": "display_data"
    },
    {
     "data": {
      "application/vnd.jupyter.widget-view+json": {
       "model_id": "709685a93f724ee1b8fe9f51cbb38359",
       "version_major": 2,
       "version_minor": 0
      },
      "text/plain": [
       "  0%|          | 0/2587 [00:00<?, ?it/s]"
      ]
     },
     "metadata": {},
     "output_type": "display_data"
    },
    {
     "name": "stderr",
     "output_type": "stream",
     "text": [
      "[I 2024-11-26 21:45:57,267] Trial 136 finished with value: 0.022243047929320206 and parameters: {'factors': 30, 'learning_rate': 2, 'regularization': 6, 'iterations': 20}. Best is trial 20 with value: 0.02408674876150476.\n"
     ]
    },
    {
     "data": {
      "application/vnd.jupyter.widget-view+json": {
       "model_id": "358eab6d764e4ac881b9ac9b6f45b111",
       "version_major": 2,
       "version_minor": 0
      },
      "text/plain": [
       "  0%|          | 0/10000 [00:00<?, ?it/s]"
      ]
     },
     "metadata": {},
     "output_type": "display_data"
    },
    {
     "data": {
      "application/vnd.jupyter.widget-view+json": {
       "model_id": "760acf132b10428eb4c4b5531081aab3",
       "version_major": 2,
       "version_minor": 0
      },
      "text/plain": [
       "  0%|          | 0/2587 [00:00<?, ?it/s]"
      ]
     },
     "metadata": {},
     "output_type": "display_data"
    },
    {
     "name": "stderr",
     "output_type": "stream",
     "text": [
      "[I 2024-11-26 21:46:05,529] Trial 137 finished with value: 0.007443104255858861 and parameters: {'factors': 3, 'learning_rate': 3, 'regularization': 0.05, 'iterations': 10000}. Best is trial 20 with value: 0.02408674876150476.\n"
     ]
    },
    {
     "data": {
      "application/vnd.jupyter.widget-view+json": {
       "model_id": "b86dbb39746745f8880930e356dd1997",
       "version_major": 2,
       "version_minor": 0
      },
      "text/plain": [
       "  0%|          | 0/200 [00:00<?, ?it/s]"
      ]
     },
     "metadata": {},
     "output_type": "display_data"
    },
    {
     "data": {
      "application/vnd.jupyter.widget-view+json": {
       "model_id": "1181b18a1591435fb6404ac9d6870598",
       "version_major": 2,
       "version_minor": 0
      },
      "text/plain": [
       "  0%|          | 0/2587 [00:00<?, ?it/s]"
      ]
     },
     "metadata": {},
     "output_type": "display_data"
    },
    {
     "name": "stderr",
     "output_type": "stream",
     "text": [
      "[I 2024-11-26 21:46:06,528] Trial 138 finished with value: 0.012927782505630637 and parameters: {'factors': 13, 'learning_rate': 8, 'regularization': 0.001, 'iterations': 200}. Best is trial 20 with value: 0.02408674876150476.\n"
     ]
    },
    {
     "data": {
      "application/vnd.jupyter.widget-view+json": {
       "model_id": "7e00b1315a2e431c81e92cb3491d0601",
       "version_major": 2,
       "version_minor": 0
      },
      "text/plain": [
       "  0%|          | 0/8 [00:00<?, ?it/s]"
      ]
     },
     "metadata": {},
     "output_type": "display_data"
    },
    {
     "data": {
      "application/vnd.jupyter.widget-view+json": {
       "model_id": "424e45c885cf4cb6be708d8cf0d0769b",
       "version_major": 2,
       "version_minor": 0
      },
      "text/plain": [
       "  0%|          | 0/2587 [00:00<?, ?it/s]"
      ]
     },
     "metadata": {},
     "output_type": "display_data"
    },
    {
     "name": "stderr",
     "output_type": "stream",
     "text": [
      "[I 2024-11-26 21:46:06,981] Trial 139 finished with value: 0.0017071929938153086 and parameters: {'factors': 30, 'learning_rate': 0.5, 'regularization': 8, 'iterations': 8}. Best is trial 20 with value: 0.02408674876150476.\n"
     ]
    },
    {
     "data": {
      "application/vnd.jupyter.widget-view+json": {
       "model_id": "363ccb925c3c42018d7898b003188675",
       "version_major": 2,
       "version_minor": 0
      },
      "text/plain": [
       "  0%|          | 0/200 [00:00<?, ?it/s]"
      ]
     },
     "metadata": {},
     "output_type": "display_data"
    },
    {
     "data": {
      "application/vnd.jupyter.widget-view+json": {
       "model_id": "1a1f76aac3a6459097e60cd265660a52",
       "version_major": 2,
       "version_minor": 0
      },
      "text/plain": [
       "  0%|          | 0/2587 [00:00<?, ?it/s]"
      ]
     },
     "metadata": {},
     "output_type": "display_data"
    },
    {
     "name": "stderr",
     "output_type": "stream",
     "text": [
      "[I 2024-11-26 21:46:08,483] Trial 140 finished with value: 0.01820374526747404 and parameters: {'factors': 20, 'learning_rate': 9, 'regularization': 7, 'iterations': 200}. Best is trial 20 with value: 0.02408674876150476.\n"
     ]
    },
    {
     "data": {
      "application/vnd.jupyter.widget-view+json": {
       "model_id": "845d86ecc1db4547b0328eb14faea3a4",
       "version_major": 2,
       "version_minor": 0
      },
      "text/plain": [
       "  0%|          | 0/200 [00:00<?, ?it/s]"
      ]
     },
     "metadata": {},
     "output_type": "display_data"
    },
    {
     "data": {
      "application/vnd.jupyter.widget-view+json": {
       "model_id": "2debdf037c4748c98162468b68a005ba",
       "version_major": 2,
       "version_minor": 0
      },
      "text/plain": [
       "  0%|          | 0/2587 [00:00<?, ?it/s]"
      ]
     },
     "metadata": {},
     "output_type": "display_data"
    },
    {
     "name": "stderr",
     "output_type": "stream",
     "text": [
      "[I 2024-11-26 21:46:10,599] Trial 141 finished with value: 0.022971518341635928 and parameters: {'factors': 30, 'learning_rate': 8, 'regularization': 9, 'iterations': 200}. Best is trial 20 with value: 0.02408674876150476.\n"
     ]
    },
    {
     "data": {
      "application/vnd.jupyter.widget-view+json": {
       "model_id": "48bec8a2c40b4a94b6876cd3c22d3740",
       "version_major": 2,
       "version_minor": 0
      },
      "text/plain": [
       "  0%|          | 0/200 [00:00<?, ?it/s]"
      ]
     },
     "metadata": {},
     "output_type": "display_data"
    },
    {
     "data": {
      "application/vnd.jupyter.widget-view+json": {
       "model_id": "5221f6bc31964829be21dfd26a563949",
       "version_major": 2,
       "version_minor": 0
      },
      "text/plain": [
       "  0%|          | 0/2587 [00:00<?, ?it/s]"
      ]
     },
     "metadata": {},
     "output_type": "display_data"
    },
    {
     "name": "stderr",
     "output_type": "stream",
     "text": [
      "[I 2024-11-26 21:46:12,718] Trial 142 finished with value: 0.022971518341635928 and parameters: {'factors': 30, 'learning_rate': 8, 'regularization': 9, 'iterations': 200}. Best is trial 20 with value: 0.02408674876150476.\n"
     ]
    },
    {
     "data": {
      "application/vnd.jupyter.widget-view+json": {
       "model_id": "a9169ce1f1464d8395062db14aefa8c1",
       "version_major": 2,
       "version_minor": 0
      },
      "text/plain": [
       "  0%|          | 0/25 [00:00<?, ?it/s]"
      ]
     },
     "metadata": {},
     "output_type": "display_data"
    },
    {
     "data": {
      "application/vnd.jupyter.widget-view+json": {
       "model_id": "67362c9c1d0a47e4b122f207df73c593",
       "version_major": 2,
       "version_minor": 0
      },
      "text/plain": [
       "  0%|          | 0/2587 [00:00<?, ?it/s]"
      ]
     },
     "metadata": {},
     "output_type": "display_data"
    },
    {
     "name": "stderr",
     "output_type": "stream",
     "text": [
      "[I 2024-11-26 21:46:13,332] Trial 143 finished with value: 0.02173529216899787 and parameters: {'factors': 30, 'learning_rate': 8, 'regularization': 9, 'iterations': 25}. Best is trial 20 with value: 0.02408674876150476.\n"
     ]
    },
    {
     "data": {
      "application/vnd.jupyter.widget-view+json": {
       "model_id": "b6143ad1f074463cac25a4d011ba697d",
       "version_major": 2,
       "version_minor": 0
      },
      "text/plain": [
       "  0%|          | 0/200 [00:00<?, ?it/s]"
      ]
     },
     "metadata": {},
     "output_type": "display_data"
    },
    {
     "data": {
      "application/vnd.jupyter.widget-view+json": {
       "model_id": "998a573173714db0a6e5737a418341a7",
       "version_major": 2,
       "version_minor": 0
      },
      "text/plain": [
       "  0%|          | 0/2587 [00:00<?, ?it/s]"
      ]
     },
     "metadata": {},
     "output_type": "display_data"
    },
    {
     "name": "stderr",
     "output_type": "stream",
     "text": [
      "[I 2024-11-26 21:46:14,131] Trial 144 finished with value: 0.018052970772977604 and parameters: {'factors': 9, 'learning_rate': 8, 'regularization': 9, 'iterations': 200}. Best is trial 20 with value: 0.02408674876150476.\n"
     ]
    },
    {
     "data": {
      "application/vnd.jupyter.widget-view+json": {
       "model_id": "067e8e38c9684653ac2d0d8e2cf9f846",
       "version_major": 2,
       "version_minor": 0
      },
      "text/plain": [
       "  0%|          | 0/200 [00:00<?, ?it/s]"
      ]
     },
     "metadata": {},
     "output_type": "display_data"
    },
    {
     "data": {
      "application/vnd.jupyter.widget-view+json": {
       "model_id": "5c9f162a090747748e6f9399aa7aaad0",
       "version_major": 2,
       "version_minor": 0
      },
      "text/plain": [
       "  0%|          | 0/2587 [00:00<?, ?it/s]"
      ]
     },
     "metadata": {},
     "output_type": "display_data"
    },
    {
     "name": "stderr",
     "output_type": "stream",
     "text": [
      "[I 2024-11-26 21:46:15,387] Trial 145 finished with value: 0.0218695088116101 and parameters: {'factors': 17, 'learning_rate': 0.1, 'regularization': 3, 'iterations': 200}. Best is trial 20 with value: 0.02408674876150476.\n"
     ]
    },
    {
     "data": {
      "application/vnd.jupyter.widget-view+json": {
       "model_id": "f466a3ff97f44389bd7b47f99af71576",
       "version_major": 2,
       "version_minor": 0
      },
      "text/plain": [
       "  0%|          | 0/75 [00:00<?, ?it/s]"
      ]
     },
     "metadata": {},
     "output_type": "display_data"
    },
    {
     "data": {
      "application/vnd.jupyter.widget-view+json": {
       "model_id": "79adcfae470c4eaf835ec039ab312a47",
       "version_major": 2,
       "version_minor": 0
      },
      "text/plain": [
       "  0%|          | 0/2587 [00:00<?, ?it/s]"
      ]
     },
     "metadata": {},
     "output_type": "display_data"
    },
    {
     "name": "stderr",
     "output_type": "stream",
     "text": [
      "[I 2024-11-26 21:46:15,855] Trial 146 finished with value: 0.0004727845286057936 and parameters: {'factors': 4, 'learning_rate': 0.0001, 'regularization': 6, 'iterations': 75}. Best is trial 20 with value: 0.02408674876150476.\n"
     ]
    },
    {
     "data": {
      "application/vnd.jupyter.widget-view+json": {
       "model_id": "da54b0d554264b6887b60ceb88117062",
       "version_major": 2,
       "version_minor": 0
      },
      "text/plain": [
       "  0%|          | 0/10000 [00:00<?, ?it/s]"
      ]
     },
     "metadata": {},
     "output_type": "display_data"
    },
    {
     "data": {
      "application/vnd.jupyter.widget-view+json": {
       "model_id": "137f297d4b5c4132962dc332e8d8710e",
       "version_major": 2,
       "version_minor": 0
      },
      "text/plain": [
       "  0%|          | 0/2587 [00:00<?, ?it/s]"
      ]
     },
     "metadata": {},
     "output_type": "display_data"
    },
    {
     "name": "stderr",
     "output_type": "stream",
     "text": [
      "[I 2024-11-26 21:46:28,174] Trial 147 finished with value: 0.0008505670503240928 and parameters: {'factors': 5, 'learning_rate': 0.0005, 'regularization': 9, 'iterations': 10000}. Best is trial 20 with value: 0.02408674876150476.\n"
     ]
    },
    {
     "data": {
      "application/vnd.jupyter.widget-view+json": {
       "model_id": "9e160f749c7d4ab0b8b59c704229d91a",
       "version_major": 2,
       "version_minor": 0
      },
      "text/plain": [
       "  0%|          | 0/200 [00:00<?, ?it/s]"
      ]
     },
     "metadata": {},
     "output_type": "display_data"
    },
    {
     "data": {
      "application/vnd.jupyter.widget-view+json": {
       "model_id": "2c9f283422f1461b972f521cce5aa546",
       "version_major": 2,
       "version_minor": 0
      },
      "text/plain": [
       "  0%|          | 0/2587 [00:00<?, ?it/s]"
      ]
     },
     "metadata": {},
     "output_type": "display_data"
    },
    {
     "name": "stderr",
     "output_type": "stream",
     "text": [
      "[I 2024-11-26 21:46:29,056] Trial 148 finished with value: 0.008397483230039294 and parameters: {'factors': 11, 'learning_rate': 8, 'regularization': 1, 'iterations': 200}. Best is trial 20 with value: 0.02408674876150476.\n"
     ]
    },
    {
     "data": {
      "application/vnd.jupyter.widget-view+json": {
       "model_id": "a23697464c794105b239708ed8e593fc",
       "version_major": 2,
       "version_minor": 0
      },
      "text/plain": [
       "  0%|          | 0/1 [00:00<?, ?it/s]"
      ]
     },
     "metadata": {},
     "output_type": "display_data"
    },
    {
     "data": {
      "application/vnd.jupyter.widget-view+json": {
       "model_id": "1e60deace1114d0d890aa30474e86bac",
       "version_major": 2,
       "version_minor": 0
      },
      "text/plain": [
       "  0%|          | 0/2587 [00:00<?, ?it/s]"
      ]
     },
     "metadata": {},
     "output_type": "display_data"
    },
    {
     "name": "stderr",
     "output_type": "stream",
     "text": [
      "[I 2024-11-26 21:46:29,440] Trial 149 finished with value: 0.00035833462100399023 and parameters: {'factors': 30, 'learning_rate': 8, 'regularization': 0.01, 'iterations': 1}. Best is trial 20 with value: 0.02408674876150476.\n"
     ]
    }
   ],
   "source": [
    "# cоздаем объект исследования\n",
    "stud = optuna.create_study(direction=\"maximize\")\n",
    "\n",
    "\n",
    "# ищем лучшую комбинацию гиперпараметров\n",
    "stud.optimize(opt_Ext, n_trials=150)"
   ]
  },
  {
   "cell_type": "code",
   "execution_count": 26,
   "metadata": {},
   "outputs": [
    {
     "name": "stdout",
     "output_type": "stream",
     "text": [
      "{'factors': 75, 'learning_rate': 2, 'regularization': 6, 'iterations': 200}\n"
     ]
    }
   ],
   "source": [
    "print(stud.best_params)"
   ]
  },
  {
   "cell_type": "code",
   "execution_count": 27,
   "metadata": {},
   "outputs": [
    {
     "data": {
      "application/vnd.jupyter.widget-view+json": {
       "model_id": "14d84ed247f64f4abe437fcf2893913f",
       "version_major": 2,
       "version_minor": 0
      },
      "text/plain": [
       "  0%|          | 0/200 [00:00<?, ?it/s]"
      ]
     },
     "metadata": {},
     "output_type": "display_data"
    }
   ],
   "source": [
    "best_model_implicit = LogisticMatrixFactorization(\n",
    "                                                factors=stud.best_params['factors'],\n",
    "                                                learning_rate=stud.best_params['learning_rate'],\n",
    "                                                regularization=stud.best_params['regularization'],\n",
    "                                                iterations=stud.best_params['iterations'],\n",
    "                                                num_threads = num_threads,\n",
    "                                                random_state=random_state)\n",
    "\n",
    "\n",
    "best_model_implicit.fit(train_pivot_sparse)\n",
    "\n",
    "\n",
    "# # Производим сериализацию и записываем результат в файл формата pkl\n",
    "with open('models/best_model_implicit.pkl', 'wb') as output:\n",
    "    pickle.dump(best_model_implicit, output)"
   ]
  },
  {
   "cell_type": "code",
   "execution_count": 28,
   "metadata": {},
   "outputs": [
    {
     "data": {
      "application/vnd.jupyter.widget-view+json": {
       "model_id": "a73a600dc1254034834157db45c117e0",
       "version_major": 2,
       "version_minor": 0
      },
      "text/plain": [
       "  0%|          | 0/2542 [00:00<?, ?it/s]"
      ]
     },
     "metadata": {},
     "output_type": "display_data"
    },
    {
     "data": {
      "text/plain": [
       "{'precision': 0.029427220178665267,\n",
       " 'map': 0.019942739749978157,\n",
       " 'ndcg': 0.024468867344123933,\n",
       " 'auc': 0.5109190840171624}"
      ]
     },
     "execution_count": 28,
     "metadata": {},
     "output_type": "execute_result"
    }
   ],
   "source": [
    "temp = ranking_metrics_at_k(best_model_implicit, train_pivot_sparse, test_pivot_sparse, K=3)\n",
    "temp"
   ]
  },
  {
   "cell_type": "markdown",
   "metadata": {},
   "source": [
    "* Значение AUC ~ 0.5 указывает на случайное предсказание.\n",
    "* Значение AUC 1.0 указывает на идеальное предсказание.\n",
    "\n",
    "Высокое значение AUC (ближе к 1) означает, что модель лучше отделяет положительные примеры от отрицательных.  \n",
    "В нашем случае идет простое угадвание."
   ]
  },
  {
   "cell_type": "markdown",
   "metadata": {},
   "source": [
    "Получение рекомендаций"
   ]
  },
  {
   "cell_type": "code",
   "execution_count": 29,
   "metadata": {},
   "outputs": [
    {
     "name": "stdout",
     "output_type": "stream",
     "text": [
      "Индекс пользователя 274515 в списке: 1528\n",
      "Recomendations for user 274515: [461686, 7943, 213834, 312728, 29196, 445351, 37029, 17478, 48030, 409804]\n",
      "Recomendations for user 274515: [0.63014764 0.43807432 0.4228501  0.38476017 0.29422966 0.23296584\n",
      " 0.187371   0.17809014 0.174434   0.17265438]\n"
     ]
    }
   ],
   "source": [
    "user_id = 274515\n",
    "\n",
    "train_pivot_list = train_pivot.index.tolist()\n",
    "\n",
    "flag = 0\n",
    "try:\n",
    "    # Получение индекса элемента\n",
    "    index_user = train_pivot_list.index(user_id)\n",
    "    print(f\"Индекс пользователя {user_id} в списке: {index_user}\")\n",
    "    # Получение рекомендаций\n",
    "    flag = 1\n",
    "\n",
    "except ValueError:\n",
    "    print(f\"Пользователь {user_id} не найден в списке.\")\n",
    "\n",
    "if flag:\n",
    "    recomendations_ids, scores = best_model_implicit.recommend(index_user, train_pivot_sparse[index_user], N=10)\n",
    "    unique_items = np.array(train_pivot.columns)\n",
    "    recomendations = unique_items[recomendations_ids].tolist()\n",
    "\n",
    "    print(f'Recomendations for user {user_id}: {recomendations}')\n",
    "    print(f'Recomendations for user {user_id}: {scores}')"
   ]
  },
  {
   "cell_type": "code",
   "execution_count": 30,
   "metadata": {},
   "outputs": [],
   "source": [
    "unique_items = np.array(train_pivot.columns)"
   ]
  },
  {
   "cell_type": "code",
   "execution_count": 31,
   "metadata": {},
   "outputs": [],
   "source": [
    "# # Производим сериализацию и записываем результат в файл формата pkl\n",
    "with open('data/train_pivot_list_implicit.pkl', 'wb') as output:\n",
    "    pickle.dump(train_pivot_list, output)\n",
    "\n",
    "with open('data/train_pivot_sparse_implicit.pkl', 'wb') as output:\n",
    "    pickle.dump(train_pivot_sparse, output)\n",
    "\n",
    "with open('data/unique_items.pkl', 'wb') as output:\n",
    "    pickle.dump(unique_items, output)"
   ]
  }
 ],
 "metadata": {
  "kernelspec": {
   "display_name": "virt_cute_ranking",
   "language": "python",
   "name": "python3"
  },
  "language_info": {
   "codemirror_mode": {
    "name": "ipython",
    "version": 3
   },
   "file_extension": ".py",
   "mimetype": "text/x-python",
   "name": "python",
   "nbconvert_exporter": "python",
   "pygments_lexer": "ipython3",
   "version": "3.8.20"
  }
 },
 "nbformat": 4,
 "nbformat_minor": 2
}
